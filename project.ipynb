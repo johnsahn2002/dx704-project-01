{
  "cells": [
    {
      "cell_type": "markdown",
      "metadata": {
        "id": "DDELa7o5UXrY"
      },
      "source": [
        "# DX 704 Week 1 Project\n",
        "\n",
        "This week's project will build a portfolio risk and return model, and make investing recommendations for hypothetical clients.\n",
        "You will collect historical data, estimate returns and risks, construct efficient frontier portfolios, and sanity check the certainty of the maximum return portfolio."
      ]
    },
    {
      "cell_type": "markdown",
      "metadata": {
        "id": "P6SxppNu8p8k"
      },
      "source": [
        "The full project description and a template notebook are available on GitHub at the following link.\n",
        "\n",
        "https://github.com/bu-cds-dx704/dx704-project-01\n"
      ]
    },
    {
      "cell_type": "markdown",
      "metadata": {
        "id": "GmIaQcdCwObV"
      },
      "source": [
        "Feel free to use optimization tools or libraries (such as CVXOPT or scipy.optimize) to perform any calculations required for this mini project."
      ]
    },
    {
      "cell_type": "markdown",
      "metadata": {},
      "source": [
        "### Example Code\n",
        "\n",
        "You may find it helpful to refer to these GitHub repositories of Jupyter notebooks for example code.\n",
        "\n",
        "* https://github.com/bu-cds-omds/dx601-examples\n",
        "* https://github.com/bu-cds-omds/dx602-examples\n",
        "* https://github.com/bu-cds-omds/dx603-examples\n",
        "* https://github.com/bu-cds-omds/dx704-examples\n",
        "\n",
        "Any calculations demonstrated in code examples or videos may be found in these notebooks, and you are allowed to copy this example code in your homework answers."
      ]
    },
    {
      "cell_type": "markdown",
      "metadata": {
        "id": "pv3PslO0V5Lm"
      },
      "source": [
        "## Part 1: Collect Data\n",
        "\n",
        "Collect historical monthly price data for the last 24 months covering 6 different stocks.\n",
        "The data should cover 24 consecutive months including the last month that ended before this week's material was released on Blackboard.\n",
        "To be clear, if a month ends between the Blackboard release and submitting your project, you do not need to add that month.\n",
        "\n",
        "The six different stocks must include AAPL, SPY and TSLA.\n",
        "At least one of the remaining 3 tickers must start with the same letter as your last name (e.g. professor Considine could use COIN).\n",
        "This is to encourage diversity in what stocks you analyze; if you discuss this project with classmates, please make sure that you pick different tickers to differentiate your work.\n",
        "Do not pick stocks with fewer than 24 consecutive months of price data."
      ]
    },
    {
      "cell_type": "code",
      "execution_count": 4,
      "metadata": {
        "id": "6pL-ppubxfvC"
      },
      "outputs": [
        {
          "data": {
            "text/html": [
              "<div>\n",
              "<style scoped>\n",
              "    .dataframe tbody tr th:only-of-type {\n",
              "        vertical-align: middle;\n",
              "    }\n",
              "\n",
              "    .dataframe tbody tr th {\n",
              "        vertical-align: top;\n",
              "    }\n",
              "\n",
              "    .dataframe thead th {\n",
              "        text-align: right;\n",
              "    }\n",
              "</style>\n",
              "<table border=\"1\" class=\"dataframe\">\n",
              "  <thead>\n",
              "    <tr style=\"text-align: right;\">\n",
              "      <th></th>\n",
              "      <th>AAPL</th>\n",
              "      <th>AMZN</th>\n",
              "      <th>SPY</th>\n",
              "      <th>TSLA</th>\n",
              "      <th>IBM</th>\n",
              "      <th>JNJ</th>\n",
              "    </tr>\n",
              "    <tr>\n",
              "      <th>Date</th>\n",
              "      <th></th>\n",
              "      <th></th>\n",
              "      <th></th>\n",
              "      <th></th>\n",
              "      <th></th>\n",
              "      <th></th>\n",
              "    </tr>\n",
              "  </thead>\n",
              "  <tbody>\n",
              "    <tr>\n",
              "      <th>2023-09</th>\n",
              "      <td>169.549255</td>\n",
              "      <td>127.120003</td>\n",
              "      <td>417.865692</td>\n",
              "      <td>250.220001</td>\n",
              "      <td>131.234131</td>\n",
              "      <td>146.245300</td>\n",
              "    </tr>\n",
              "    <tr>\n",
              "      <th>2023-10</th>\n",
              "      <td>169.113571</td>\n",
              "      <td>133.089996</td>\n",
              "      <td>408.794403</td>\n",
              "      <td>200.839996</td>\n",
              "      <td>135.293671</td>\n",
              "      <td>139.287506</td>\n",
              "    </tr>\n",
              "    <tr>\n",
              "      <th>2023-11</th>\n",
              "      <td>188.355331</td>\n",
              "      <td>146.089996</td>\n",
              "      <td>446.135223</td>\n",
              "      <td>240.080002</td>\n",
              "      <td>149.996262</td>\n",
              "      <td>146.384766</td>\n",
              "    </tr>\n",
              "    <tr>\n",
              "      <th>2023-12</th>\n",
              "      <td>190.913651</td>\n",
              "      <td>151.940002</td>\n",
              "      <td>466.503632</td>\n",
              "      <td>248.479996</td>\n",
              "      <td>154.716736</td>\n",
              "      <td>148.353470</td>\n",
              "    </tr>\n",
              "    <tr>\n",
              "      <th>2024-01</th>\n",
              "      <td>182.851913</td>\n",
              "      <td>155.199997</td>\n",
              "      <td>473.933411</td>\n",
              "      <td>187.289993</td>\n",
              "      <td>173.740601</td>\n",
              "      <td>150.397903</td>\n",
              "    </tr>\n",
              "    <tr>\n",
              "      <th>2024-02</th>\n",
              "      <td>179.461258</td>\n",
              "      <td>176.759995</td>\n",
              "      <td>498.666504</td>\n",
              "      <td>201.880005</td>\n",
              "      <td>176.632401</td>\n",
              "      <td>153.904968</td>\n",
              "    </tr>\n",
              "    <tr>\n",
              "      <th>2024-03</th>\n",
              "      <td>170.257339</td>\n",
              "      <td>180.380005</td>\n",
              "      <td>514.973877</td>\n",
              "      <td>175.789993</td>\n",
              "      <td>182.293259</td>\n",
              "      <td>150.862732</td>\n",
              "    </tr>\n",
              "    <tr>\n",
              "      <th>2024-04</th>\n",
              "      <td>169.115555</td>\n",
              "      <td>175.000000</td>\n",
              "      <td>494.210327</td>\n",
              "      <td>183.279999</td>\n",
              "      <td>158.656982</td>\n",
              "      <td>137.892670</td>\n",
              "    </tr>\n",
              "    <tr>\n",
              "      <th>2024-05</th>\n",
              "      <td>191.138168</td>\n",
              "      <td>176.440002</td>\n",
              "      <td>519.207336</td>\n",
              "      <td>178.080002</td>\n",
              "      <td>160.858627</td>\n",
              "      <td>141.006989</td>\n",
              "    </tr>\n",
              "    <tr>\n",
              "      <th>2024-06</th>\n",
              "      <td>209.401901</td>\n",
              "      <td>193.250000</td>\n",
              "      <td>537.525024</td>\n",
              "      <td>197.880005</td>\n",
              "      <td>166.739594</td>\n",
              "      <td>140.516693</td>\n",
              "    </tr>\n",
              "    <tr>\n",
              "      <th>2024-07</th>\n",
              "      <td>220.795654</td>\n",
              "      <td>186.979996</td>\n",
              "      <td>544.033997</td>\n",
              "      <td>232.070007</td>\n",
              "      <td>185.240509</td>\n",
              "      <td>151.755310</td>\n",
              "    </tr>\n",
              "    <tr>\n",
              "      <th>2024-08</th>\n",
              "      <td>227.939178</td>\n",
              "      <td>178.500000</td>\n",
              "      <td>556.745667</td>\n",
              "      <td>214.110001</td>\n",
              "      <td>196.576172</td>\n",
              "      <td>160.666351</td>\n",
              "    </tr>\n",
              "    <tr>\n",
              "      <th>2024-09</th>\n",
              "      <td>231.920639</td>\n",
              "      <td>186.330002</td>\n",
              "      <td>568.439941</td>\n",
              "      <td>261.630005</td>\n",
              "      <td>215.005493</td>\n",
              "      <td>156.985336</td>\n",
              "    </tr>\n",
              "    <tr>\n",
              "      <th>2024-10</th>\n",
              "      <td>224.863480</td>\n",
              "      <td>186.399994</td>\n",
              "      <td>563.367371</td>\n",
              "      <td>249.850006</td>\n",
              "      <td>201.040054</td>\n",
              "      <td>154.854233</td>\n",
              "    </tr>\n",
              "    <tr>\n",
              "      <th>2024-11</th>\n",
              "      <td>236.490479</td>\n",
              "      <td>207.889999</td>\n",
              "      <td>596.962891</td>\n",
              "      <td>345.160004</td>\n",
              "      <td>222.904541</td>\n",
              "      <td>151.360901</td>\n",
              "    </tr>\n",
              "    <tr>\n",
              "      <th>2024-12</th>\n",
              "      <td>249.534180</td>\n",
              "      <td>219.389999</td>\n",
              "      <td>582.599915</td>\n",
              "      <td>403.839996</td>\n",
              "      <td>215.474716</td>\n",
              "      <td>141.215515</td>\n",
              "    </tr>\n",
              "    <tr>\n",
              "      <th>2025-01</th>\n",
              "      <td>235.165192</td>\n",
              "      <td>237.679993</td>\n",
              "      <td>598.246399</td>\n",
              "      <td>404.600006</td>\n",
              "      <td>250.634064</td>\n",
              "      <td>148.568253</td>\n",
              "    </tr>\n",
              "    <tr>\n",
              "      <th>2025-02</th>\n",
              "      <td>241.249481</td>\n",
              "      <td>212.279999</td>\n",
              "      <td>590.651794</td>\n",
              "      <td>292.980011</td>\n",
              "      <td>249.087143</td>\n",
              "      <td>162.425110</td>\n",
              "    </tr>\n",
              "    <tr>\n",
              "      <th>2025-03</th>\n",
              "      <td>221.587616</td>\n",
              "      <td>190.259995</td>\n",
              "      <td>557.741150</td>\n",
              "      <td>259.160004</td>\n",
              "      <td>245.357330</td>\n",
              "      <td>163.232208</td>\n",
              "    </tr>\n",
              "    <tr>\n",
              "      <th>2025-04</th>\n",
              "      <td>211.981125</td>\n",
              "      <td>184.419998</td>\n",
              "      <td>552.905457</td>\n",
              "      <td>282.160004</td>\n",
              "      <td>238.608200</td>\n",
              "      <td>153.852066</td>\n",
              "    </tr>\n",
              "    <tr>\n",
              "      <th>2025-05</th>\n",
              "      <td>200.622314</td>\n",
              "      <td>205.009995</td>\n",
              "      <td>587.652771</td>\n",
              "      <td>346.459991</td>\n",
              "      <td>257.320221</td>\n",
              "      <td>154.079056</td>\n",
              "    </tr>\n",
              "    <tr>\n",
              "      <th>2025-06</th>\n",
              "      <td>204.937408</td>\n",
              "      <td>219.389999</td>\n",
              "      <td>617.849976</td>\n",
              "      <td>317.660004</td>\n",
              "      <td>292.800354</td>\n",
              "      <td>151.636978</td>\n",
              "    </tr>\n",
              "    <tr>\n",
              "      <th>2025-07</th>\n",
              "      <td>207.334702</td>\n",
              "      <td>234.110001</td>\n",
              "      <td>632.080017</td>\n",
              "      <td>308.269989</td>\n",
              "      <td>251.449905</td>\n",
              "      <td>163.539612</td>\n",
              "    </tr>\n",
              "    <tr>\n",
              "      <th>2025-08</th>\n",
              "      <td>232.139999</td>\n",
              "      <td>229.000000</td>\n",
              "      <td>645.049988</td>\n",
              "      <td>333.869995</td>\n",
              "      <td>243.490005</td>\n",
              "      <td>177.169998</td>\n",
              "    </tr>\n",
              "    <tr>\n",
              "      <th>2025-09</th>\n",
              "      <td>239.020096</td>\n",
              "      <td>233.005005</td>\n",
              "      <td>645.209229</td>\n",
              "      <td>350.640015</td>\n",
              "      <td>246.514999</td>\n",
              "      <td>178.195007</td>\n",
              "    </tr>\n",
              "  </tbody>\n",
              "</table>\n",
              "</div>"
            ],
            "text/plain": [
              "               AAPL        AMZN         SPY        TSLA         IBM  \\\n",
              "Date                                                                  \n",
              "2023-09  169.549255  127.120003  417.865692  250.220001  131.234131   \n",
              "2023-10  169.113571  133.089996  408.794403  200.839996  135.293671   \n",
              "2023-11  188.355331  146.089996  446.135223  240.080002  149.996262   \n",
              "2023-12  190.913651  151.940002  466.503632  248.479996  154.716736   \n",
              "2024-01  182.851913  155.199997  473.933411  187.289993  173.740601   \n",
              "2024-02  179.461258  176.759995  498.666504  201.880005  176.632401   \n",
              "2024-03  170.257339  180.380005  514.973877  175.789993  182.293259   \n",
              "2024-04  169.115555  175.000000  494.210327  183.279999  158.656982   \n",
              "2024-05  191.138168  176.440002  519.207336  178.080002  160.858627   \n",
              "2024-06  209.401901  193.250000  537.525024  197.880005  166.739594   \n",
              "2024-07  220.795654  186.979996  544.033997  232.070007  185.240509   \n",
              "2024-08  227.939178  178.500000  556.745667  214.110001  196.576172   \n",
              "2024-09  231.920639  186.330002  568.439941  261.630005  215.005493   \n",
              "2024-10  224.863480  186.399994  563.367371  249.850006  201.040054   \n",
              "2024-11  236.490479  207.889999  596.962891  345.160004  222.904541   \n",
              "2024-12  249.534180  219.389999  582.599915  403.839996  215.474716   \n",
              "2025-01  235.165192  237.679993  598.246399  404.600006  250.634064   \n",
              "2025-02  241.249481  212.279999  590.651794  292.980011  249.087143   \n",
              "2025-03  221.587616  190.259995  557.741150  259.160004  245.357330   \n",
              "2025-04  211.981125  184.419998  552.905457  282.160004  238.608200   \n",
              "2025-05  200.622314  205.009995  587.652771  346.459991  257.320221   \n",
              "2025-06  204.937408  219.389999  617.849976  317.660004  292.800354   \n",
              "2025-07  207.334702  234.110001  632.080017  308.269989  251.449905   \n",
              "2025-08  232.139999  229.000000  645.049988  333.869995  243.490005   \n",
              "2025-09  239.020096  233.005005  645.209229  350.640015  246.514999   \n",
              "\n",
              "                JNJ  \n",
              "Date                 \n",
              "2023-09  146.245300  \n",
              "2023-10  139.287506  \n",
              "2023-11  146.384766  \n",
              "2023-12  148.353470  \n",
              "2024-01  150.397903  \n",
              "2024-02  153.904968  \n",
              "2024-03  150.862732  \n",
              "2024-04  137.892670  \n",
              "2024-05  141.006989  \n",
              "2024-06  140.516693  \n",
              "2024-07  151.755310  \n",
              "2024-08  160.666351  \n",
              "2024-09  156.985336  \n",
              "2024-10  154.854233  \n",
              "2024-11  151.360901  \n",
              "2024-12  141.215515  \n",
              "2025-01  148.568253  \n",
              "2025-02  162.425110  \n",
              "2025-03  163.232208  \n",
              "2025-04  153.852066  \n",
              "2025-05  154.079056  \n",
              "2025-06  151.636978  \n",
              "2025-07  163.539612  \n",
              "2025-08  177.169998  \n",
              "2025-09  178.195007  "
            ]
          },
          "execution_count": 4,
          "metadata": {},
          "output_type": "execute_result"
        }
      ],
      "source": [
        "# YOUR CHANGES HERE\n",
        "import cvxpy as cp\n",
        "import matplotlib.pyplot as plt \n",
        "import numpy as np \n",
        "import pandas as pd \n",
        "\n",
        "import yfinance as yf \n",
        "\n",
        "tickers = ['AAPL', 'AMZN', 'SPY', 'TSLA','IBM','JNJ']\n",
        "\n",
        "historical_prices = None\n",
        "\n",
        "for t in tickers:\n",
        "    ticker = yf.Ticker(t)\n",
        "    history = ticker.history(period='2y')\n",
        "\n",
        "    monthly_prices = history['Close'].resample('ME').last()\n",
        "\n",
        "    if historical_prices is None:\n",
        "        historical_prices = monthly_prices\n",
        "    else:\n",
        "        historical_prices = pd.concat([historical_prices, monthly_prices], axis = 1)\n",
        "...\n",
        "\n",
        "historical_prices.columns = tickers\n",
        "historical_prices.index = pd.to_datetime(historical_prices.index).strftime('%Y-%m')\n",
        "\n",
        "historical_prices"
      ]
    },
    {
      "cell_type": "markdown",
      "metadata": {
        "id": "1uH9oDQ1rEQT"
      },
      "source": [
        "Save the data as a TSV file named \"historical_prices.tsv\" and include a header row with the column names \"date\" and the 6 stock ticker symbols.\n",
        "The date should be the last trading day of the month, so it may not be the last day of the month.\n",
        "For example, the last trading day of November 2024 was 2024-11-29.\n",
        "The remaining columns should contain the adjusted closing prices of the corresponding stock tickers on that day.\n"
      ]
    },
    {
      "cell_type": "code",
      "execution_count": 5,
      "metadata": {
        "id": "mHbwKHOhtQ3E"
      },
      "outputs": [],
      "source": [
        "# YOUR CHANGES HERE\n",
        "historical_prices.to_csv('historical_prices.tsv', sep='\\t')\n"
      ]
    },
    {
      "cell_type": "markdown",
      "metadata": {
        "id": "2hp0yuXPtT9V"
      },
      "source": [
        "Submit \"historical_prices.tsv\" in Gradescope."
      ]
    },
    {
      "cell_type": "markdown",
      "metadata": {
        "id": "7XdNVWWirUd5"
      },
      "source": [
        "## Part 2: Calculate Historical Asset Returns\n",
        "\n",
        "Calculate the historical asset returns based on the price data that you previously collected."
      ]
    },
    {
      "cell_type": "code",
      "execution_count": 6,
      "metadata": {
        "id": "aL-kVua2xex-"
      },
      "outputs": [
        {
          "data": {
            "text/html": [
              "<div>\n",
              "<style scoped>\n",
              "    .dataframe tbody tr th:only-of-type {\n",
              "        vertical-align: middle;\n",
              "    }\n",
              "\n",
              "    .dataframe tbody tr th {\n",
              "        vertical-align: top;\n",
              "    }\n",
              "\n",
              "    .dataframe thead th {\n",
              "        text-align: right;\n",
              "    }\n",
              "</style>\n",
              "<table border=\"1\" class=\"dataframe\">\n",
              "  <thead>\n",
              "    <tr style=\"text-align: right;\">\n",
              "      <th></th>\n",
              "      <th>AAPL</th>\n",
              "      <th>AMZN</th>\n",
              "      <th>SPY</th>\n",
              "      <th>TSLA</th>\n",
              "      <th>IBM</th>\n",
              "      <th>JNJ</th>\n",
              "    </tr>\n",
              "    <tr>\n",
              "      <th>Date</th>\n",
              "      <th></th>\n",
              "      <th></th>\n",
              "      <th></th>\n",
              "      <th></th>\n",
              "      <th></th>\n",
              "      <th></th>\n",
              "    </tr>\n",
              "  </thead>\n",
              "  <tbody>\n",
              "    <tr>\n",
              "      <th>2023-10</th>\n",
              "      <td>-0.002570</td>\n",
              "      <td>0.046963</td>\n",
              "      <td>-0.021709</td>\n",
              "      <td>-0.197346</td>\n",
              "      <td>0.030934</td>\n",
              "      <td>-0.047576</td>\n",
              "    </tr>\n",
              "    <tr>\n",
              "      <th>2023-11</th>\n",
              "      <td>0.113780</td>\n",
              "      <td>0.097678</td>\n",
              "      <td>0.091344</td>\n",
              "      <td>0.195379</td>\n",
              "      <td>0.108672</td>\n",
              "      <td>0.050954</td>\n",
              "    </tr>\n",
              "    <tr>\n",
              "      <th>2023-12</th>\n",
              "      <td>0.013582</td>\n",
              "      <td>0.040044</td>\n",
              "      <td>0.045655</td>\n",
              "      <td>0.034988</td>\n",
              "      <td>0.031471</td>\n",
              "      <td>0.013449</td>\n",
              "    </tr>\n",
              "    <tr>\n",
              "      <th>2024-01</th>\n",
              "      <td>-0.042227</td>\n",
              "      <td>0.021456</td>\n",
              "      <td>0.015927</td>\n",
              "      <td>-0.246257</td>\n",
              "      <td>0.122959</td>\n",
              "      <td>0.013781</td>\n",
              "    </tr>\n",
              "    <tr>\n",
              "      <th>2024-02</th>\n",
              "      <td>-0.018543</td>\n",
              "      <td>0.138918</td>\n",
              "      <td>0.052187</td>\n",
              "      <td>0.077901</td>\n",
              "      <td>0.016644</td>\n",
              "      <td>0.023319</td>\n",
              "    </tr>\n",
              "    <tr>\n",
              "      <th>2024-03</th>\n",
              "      <td>-0.051286</td>\n",
              "      <td>0.020480</td>\n",
              "      <td>0.032702</td>\n",
              "      <td>-0.129235</td>\n",
              "      <td>0.032049</td>\n",
              "      <td>-0.019767</td>\n",
              "    </tr>\n",
              "    <tr>\n",
              "      <th>2024-04</th>\n",
              "      <td>-0.006706</td>\n",
              "      <td>-0.029826</td>\n",
              "      <td>-0.040320</td>\n",
              "      <td>0.042608</td>\n",
              "      <td>-0.129661</td>\n",
              "      <td>-0.085973</td>\n",
              "    </tr>\n",
              "    <tr>\n",
              "      <th>2024-05</th>\n",
              "      <td>0.130222</td>\n",
              "      <td>0.008229</td>\n",
              "      <td>0.050580</td>\n",
              "      <td>-0.028372</td>\n",
              "      <td>0.013877</td>\n",
              "      <td>0.022585</td>\n",
              "    </tr>\n",
              "    <tr>\n",
              "      <th>2024-06</th>\n",
              "      <td>0.095553</td>\n",
              "      <td>0.095273</td>\n",
              "      <td>0.035280</td>\n",
              "      <td>0.111186</td>\n",
              "      <td>0.036560</td>\n",
              "      <td>-0.003477</td>\n",
              "    </tr>\n",
              "    <tr>\n",
              "      <th>2024-07</th>\n",
              "      <td>0.054411</td>\n",
              "      <td>-0.032445</td>\n",
              "      <td>0.012109</td>\n",
              "      <td>0.172781</td>\n",
              "      <td>0.110957</td>\n",
              "      <td>0.079981</td>\n",
              "    </tr>\n",
              "    <tr>\n",
              "      <th>2024-08</th>\n",
              "      <td>0.032354</td>\n",
              "      <td>-0.045352</td>\n",
              "      <td>0.023366</td>\n",
              "      <td>-0.077390</td>\n",
              "      <td>0.061194</td>\n",
              "      <td>0.058720</td>\n",
              "    </tr>\n",
              "    <tr>\n",
              "      <th>2024-09</th>\n",
              "      <td>0.017467</td>\n",
              "      <td>0.043866</td>\n",
              "      <td>0.021005</td>\n",
              "      <td>0.221942</td>\n",
              "      <td>0.093752</td>\n",
              "      <td>-0.022911</td>\n",
              "    </tr>\n",
              "    <tr>\n",
              "      <th>2024-10</th>\n",
              "      <td>-0.030429</td>\n",
              "      <td>0.000376</td>\n",
              "      <td>-0.008924</td>\n",
              "      <td>-0.045025</td>\n",
              "      <td>-0.064954</td>\n",
              "      <td>-0.013575</td>\n",
              "    </tr>\n",
              "    <tr>\n",
              "      <th>2024-11</th>\n",
              "      <td>0.051707</td>\n",
              "      <td>0.115290</td>\n",
              "      <td>0.059633</td>\n",
              "      <td>0.381469</td>\n",
              "      <td>0.108757</td>\n",
              "      <td>-0.022559</td>\n",
              "    </tr>\n",
              "    <tr>\n",
              "      <th>2024-12</th>\n",
              "      <td>0.055155</td>\n",
              "      <td>0.055318</td>\n",
              "      <td>-0.024060</td>\n",
              "      <td>0.170008</td>\n",
              "      <td>-0.033332</td>\n",
              "      <td>-0.067028</td>\n",
              "    </tr>\n",
              "    <tr>\n",
              "      <th>2025-01</th>\n",
              "      <td>-0.057583</td>\n",
              "      <td>0.083367</td>\n",
              "      <td>0.026856</td>\n",
              "      <td>0.001882</td>\n",
              "      <td>0.163172</td>\n",
              "      <td>0.052067</td>\n",
              "    </tr>\n",
              "    <tr>\n",
              "      <th>2025-02</th>\n",
              "      <td>0.025872</td>\n",
              "      <td>-0.106866</td>\n",
              "      <td>-0.012695</td>\n",
              "      <td>-0.275877</td>\n",
              "      <td>-0.006172</td>\n",
              "      <td>0.093269</td>\n",
              "    </tr>\n",
              "    <tr>\n",
              "      <th>2025-03</th>\n",
              "      <td>-0.081500</td>\n",
              "      <td>-0.103731</td>\n",
              "      <td>-0.055719</td>\n",
              "      <td>-0.115435</td>\n",
              "      <td>-0.014974</td>\n",
              "      <td>0.004969</td>\n",
              "    </tr>\n",
              "    <tr>\n",
              "      <th>2025-04</th>\n",
              "      <td>-0.043353</td>\n",
              "      <td>-0.030695</td>\n",
              "      <td>-0.008670</td>\n",
              "      <td>0.088748</td>\n",
              "      <td>-0.027507</td>\n",
              "      <td>-0.057465</td>\n",
              "    </tr>\n",
              "    <tr>\n",
              "      <th>2025-05</th>\n",
              "      <td>-0.053584</td>\n",
              "      <td>0.111647</td>\n",
              "      <td>0.062845</td>\n",
              "      <td>0.227885</td>\n",
              "      <td>0.078422</td>\n",
              "      <td>0.001475</td>\n",
              "    </tr>\n",
              "    <tr>\n",
              "      <th>2025-06</th>\n",
              "      <td>0.021509</td>\n",
              "      <td>0.070143</td>\n",
              "      <td>0.051386</td>\n",
              "      <td>-0.083126</td>\n",
              "      <td>0.137883</td>\n",
              "      <td>-0.015850</td>\n",
              "    </tr>\n",
              "    <tr>\n",
              "      <th>2025-07</th>\n",
              "      <td>0.011698</td>\n",
              "      <td>0.067095</td>\n",
              "      <td>0.023032</td>\n",
              "      <td>-0.029560</td>\n",
              "      <td>-0.141224</td>\n",
              "      <td>0.078494</td>\n",
              "    </tr>\n",
              "    <tr>\n",
              "      <th>2025-08</th>\n",
              "      <td>0.119639</td>\n",
              "      <td>-0.021827</td>\n",
              "      <td>0.020520</td>\n",
              "      <td>0.083044</td>\n",
              "      <td>-0.031656</td>\n",
              "      <td>0.083346</td>\n",
              "    </tr>\n",
              "    <tr>\n",
              "      <th>2025-09</th>\n",
              "      <td>0.029638</td>\n",
              "      <td>0.017489</td>\n",
              "      <td>0.000247</td>\n",
              "      <td>0.050229</td>\n",
              "      <td>0.012423</td>\n",
              "      <td>0.005785</td>\n",
              "    </tr>\n",
              "  </tbody>\n",
              "</table>\n",
              "</div>"
            ],
            "text/plain": [
              "             AAPL      AMZN       SPY      TSLA       IBM       JNJ\n",
              "Date                                                               \n",
              "2023-10 -0.002570  0.046963 -0.021709 -0.197346  0.030934 -0.047576\n",
              "2023-11  0.113780  0.097678  0.091344  0.195379  0.108672  0.050954\n",
              "2023-12  0.013582  0.040044  0.045655  0.034988  0.031471  0.013449\n",
              "2024-01 -0.042227  0.021456  0.015927 -0.246257  0.122959  0.013781\n",
              "2024-02 -0.018543  0.138918  0.052187  0.077901  0.016644  0.023319\n",
              "2024-03 -0.051286  0.020480  0.032702 -0.129235  0.032049 -0.019767\n",
              "2024-04 -0.006706 -0.029826 -0.040320  0.042608 -0.129661 -0.085973\n",
              "2024-05  0.130222  0.008229  0.050580 -0.028372  0.013877  0.022585\n",
              "2024-06  0.095553  0.095273  0.035280  0.111186  0.036560 -0.003477\n",
              "2024-07  0.054411 -0.032445  0.012109  0.172781  0.110957  0.079981\n",
              "2024-08  0.032354 -0.045352  0.023366 -0.077390  0.061194  0.058720\n",
              "2024-09  0.017467  0.043866  0.021005  0.221942  0.093752 -0.022911\n",
              "2024-10 -0.030429  0.000376 -0.008924 -0.045025 -0.064954 -0.013575\n",
              "2024-11  0.051707  0.115290  0.059633  0.381469  0.108757 -0.022559\n",
              "2024-12  0.055155  0.055318 -0.024060  0.170008 -0.033332 -0.067028\n",
              "2025-01 -0.057583  0.083367  0.026856  0.001882  0.163172  0.052067\n",
              "2025-02  0.025872 -0.106866 -0.012695 -0.275877 -0.006172  0.093269\n",
              "2025-03 -0.081500 -0.103731 -0.055719 -0.115435 -0.014974  0.004969\n",
              "2025-04 -0.043353 -0.030695 -0.008670  0.088748 -0.027507 -0.057465\n",
              "2025-05 -0.053584  0.111647  0.062845  0.227885  0.078422  0.001475\n",
              "2025-06  0.021509  0.070143  0.051386 -0.083126  0.137883 -0.015850\n",
              "2025-07  0.011698  0.067095  0.023032 -0.029560 -0.141224  0.078494\n",
              "2025-08  0.119639 -0.021827  0.020520  0.083044 -0.031656  0.083346\n",
              "2025-09  0.029638  0.017489  0.000247  0.050229  0.012423  0.005785"
            ]
          },
          "execution_count": 6,
          "metadata": {},
          "output_type": "execute_result"
        }
      ],
      "source": [
        "# YOUR CHANGES HERE\n",
        "\n",
        "historical_returns = historical_prices.pct_change().dropna()\n",
        "historical_returns"
      ]
    },
    {
      "cell_type": "markdown",
      "metadata": {
        "id": "OjhEYCWOrIu3"
      },
      "source": [
        "Save the data as a TSV file named \"historical_returns.tsv\" and include a header row with the column names \"date\" and the 6 stock ticker symbols.\n",
        "Each row should have the date at the end of the month and the corresponding *relative* price changes.\n",
        "For example, if the previous price was \\$100 and the new price is \\$110, the return value should be 0.10.\n",
        "There should only be 23 rows of data in this file, since they are computed as the differences of 24 prices."
      ]
    },
    {
      "cell_type": "code",
      "execution_count": 7,
      "metadata": {
        "id": "cN-7q9QvvyKG"
      },
      "outputs": [],
      "source": [
        "# YOUR CHANGES HERE\n",
        "historical_returns.to_csv('historical_returns.tsv', sep='\\t')\n"
      ]
    },
    {
      "cell_type": "markdown",
      "metadata": {
        "id": "vyBtnCTUtfRq"
      },
      "source": [
        "Submit \"historical_returns.tsv\" in Gradescope."
      ]
    },
    {
      "cell_type": "markdown",
      "metadata": {
        "id": "MoCkf4ouV9IA"
      },
      "source": [
        "## Part 3: Estimate Returns\n",
        "\n",
        "Estimate the expected returns for each asset using the previously calculated return data.\n",
        "Just compute the average (mean) return for each asset over your data set; do not use other estimators that have been mentioned.\n",
        "This will serve as your estimate of expected return for each asset."
      ]
    },
    {
      "cell_type": "code",
      "execution_count": 8,
      "metadata": {
        "id": "N2iDEhSRxd2n"
      },
      "outputs": [
        {
          "data": {
            "text/html": [
              "<div>\n",
              "<style scoped>\n",
              "    .dataframe tbody tr th:only-of-type {\n",
              "        vertical-align: middle;\n",
              "    }\n",
              "\n",
              "    .dataframe tbody tr th {\n",
              "        vertical-align: top;\n",
              "    }\n",
              "\n",
              "    .dataframe thead th {\n",
              "        text-align: right;\n",
              "    }\n",
              "</style>\n",
              "<table border=\"1\" class=\"dataframe\">\n",
              "  <thead>\n",
              "    <tr style=\"text-align: right;\">\n",
              "      <th></th>\n",
              "      <th>estimated_returns</th>\n",
              "    </tr>\n",
              "    <tr>\n",
              "      <th>asset</th>\n",
              "      <th></th>\n",
              "    </tr>\n",
              "  </thead>\n",
              "  <tbody>\n",
              "    <tr>\n",
              "      <th>AAPL</th>\n",
              "      <td>0.016034</td>\n",
              "    </tr>\n",
              "    <tr>\n",
              "      <th>AMZN</th>\n",
              "      <td>0.027620</td>\n",
              "    </tr>\n",
              "    <tr>\n",
              "      <th>SPY</th>\n",
              "      <td>0.018857</td>\n",
              "    </tr>\n",
              "    <tr>\n",
              "      <th>TSLA</th>\n",
              "      <td>0.026351</td>\n",
              "    </tr>\n",
              "    <tr>\n",
              "      <th>IBM</th>\n",
              "      <td>0.029594</td>\n",
              "    </tr>\n",
              "    <tr>\n",
              "      <th>JNJ</th>\n",
              "      <td>0.009417</td>\n",
              "    </tr>\n",
              "  </tbody>\n",
              "</table>\n",
              "</div>"
            ],
            "text/plain": [
              "       estimated_returns\n",
              "asset                   \n",
              "AAPL            0.016034\n",
              "AMZN            0.027620\n",
              "SPY             0.018857\n",
              "TSLA            0.026351\n",
              "IBM             0.029594\n",
              "JNJ             0.009417"
            ]
          },
          "execution_count": 8,
          "metadata": {},
          "output_type": "execute_result"
        }
      ],
      "source": [
        "# YOUR CHANGES HERE\n",
        "\n",
        "estimated_returns = historical_returns.mean().to_frame('estimated_returns')\n",
        "estimated_returns.index.name = 'asset'\n",
        "estimated_returns"
      ]
    },
    {
      "cell_type": "markdown",
      "metadata": {
        "id": "e5YTEwoarM2M"
      },
      "source": [
        "Save the estimated returns in a TSV file named \"estimated_returns.tsv\" and include a header row with the column names \"asset\" and \"estimated_return\"."
      ]
    },
    {
      "cell_type": "code",
      "execution_count": 9,
      "metadata": {
        "id": "At71YDpwvwUw"
      },
      "outputs": [],
      "source": [
        "# YOUR CHANGES HERE\n",
        "estimated_returns.to_csv('estimated_returns.tsv',sep='\\t')\n"
      ]
    },
    {
      "cell_type": "markdown",
      "metadata": {
        "id": "cjfnF-2Wtj6r"
      },
      "source": [
        "Submit \"estimated_returns.tsv\" in Gradescope."
      ]
    },
    {
      "cell_type": "markdown",
      "metadata": {
        "id": "VTuIqrkAWXVL"
      },
      "source": [
        "## Part 4: Estimate Risk\n",
        "\n",
        "Estimate the covariance matrix for the asset returns to understand how the assets move together."
      ]
    },
    {
      "cell_type": "code",
      "execution_count": 10,
      "metadata": {
        "id": "RFZfIkTMxcv7"
      },
      "outputs": [
        {
          "data": {
            "text/html": [
              "<div>\n",
              "<style scoped>\n",
              "    .dataframe tbody tr th:only-of-type {\n",
              "        vertical-align: middle;\n",
              "    }\n",
              "\n",
              "    .dataframe tbody tr th {\n",
              "        vertical-align: top;\n",
              "    }\n",
              "\n",
              "    .dataframe thead th {\n",
              "        text-align: right;\n",
              "    }\n",
              "</style>\n",
              "<table border=\"1\" class=\"dataframe\">\n",
              "  <thead>\n",
              "    <tr style=\"text-align: right;\">\n",
              "      <th></th>\n",
              "      <th>AAPL</th>\n",
              "      <th>AMZN</th>\n",
              "      <th>SPY</th>\n",
              "      <th>TSLA</th>\n",
              "      <th>IBM</th>\n",
              "      <th>JNJ</th>\n",
              "    </tr>\n",
              "  </thead>\n",
              "  <tbody>\n",
              "    <tr>\n",
              "      <th>AAPL</th>\n",
              "      <td>0.003477</td>\n",
              "      <td>0.000423</td>\n",
              "      <td>0.000785</td>\n",
              "      <td>0.003128</td>\n",
              "      <td>0.000101</td>\n",
              "      <td>0.000835</td>\n",
              "    </tr>\n",
              "    <tr>\n",
              "      <th>AMZN</th>\n",
              "      <td>0.000423</td>\n",
              "      <td>0.004321</td>\n",
              "      <td>0.001602</td>\n",
              "      <td>0.005318</td>\n",
              "      <td>0.001813</td>\n",
              "      <td>-0.000512</td>\n",
              "    </tr>\n",
              "    <tr>\n",
              "      <th>SPY</th>\n",
              "      <td>0.000785</td>\n",
              "      <td>0.001602</td>\n",
              "      <td>0.001252</td>\n",
              "      <td>0.002295</td>\n",
              "      <td>0.001507</td>\n",
              "      <td>0.000556</td>\n",
              "    </tr>\n",
              "    <tr>\n",
              "      <th>TSLA</th>\n",
              "      <td>0.003128</td>\n",
              "      <td>0.005318</td>\n",
              "      <td>0.002295</td>\n",
              "      <td>0.025568</td>\n",
              "      <td>0.002017</td>\n",
              "      <td>-0.001296</td>\n",
              "    </tr>\n",
              "    <tr>\n",
              "      <th>IBM</th>\n",
              "      <td>0.000101</td>\n",
              "      <td>0.001813</td>\n",
              "      <td>0.001507</td>\n",
              "      <td>0.002017</td>\n",
              "      <td>0.006235</td>\n",
              "      <td>0.000664</td>\n",
              "    </tr>\n",
              "    <tr>\n",
              "      <th>JNJ</th>\n",
              "      <td>0.000835</td>\n",
              "      <td>-0.000512</td>\n",
              "      <td>0.000556</td>\n",
              "      <td>-0.001296</td>\n",
              "      <td>0.000664</td>\n",
              "      <td>0.002419</td>\n",
              "    </tr>\n",
              "  </tbody>\n",
              "</table>\n",
              "</div>"
            ],
            "text/plain": [
              "          AAPL      AMZN       SPY      TSLA       IBM       JNJ\n",
              "AAPL  0.003477  0.000423  0.000785  0.003128  0.000101  0.000835\n",
              "AMZN  0.000423  0.004321  0.001602  0.005318  0.001813 -0.000512\n",
              "SPY   0.000785  0.001602  0.001252  0.002295  0.001507  0.000556\n",
              "TSLA  0.003128  0.005318  0.002295  0.025568  0.002017 -0.001296\n",
              "IBM   0.000101  0.001813  0.001507  0.002017  0.006235  0.000664\n",
              "JNJ   0.000835 -0.000512  0.000556 -0.001296  0.000664  0.002419"
            ]
          },
          "execution_count": 10,
          "metadata": {},
          "output_type": "execute_result"
        }
      ],
      "source": [
        "# YOUR CHANGES HERE\n",
        "estimated_covariance = historical_returns.cov()\n",
        "\n",
        "estimated_covariance.index.name = None\n",
        "estimated_covariance.columns.name = None\n",
        "estimated_covariance\n",
        "\n"
      ]
    },
    {
      "cell_type": "markdown",
      "metadata": {
        "id": "sOmn4s_yr5qn"
      },
      "source": [
        "Save the estimated covariances to a TSV file named \"estimated_covariance.tsv\".\n",
        "The header row should have a blank column name followed by the names of the assets.\n",
        "Each data row should start with the name of an asset for that row, and be followed by the individual covariances corresponding to that row and column's assets.\n",
        "(This is the format of pandas's `to_csv` method with `sep=\"\\t\"` when used on a covariance matrix as computed in the examples.)"
      ]
    },
    {
      "cell_type": "code",
      "execution_count": 11,
      "metadata": {
        "id": "Te-NPQxSvuXm"
      },
      "outputs": [],
      "source": [
        "# YOUR CHANGES HERE\n",
        "estimated_covariance.to_csv('estimated_covariance.tsv', sep='\\t')\n"
      ]
    },
    {
      "cell_type": "markdown",
      "metadata": {
        "id": "lS9vek0btoK6"
      },
      "source": [
        "Submit \"estimated_covariance.tsv\" in Gradescope."
      ]
    },
    {
      "cell_type": "markdown",
      "metadata": {
        "id": "C8rC5Eo3sEme"
      },
      "source": [
        "## Part 5: Construct the Maximum Return Portfolio\n",
        "\n",
        "Compute the maximum return portfolio based on your previously estimated risks and returns."
      ]
    },
    {
      "cell_type": "code",
      "execution_count": 12,
      "metadata": {
        "id": "8LW0KKm-xb2I"
      },
      "outputs": [
        {
          "data": {
            "text/html": [
              "<div>\n",
              "<style scoped>\n",
              "    .dataframe tbody tr th:only-of-type {\n",
              "        vertical-align: middle;\n",
              "    }\n",
              "\n",
              "    .dataframe tbody tr th {\n",
              "        vertical-align: top;\n",
              "    }\n",
              "\n",
              "    .dataframe thead th {\n",
              "        text-align: right;\n",
              "    }\n",
              "</style>\n",
              "<table border=\"1\" class=\"dataframe\">\n",
              "  <thead>\n",
              "    <tr style=\"text-align: right;\">\n",
              "      <th></th>\n",
              "      <th>allocation</th>\n",
              "    </tr>\n",
              "    <tr>\n",
              "      <th>asset</th>\n",
              "      <th></th>\n",
              "    </tr>\n",
              "  </thead>\n",
              "  <tbody>\n",
              "    <tr>\n",
              "      <th>AAPL</th>\n",
              "      <td>0.0</td>\n",
              "    </tr>\n",
              "    <tr>\n",
              "      <th>AMZN</th>\n",
              "      <td>0.0</td>\n",
              "    </tr>\n",
              "    <tr>\n",
              "      <th>SPY</th>\n",
              "      <td>0.0</td>\n",
              "    </tr>\n",
              "    <tr>\n",
              "      <th>TSLA</th>\n",
              "      <td>0.0</td>\n",
              "    </tr>\n",
              "    <tr>\n",
              "      <th>IBM</th>\n",
              "      <td>1.0</td>\n",
              "    </tr>\n",
              "    <tr>\n",
              "      <th>JNJ</th>\n",
              "      <td>0.0</td>\n",
              "    </tr>\n",
              "  </tbody>\n",
              "</table>\n",
              "</div>"
            ],
            "text/plain": [
              "       allocation\n",
              "asset            \n",
              "AAPL          0.0\n",
              "AMZN          0.0\n",
              "SPY           0.0\n",
              "TSLA          0.0\n",
              "IBM           1.0\n",
              "JNJ           0.0"
            ]
          },
          "execution_count": 12,
          "metadata": {},
          "output_type": "execute_result"
        }
      ],
      "source": [
        "# YOUR CHANGES HERE\n",
        "max_return_asset = estimated_returns['estimated_returns'].idxmax()\n",
        "\n",
        "# Create allocation vector (all zeros)\n",
        "allocation = pd.Series(0.0, index=estimated_returns.index)\n",
        "# Put 100% in the max return asset\n",
        "allocation[max_return_asset] = 1.0\n",
        "\n",
        "# Convert to DataFrame with proper column names\n",
        "maximum_return_portfolio = allocation.to_frame('allocation')\n",
        "maximum_return_portfolio.index.name = 'asset'\n",
        "maximum_return_portfolio"
      ]
    },
    {
      "cell_type": "markdown",
      "metadata": {
        "id": "jjPOxui5sLTD"
      },
      "source": [
        "Save the maximum return portfolio in a TSV file named \"maximum_return.tsv\".\n",
        "The header row should have two columns, \"asset\" and \"allocation\".\n",
        "The allocation values should sum up to one.\n"
      ]
    },
    {
      "cell_type": "code",
      "execution_count": 13,
      "metadata": {
        "id": "xLl_j8z1vtiT"
      },
      "outputs": [],
      "source": [
        "# YOUR CHANGES HERE\n",
        "\n",
        "maximum_return_portfolio.to_csv('maximum_return.tsv', sep='\\t')"
      ]
    },
    {
      "cell_type": "markdown",
      "metadata": {
        "id": "4bm3xrxptqJ2"
      },
      "source": [
        "Submit \"maximum_return.tsv\" in Gradescope."
      ]
    },
    {
      "cell_type": "markdown",
      "metadata": {
        "id": "r_QxQ5NpsL-c"
      },
      "source": [
        "## Part 6: Construct the Minimum Risk Portfolio\n",
        "\n",
        "Compute the minimum return portfolio based on your previously estimated risks and returns."
      ]
    },
    {
      "cell_type": "code",
      "execution_count": 14,
      "metadata": {
        "id": "daHSqhv9xbIF"
      },
      "outputs": [
        {
          "data": {
            "text/plain": [
              "estimated_returns    0.016426\n",
              "dtype: float64"
            ]
          },
          "execution_count": 14,
          "metadata": {},
          "output_type": "execute_result"
        }
      ],
      "source": [
        "# YOUR CHANGES HERE\n",
        "\n",
        "n = len(estimated_returns)\n",
        "\n",
        "x_minimum_risk = cp.Variable(n)\n",
        "\n",
        "objective_minimum_risk = cp.Minimize(x_minimum_risk.T @ estimated_covariance.to_numpy() @ x_minimum_risk)\n",
        "objective_minimum_risk\n",
        "\n",
        "prob_minimum_risk = cp.Problem(objective_minimum_risk,\n",
        "                               [0 <= x_minimum_risk,\n",
        "                                cp.sum(x_minimum_risk) == 1])\n",
        "\n",
        "covariance_minimum_risk = prob_minimum_risk.solve()\n",
        "covariance_minimum_risk\n",
        "\n",
        "estimated_return_minimum_risk = x_minimum_risk.value.T @ estimated_returns\n",
        "estimated_return_minimum_risk"
      ]
    },
    {
      "cell_type": "markdown",
      "metadata": {
        "id": "wzldkIPxsQor"
      },
      "source": [
        "Save the minimum risk portfolio in a TSV file named \"minimum_risk.tsv\".\n",
        "The header row should have two columns, \"asset\" and \"allocation\".\n",
        "The allocation values should sum up to one.\n"
      ]
    },
    {
      "cell_type": "code",
      "execution_count": 15,
      "metadata": {
        "id": "YRXccAflvrBZ"
      },
      "outputs": [],
      "source": [
        "# YOUR CHANGES HERE\n",
        "optimal_weights = x_minimum_risk.value\n",
        "\n",
        "# Create the DataFrame with the optimal weights\n",
        "minimum_risk_portfolio = pd.DataFrame({\n",
        "    'allocation': optimal_weights\n",
        "}, index=estimated_returns.index)\n",
        "\n",
        "# Set the index name to 'asset'\n",
        "minimum_risk_portfolio.index.name = 'asset'\n",
        "\n",
        "# Save to TSV file\n",
        "minimum_risk_portfolio.to_csv('minimum_risk.tsv', sep='\\t')\n"
      ]
    },
    {
      "cell_type": "markdown",
      "metadata": {
        "id": "P5gy_XETtsoi"
      },
      "source": [
        "Submit \"minimum_risk.tsv\" in Gradescope."
      ]
    },
    {
      "cell_type": "markdown",
      "metadata": {
        "id": "mzyJGWDvWhva"
      },
      "source": [
        "## Part 7: Build Efficient Frontier Portfolios\n",
        "\n",
        "Compute 101 portfolios along the mean-variance efficient frontier with evenly spaced estimated returns.\n",
        "The first portfolio should be the minimum risk portfolio from part 4, and the last portfolio should be the maximum return portfolio from part 3.\n",
        "The estimated return of each portfolio should be higher than the previous by one percent of the difference between the first and last portfolios.\n",
        "That is, the estimated return of the portfolios should be similar to `np.linspace(min_risk_return, max_return, 101)`.\n"
      ]
    },
    {
      "cell_type": "code",
      "execution_count": null,
      "metadata": {
        "id": "XaR6mKwvxZ4W"
      },
      "outputs": [
        {
          "data": {
            "text/plain": [
              "array([[ 9.39424233e-02,  4.00701878e-02,  5.99303208e-01,\n",
              "        -1.20077497e-19, -1.30484747e-18,  2.66684181e-01],\n",
              "       [ 9.45758023e-02,  4.70465595e-02,  5.99355803e-01,\n",
              "        -1.20094357e-19, -1.30406503e-18,  2.59021835e-01],\n",
              "       [ 9.52091813e-02,  5.40229311e-02,  5.99408398e-01,\n",
              "        -1.20108332e-19, -1.30326012e-18,  2.51359490e-01],\n",
              "       [ 9.58425603e-02,  6.09993027e-02,  5.99460993e-01,\n",
              "        -1.20125618e-19, -1.30249849e-18,  2.43697144e-01],\n",
              "       [ 9.66928433e-02,  6.76298753e-02,  5.98293156e-01,\n",
              "        -5.46819720e-19,  8.11869188e-04,  2.36572257e-01],\n",
              "       [ 9.86107931e-02,  7.25583203e-02,  5.91117982e-01,\n",
              "        -5.37639061e-19,  5.62000412e-03,  2.32092901e-01],\n",
              "       [ 1.00528743e-01,  7.74867653e-02,  5.83942807e-01,\n",
              "        -5.28335565e-19,  1.04281391e-02,  2.27613545e-01],\n",
              "       [ 1.02446693e-01,  8.24152103e-02,  5.76767633e-01,\n",
              "        -5.19072060e-19,  1.52362740e-02,  2.23134190e-01],\n",
              "       [ 1.04364643e-01,  8.73436554e-02,  5.69592459e-01,\n",
              "        -5.09764662e-19,  2.00444089e-02,  2.18654834e-01],\n",
              "       [ 1.06282592e-01,  9.22721004e-02,  5.62417285e-01,\n",
              "        -5.00506168e-19,  2.48525439e-02,  2.14175478e-01],\n",
              "       [ 1.08200542e-01,  9.72005454e-02,  5.55242111e-01,\n",
              "        -4.91211766e-19,  2.96606788e-02,  2.09696123e-01],\n",
              "       [ 1.10118492e-01,  1.02128990e-01,  5.48066937e-01,\n",
              "        -4.81948114e-19,  3.44688137e-02,  2.05216767e-01],\n",
              "       [ 1.12036442e-01,  1.07057435e-01,  5.40891762e-01,\n",
              "        -4.72781130e-19,  3.92769486e-02,  2.00737412e-01],\n",
              "       [ 1.13954392e-01,  1.11985880e-01,  5.33716588e-01,\n",
              "        -4.63528146e-19,  4.40850836e-02,  1.96258056e-01],\n",
              "       [ 1.15872342e-01,  1.16914325e-01,  5.26541414e-01,\n",
              "        -4.54228499e-19,  4.88932185e-02,  1.91778700e-01],\n",
              "       [ 1.17790291e-01,  1.21842770e-01,  5.19366240e-01,\n",
              "        -4.44973221e-19,  5.37013534e-02,  1.87299345e-01],\n",
              "       [ 1.19708241e-01,  1.26771216e-01,  5.12191066e-01,\n",
              "        -4.35699618e-19,  5.85094884e-02,  1.82819989e-01],\n",
              "       [ 1.21626191e-01,  1.31699661e-01,  5.05015891e-01,\n",
              "        -4.26446471e-19,  6.33176233e-02,  1.78340634e-01],\n",
              "       [ 1.23544141e-01,  1.36628106e-01,  4.97840717e-01,\n",
              "        -4.17202208e-19,  6.81257582e-02,  1.73861278e-01],\n",
              "       [ 1.25462091e-01,  1.41556551e-01,  4.90665543e-01,\n",
              "        -4.07962774e-19,  7.29338932e-02,  1.69381922e-01],\n",
              "       [ 1.27380041e-01,  1.46484996e-01,  4.83490369e-01,\n",
              "        -3.98714946e-19,  7.77420281e-02,  1.64902567e-01],\n",
              "       [ 1.29297990e-01,  1.51413441e-01,  4.76315195e-01,\n",
              "        -3.89395863e-19,  8.25501630e-02,  1.60423211e-01],\n",
              "       [ 1.31215940e-01,  1.56341886e-01,  4.69140021e-01,\n",
              "        -3.80147085e-19,  8.73582980e-02,  1.55943855e-01],\n",
              "       [ 1.33133890e-01,  1.61270331e-01,  4.61964846e-01,\n",
              "        -3.70870857e-19,  9.21664329e-02,  1.51464500e-01],\n",
              "       [ 1.35051840e-01,  1.66198776e-01,  4.54789672e-01,\n",
              "        -3.61581003e-19,  9.69745678e-02,  1.46985144e-01],\n",
              "       [ 1.36969790e-01,  1.71127221e-01,  4.47614498e-01,\n",
              "        -3.52384961e-19,  1.01782703e-01,  1.42505789e-01],\n",
              "       [ 1.38887740e-01,  1.76055666e-01,  4.40439324e-01,\n",
              "        -3.43134697e-19,  1.06590838e-01,  1.38026433e-01],\n",
              "       [ 1.40805689e-01,  1.80984111e-01,  4.33264150e-01,\n",
              "        -3.33885129e-19,  1.11398973e-01,  1.33547077e-01],\n",
              "       [ 1.42723639e-01,  1.85912556e-01,  4.26088976e-01,\n",
              "        -3.24567488e-19,  1.16207108e-01,  1.29067722e-01],\n",
              "       [ 1.44641589e-01,  1.90841001e-01,  4.18913801e-01,\n",
              "        -3.15306555e-19,  1.21015243e-01,  1.24588366e-01],\n",
              "       [ 1.46559539e-01,  1.95769446e-01,  4.11738627e-01,\n",
              "        -3.06066358e-19,  1.25823377e-01,  1.20109011e-01],\n",
              "       [ 1.48477489e-01,  2.00697891e-01,  4.04563453e-01,\n",
              "        -2.96821109e-19,  1.30631512e-01,  1.15629655e-01],\n",
              "       [ 1.50395439e-01,  2.05626336e-01,  3.97388279e-01,\n",
              "        -2.87584648e-19,  1.35439647e-01,  1.11150299e-01],\n",
              "       [ 1.52313388e-01,  2.10554781e-01,  3.90213105e-01,\n",
              "        -2.78333200e-19,  1.40247782e-01,  1.06670944e-01],\n",
              "       [ 1.54231338e-01,  2.15483226e-01,  3.83037931e-01,\n",
              "        -2.69012969e-19,  1.45055917e-01,  1.02191588e-01],\n",
              "       [ 1.56149288e-01,  2.20411671e-01,  3.75862756e-01,\n",
              "        -2.59748665e-19,  1.49864052e-01,  9.77122325e-02],\n",
              "       [ 1.58067238e-01,  2.25340116e-01,  3.68687582e-01,\n",
              "        -2.50446121e-19,  1.54672187e-01,  9.32328769e-02],\n",
              "       [ 1.59985188e-01,  2.30268561e-01,  3.61512408e-01,\n",
              "        -2.41275937e-19,  1.59480322e-01,  8.87535213e-02],\n",
              "       [ 1.61903138e-01,  2.35197006e-01,  3.54337234e-01,\n",
              "        -2.32029544e-19,  1.64288457e-01,  8.42741657e-02],\n",
              "       [ 1.63821087e-01,  2.40125451e-01,  3.47162060e-01,\n",
              "        -2.22763136e-19,  1.69096592e-01,  7.97948101e-02],\n",
              "       [ 1.65739037e-01,  2.45053896e-01,  3.39986886e-01,\n",
              "        -2.13514472e-19,  1.73904727e-01,  7.53154544e-02],\n",
              "       [ 1.67656987e-01,  2.49982341e-01,  3.32811711e-01,\n",
              "        -2.04254840e-19,  1.78712862e-01,  7.08360988e-02],\n",
              "       [ 1.69574937e-01,  2.54910786e-01,  3.25636537e-01,\n",
              "        -1.94948162e-19,  1.83520997e-01,  6.63567432e-02],\n",
              "       [ 1.71492887e-01,  2.59839231e-01,  3.18461363e-01,\n",
              "        -1.85684774e-19,  1.88329132e-01,  6.18773876e-02],\n",
              "       [ 1.73410837e-01,  2.64767676e-01,  3.11286189e-01,\n",
              "        -1.76450698e-19,  1.93137266e-01,  5.73980320e-02],\n",
              "       [ 1.75328786e-01,  2.69696121e-01,  3.04111015e-01,\n",
              "        -1.67185585e-19,  1.97945401e-01,  5.29186764e-02],\n",
              "       [ 1.77246736e-01,  2.74624566e-01,  2.96935841e-01,\n",
              "        -1.57896401e-19,  2.02753536e-01,  4.84393208e-02],\n",
              "       [ 1.79164686e-01,  2.79553011e-01,  2.89760666e-01,\n",
              "        -1.48702980e-19,  2.07561671e-01,  4.39599652e-02],\n",
              "       [ 1.81082636e-01,  2.84481456e-01,  2.82585492e-01,\n",
              "        -1.39382960e-19,  2.12369806e-01,  3.94806095e-02],\n",
              "       [ 1.83000586e-01,  2.89409901e-01,  2.75410318e-01,\n",
              "        -1.30120660e-19,  2.17177941e-01,  3.50012539e-02],\n",
              "       [ 1.84918536e-01,  2.94338346e-01,  2.68235144e-01,\n",
              "        -1.20828400e-19,  2.21986076e-01,  3.05218983e-02],\n",
              "       [ 1.86836485e-01,  2.99266791e-01,  2.61059970e-01,\n",
              "        -1.11687500e-19,  2.26794211e-01,  2.60425427e-02],\n",
              "       [ 1.88754435e-01,  3.04195236e-01,  2.53884796e-01,\n",
              "        -1.02373700e-19,  2.31602346e-01,  2.15631871e-02],\n",
              "       [ 1.90672385e-01,  3.09123681e-01,  2.46709621e-01,\n",
              "        -9.31053633e-20,  2.36410481e-01,  1.70838315e-02],\n",
              "       [ 1.92590335e-01,  3.14052126e-01,  2.39534447e-01,\n",
              "        -8.38150457e-20,  2.41218616e-01,  1.26044759e-02],\n",
              "       [ 1.94508285e-01,  3.18980571e-01,  2.32359273e-01,\n",
              "        -7.45100328e-20,  2.46026751e-01,  8.12512025e-03],\n",
              "       [ 1.96426235e-01,  3.23909016e-01,  2.25184099e-01,\n",
              "        -6.53287276e-20,  2.50834886e-01,  3.64576464e-03],\n",
              "       [ 1.98300778e-01,  3.29529420e-01,  2.16370028e-01,\n",
              "        -3.40444396e-21,  2.55799775e-01,  3.70300327e-21],\n",
              "       [ 2.01020430e-01,  3.41758245e-01,  1.91946409e-01,\n",
              "        -5.68557486e-06,  2.61833573e-01,  3.44702838e-03],\n",
              "       [ 2.01670178e-01,  3.46822886e-01,  1.84406237e-01,\n",
              "        -1.21177526e-20,  2.67100700e-01,  1.54742446e-20],\n",
              "       [ 2.03354878e-01,  3.55469619e-01,  1.68424342e-01,\n",
              "        -1.64626371e-20,  2.72751162e-01,  2.13520471e-20],\n",
              "       [ 2.05039578e-01,  3.64116351e-01,  1.52442446e-01,\n",
              "        -2.08154721e-20,  2.78401624e-01,  2.72307931e-20],\n",
              "       [ 2.06724278e-01,  3.72763084e-01,  1.36460551e-01,\n",
              "        -2.51611981e-20,  2.84052087e-01,  3.31063296e-20],\n",
              "       [ 2.08408978e-01,  3.81409817e-01,  1.20478656e-01,\n",
              "        -2.95118117e-20,  2.89702549e-01,  3.89861120e-20],\n",
              "       [ 2.10093678e-01,  3.90056549e-01,  1.04496760e-01,\n",
              "        -3.38524330e-20,  2.95353012e-01,  4.48522706e-20],\n",
              "       [ 2.11778378e-01,  3.98703282e-01,  8.85148650e-02,\n",
              "        -3.82025131e-20,  3.01003474e-01,  5.07326235e-20],\n",
              "       [ 2.13463079e-01,  4.07350015e-01,  7.25329697e-02,\n",
              "        -4.25496703e-20,  3.06653937e-01,  5.66093411e-20],\n",
              "       [ 2.15147779e-01,  4.15996748e-01,  5.65510744e-02,\n",
              "        -4.69350110e-20,  3.12304399e-01,  6.25321048e-20],\n",
              "       [ 2.16832479e-01,  4.24643480e-01,  4.05691791e-02,\n",
              "        -5.12733267e-20,  3.17954862e-01,  6.83985275e-20],\n",
              "       [ 2.18517179e-01,  4.33290213e-01,  2.45872838e-02,\n",
              "        -5.56292521e-20,  3.23605324e-01,  7.42867906e-20],\n",
              "       [ 2.20201879e-01,  4.41936946e-01,  8.60538851e-03,\n",
              "        -5.99507097e-20,  3.29255787e-01,  8.01276046e-20],\n",
              "       [ 2.16245855e-01,  4.49211671e-01, -5.63733441e-23,\n",
              "        -1.92108509e-21,  3.34542474e-01,  1.06872982e-21],\n",
              "       [ 2.05709396e-01,  4.54885821e-01, -5.87082322e-23,\n",
              "        -1.96395273e-21,  3.39404783e-01,  1.09194459e-21],\n",
              "       [ 1.95172936e-01,  4.60559971e-01, -6.09656613e-23,\n",
              "        -2.01005757e-21,  3.44267092e-01,  1.11391177e-21],\n",
              "       [ 1.84636477e-01,  4.66234122e-01, -5.92285674e-23,\n",
              "        -2.05479930e-21,  3.49129402e-01,  1.14250278e-21],\n",
              "       [ 1.74100017e-01,  4.71908272e-01, -6.08578492e-23,\n",
              "        -2.09741595e-21,  3.53991711e-01,  1.16983782e-21],\n",
              "       [ 1.63563558e-01,  4.77582422e-01, -6.40359294e-23,\n",
              "        -2.14112550e-21,  3.58854020e-01,  1.18973101e-21],\n",
              "       [ 1.53027099e-01,  4.83256572e-01, -6.42468381e-23,\n",
              "        -2.19023282e-21,  3.63716329e-01,  1.21801928e-21],\n",
              "       [ 1.42490639e-01,  4.88930722e-01, -6.81223288e-23,\n",
              "        -2.23756495e-21,  3.68578639e-01,  1.24112002e-21],\n",
              "       [ 1.31954180e-01,  4.94604872e-01, -6.90159055e-23,\n",
              "        -2.27939140e-21,  3.73440948e-01,  1.26392365e-21],\n",
              "       [ 1.21417721e-01,  5.00279022e-01, -6.92301303e-23,\n",
              "        -2.31940670e-21,  3.78303257e-01,  1.28956703e-21],\n",
              "       [ 1.10881261e-01,  5.05953172e-01, -6.98767021e-23,\n",
              "        -2.36509716e-21,  3.83165566e-01,  1.31367624e-21],\n",
              "       [ 1.00344802e-01,  5.11627323e-01, -7.08586818e-23,\n",
              "        -2.40818730e-21,  3.88027875e-01,  1.33642496e-21],\n",
              "       [ 8.98083427e-02,  5.17301473e-01, -7.55231624e-23,\n",
              "        -2.45468981e-21,  3.92890185e-01,  1.35889862e-21],\n",
              "       [ 7.92718833e-02,  5.22975623e-01, -7.44864764e-23,\n",
              "        -2.49907341e-21,  3.97752494e-01,  1.38945019e-21],\n",
              "       [ 6.87354240e-02,  5.28649773e-01, -7.85553180e-23,\n",
              "        -2.54714761e-21,  4.02614803e-01,  1.41210449e-21],\n",
              "       [ 5.81989646e-02,  5.34323923e-01, -7.93726891e-23,\n",
              "        -2.58436613e-21,  4.07477112e-01,  1.43205411e-21],\n",
              "       [ 4.76625053e-02,  5.39998073e-01, -7.75387637e-23,\n",
              "        -2.63266214e-21,  4.12339422e-01,  1.46104521e-21],\n",
              "       [ 3.71260459e-02,  5.45672223e-01, -7.82005216e-23,\n",
              "        -2.67537233e-21,  4.17201731e-01,  1.48683290e-21],\n",
              "       [ 2.65895866e-02,  5.51346373e-01, -8.30945546e-23,\n",
              "        -2.71978554e-21,  4.22064040e-01,  1.50752381e-21],\n",
              "       [ 1.60531273e-02,  5.57020524e-01, -8.14876872e-23,\n",
              "        -2.76354055e-21,  4.26926349e-01,  1.53471997e-21],\n",
              "       [ 5.51666790e-03,  5.62694674e-01, -8.80257940e-23,\n",
              "        -2.80840883e-21,  4.31788658e-01,  1.55389868e-21],\n",
              "       [ 8.71751187e-22,  5.33872051e-01,  6.79893230e-22,\n",
              "         1.50100242e-22,  4.66127949e-01,  1.33093465e-21],\n",
              "       [ 3.05164823e-22,  4.67138045e-01,  2.36835504e-22,\n",
              "         2.15261565e-23,  5.32861955e-01,  4.82345878e-22],\n",
              "       [-8.99603834e-22,  4.00404038e-01, -6.97441727e-22,\n",
              "        -1.81030836e-22,  5.99595962e-01, -1.37820166e-21],\n",
              "       [-1.71567335e-21,  3.33670032e-01, -1.32816385e-21,\n",
              "        -3.47535109e-22,  6.66329968e-01, -2.60058260e-21],\n",
              "       [-2.70886064e-21,  2.66936025e-01, -2.10430918e-21,\n",
              "        -5.35138201e-22,  7.33063975e-01, -4.09757680e-21],\n",
              "       [-3.51822677e-21,  2.00202019e-01, -2.72573468e-21,\n",
              "        -6.77947338e-22,  7.99797981e-01, -5.33998645e-21],\n",
              "       [-4.39152823e-21,  1.33468013e-01, -3.42179382e-21,\n",
              "        -8.31313224e-22,  8.66531987e-01, -6.68199681e-21],\n",
              "       [-5.44649176e-21,  6.67340064e-02, -4.23657265e-21,\n",
              "        -1.05948053e-21,  9.33265994e-01, -8.29225089e-21],\n",
              "       [-2.92231570e-07, -3.82832140e-06, -1.47144623e-06,\n",
              "        -3.21725050e-06,  1.00000696e+00,  1.84667329e-06]])"
            ]
          },
          "execution_count": 24,
          "metadata": {},
          "output_type": "execute_result"
        }
      ],
      "source": [
        "# YOUR CHANGES HERE\n",
        "ef_variances = []\n",
        "ef_returns = []\n",
        "ef_portfolios = []\n",
        "\n",
        "min_risk_return = minimum_risk_portfolio.T @ estimated_returns['estimated_returns'] \n",
        "max_return_return = maximum_return_portfolio.T @ estimated_returns['estimated_returns']\n",
        "\n",
        "for r in np.linspace(min_risk_return, max_return_return, 101):\n",
        "    x_r = cp.Variable(n)\n",
        "    \n",
        "    prob_r = cp.Problem(cp.Minimize(x_r.T @ estimated_covariance.to_numpy() @ x_r),\n",
        "                       [x_r >= 0,\n",
        "                        cp.sum(x_r) == 1,\n",
        "                        x_r.T @ estimated_returns['estimated_returns'].values == r])\n",
        "    \n",
        "    prob_r.solve()\n",
        "    \n",
        "    if x_r.value is not None: \n",
        "        ef_variances.append(prob_r.value)\n",
        "        ef_returns.append(r)\n",
        "        ef_portfolios.append(x_r.value)\n",
        "\n",
        "\n",
        "# Convert to numpy array\n",
        "ef_portfolios = np.asarray(ef_portfolios)\n",
        "ef_portfolios"
      ]
    },
    {
      "cell_type": "markdown",
      "metadata": {
        "id": "8e3WwTJvsDzh"
      },
      "source": [
        "Save the portfolios in a TSV file named \"efficient_frontier.tsv\".\n",
        "The header row should have columns \"index\", \"return\", \"risk\", and all the asset tickers.\n",
        "Each data row should have the portfolio index (0-100), the estimated return of the portfolio, the estimated standard deviation (not variance) of the portfolio, and all the asset allocations (which should sum to one)."
      ]
    },
    {
      "cell_type": "code",
      "execution_count": 25,
      "metadata": {
        "id": "e9DKadyNvniT"
      },
      "outputs": [],
      "source": [
        "# YOUR CHANGES HERE\n",
        "ef_std_devs = [np.sqrt(var) for var in ef_variances]\n",
        "\n",
        "# Create the DataFrame\n",
        "efficient_frontier_df = pd.DataFrame({\n",
        "    'index': range(len(ef_returns)),\n",
        "    'return': ef_returns,\n",
        "    'risk': ef_std_devs\n",
        "})\n",
        "\n",
        "# Add asset allocation columns using your existing ef_portfolios\n",
        "asset_names = estimated_returns.index.tolist()\n",
        "for i, asset in enumerate(asset_names):\n",
        "    efficient_frontier_df[asset] = ef_portfolios[:, i]\n",
        "\n",
        "# Save to TSV file\n",
        "efficient_frontier_df.to_csv('efficient_frontier.tsv', sep='\\t', index=False)\n",
        "\n"
      ]
    },
    {
      "cell_type": "code",
      "execution_count": 26,
      "metadata": {},
      "outputs": [
        {
          "name": "stdout",
          "output_type": "stream",
          "text": [
            "   index                  return      risk      AAPL      AMZN       SPY  \\\n",
            "0      0  [0.016425683432892284]  0.032195  0.093942  0.040070  0.599303   \n",
            "1      1  [0.016557361835815704]  0.032201  0.094576  0.047047  0.599356   \n",
            "2      2  [0.016689040238739128]  0.032220  0.095209  0.054023  0.599408   \n",
            "3      3  [0.016820718641662548]  0.032251  0.095843  0.060999  0.599461   \n",
            "4      4   [0.01695239704458597]  0.032295  0.096693  0.067630  0.598293   \n",
            "\n",
            "           TSLA           IBM       JNJ  \n",
            "0 -1.200775e-19 -1.304847e-18  0.266684  \n",
            "1 -1.200944e-19 -1.304065e-18  0.259022  \n",
            "2 -1.201083e-19 -1.303260e-18  0.251359  \n",
            "3 -1.201256e-19 -1.302498e-18  0.243697  \n",
            "4 -5.468197e-19  8.118692e-04  0.236572  \n"
          ]
        }
      ],
      "source": [
        "print(efficient_frontier_df.head())\n"
      ]
    },
    {
      "cell_type": "markdown",
      "metadata": {
        "id": "jiOa06rItvbs"
      },
      "source": [
        "Submit \"efficient_frontier.tsv\" in Gradescope."
      ]
    },
    {
      "cell_type": "markdown",
      "metadata": {
        "id": "LoW0XBXAzzR6"
      },
      "source": [
        "## Part 8: Check Maximum Return Portfolio Stability\n",
        "\n",
        "Check the stability of the maximum return portfolio by resampling the estimated risk/return model.\n",
        "\n",
        "Repeat 1000 times -\n",
        "1. Use `np.random.multivariate_normal` to generate 23 return samples using your previously estimated risks and returns.\n",
        "2. Estimate the return of each asset using that resampled return history.\n",
        "3. Check which asset had the highest return in those resampled estimates.\n",
        "\n",
        "This procedure is a reduced and simplified version of the Michaud resampled efficient frontier procedure that takes uncertainty in the risk model into account."
      ]
    },
    {
      "cell_type": "code",
      "execution_count": null,
      "metadata": {
        "id": "Xfke5V57xYvT"
      },
      "outputs": [],
      "source": [
        "# YOUR CHANGES HERE\n",
        "\n",
        "n_simulations = 1000\n",
        "n_samples = 23\n",
        "max_return_assets = []\n",
        "\n",
        "mean_returns = estimated_returns['estimated_returns'].values\n",
        "asset_names = estimated_returns.index.tolist()\n",
        "\n",
        "for i in range(n_simulations):\n",
        "    random_returns = np.random.multivariate_normal(mean_returns, estimated_covariance, n_samples)\n",
        "\n",
        "    resampled_mean_returns = np.mean(random_returns, axis=0)\n",
        "\n",
        "    best_asset_index = np.argmax(resampled_mean_returns)\n",
        "    best_asset_name = asset_names[best_asset_index]\n",
        "    max_return_assets.append(best_asset_name)\n",
        "\n",
        "asset_probabilities = {}\n",
        "for asset in asset_names:\n",
        "    count = max_return_assets.count(asset)  \n",
        "    probability = count / n_simulations\n",
        "    asset_probabilities[asset] = probability\n",
        "\n",
        "max_return_prob_df = pd.DataFrame({\n",
        "    'asset': list(asset_probabilities.keys()),\n",
        "    'probability': list(asset_probabilities.values())\n",
        "})\n",
        "\n",
        "\n"
      ]
    },
    {
      "cell_type": "markdown",
      "metadata": {
        "id": "fes_ScDyz0jp"
      },
      "source": [
        "Save a file \"max_return_probabilities.tsv\" with the distribution of highest return assets.\n",
        "The header row should have columns \"asset\" and \"probability\".\n",
        "There should be a data row for each asset and its sample probability of having the highest return based on those 1000 resampled estimates.\n"
      ]
    },
    {
      "cell_type": "code",
      "execution_count": 31,
      "metadata": {
        "id": "ZAjr15ASvj1S"
      },
      "outputs": [
        {
          "data": {
            "text/html": [
              "<div>\n",
              "<style scoped>\n",
              "    .dataframe tbody tr th:only-of-type {\n",
              "        vertical-align: middle;\n",
              "    }\n",
              "\n",
              "    .dataframe tbody tr th {\n",
              "        vertical-align: top;\n",
              "    }\n",
              "\n",
              "    .dataframe thead th {\n",
              "        text-align: right;\n",
              "    }\n",
              "</style>\n",
              "<table border=\"1\" class=\"dataframe\">\n",
              "  <thead>\n",
              "    <tr style=\"text-align: right;\">\n",
              "      <th></th>\n",
              "      <th>asset</th>\n",
              "      <th>probability</th>\n",
              "    </tr>\n",
              "  </thead>\n",
              "  <tbody>\n",
              "    <tr>\n",
              "      <th>0</th>\n",
              "      <td>AAPL</td>\n",
              "      <td>0.081</td>\n",
              "    </tr>\n",
              "    <tr>\n",
              "      <th>1</th>\n",
              "      <td>AMZN</td>\n",
              "      <td>0.175</td>\n",
              "    </tr>\n",
              "    <tr>\n",
              "      <th>2</th>\n",
              "      <td>SPY</td>\n",
              "      <td>0.006</td>\n",
              "    </tr>\n",
              "    <tr>\n",
              "      <th>3</th>\n",
              "      <td>TSLA</td>\n",
              "      <td>0.369</td>\n",
              "    </tr>\n",
              "    <tr>\n",
              "      <th>4</th>\n",
              "      <td>IBM</td>\n",
              "      <td>0.340</td>\n",
              "    </tr>\n",
              "    <tr>\n",
              "      <th>5</th>\n",
              "      <td>JNJ</td>\n",
              "      <td>0.029</td>\n",
              "    </tr>\n",
              "  </tbody>\n",
              "</table>\n",
              "</div>"
            ],
            "text/plain": [
              "  asset  probability\n",
              "0  AAPL        0.081\n",
              "1  AMZN        0.175\n",
              "2   SPY        0.006\n",
              "3  TSLA        0.369\n",
              "4   IBM        0.340\n",
              "5   JNJ        0.029"
            ]
          },
          "execution_count": 31,
          "metadata": {},
          "output_type": "execute_result"
        }
      ],
      "source": [
        "# YOUR CHANGES HERE\n",
        "\n",
        "max_return_prob_df.to_csv('max_return_probabilities.tsv', sep='\\t', index=False)\n",
        "max_return_prob_df"
      ]
    },
    {
      "cell_type": "markdown",
      "metadata": {
        "id": "2Xd34FQ6txoj"
      },
      "source": [
        "Submit \"max_return_probabilities.tsv\" in Gradescope."
      ]
    },
    {
      "cell_type": "markdown",
      "metadata": {
        "id": "SYbJ21qUYvL_"
      },
      "source": [
        "## Part 9: Acknowledgments\n",
        "\n",
        "Make a file \"acknowledgments.txt\" documenting any outside sources or help on this project.\n",
        "If you discussed this assignment with anyone, please acknowledge them here.\n",
        "If you used any libraries not mentioned in this module's content, please list them with a brief explanation what you used them for.\n",
        "If you used any generative AI tools, please add links to your transcripts below, and any other information that you feel is necessary to comply with the generative AI policy.\n",
        "If no acknowledgements are appropriate, just write none in the file.\n"
      ]
    },
    {
      "cell_type": "markdown",
      "metadata": {
        "id": "H3oWYYHlt42V"
      },
      "source": [
        "Submit \"acknowledgements.txt\" in Gradescope."
      ]
    },
    {
      "cell_type": "markdown",
      "metadata": {
        "id": "b8FWiTjvwscA"
      },
      "source": [
        "## Part 10: Code\n",
        "\n",
        "Please submit a Jupyter notebook that can reproduce all your calculations and recreate the previously submitted files.\n",
        "You do not need to provide code for data collection if you did that by manually."
      ]
    },
    {
      "cell_type": "markdown",
      "metadata": {
        "id": "HDEYI-K8vcUW"
      },
      "source": [
        "Submit \"project.ipynb\" in Gradescope."
      ]
    }
  ],
  "metadata": {
    "colab": {
      "toc_visible": false
    },
    "kernelspec": {
      "display_name": "Python 3",
      "name": "python3"
    },
    "language_info": {
      "codemirror_mode": {
        "name": "ipython",
        "version": 3
      },
      "file_extension": ".py",
      "mimetype": "text/x-python",
      "name": "python",
      "nbconvert_exporter": "python",
      "pygments_lexer": "ipython3",
      "version": "3.12.1"
    }
  },
  "nbformat": 4,
  "nbformat_minor": 0
}
