{
  "cells": [
    {
      "cell_type": "markdown",
      "metadata": {
        "id": "DDELa7o5UXrY"
      },
      "source": [
        "# DX 704 Week 1 Project\n",
        "\n",
        "This week's project will build a portfolio risk and return model, and make investing recommendations for hypothetical clients.\n",
        "You will collect historical data, estimate returns and risks, construct efficient frontier portfolios, and sanity check the certainty of the maximum return portfolio."
      ]
    },
    {
      "cell_type": "markdown",
      "metadata": {
        "id": "P6SxppNu8p8k"
      },
      "source": [
        "The full project description and a template notebook are available on GitHub at the following link.\n",
        "\n",
        "https://github.com/bu-cds-dx704/dx704-project-01\n"
      ]
    },
    {
      "cell_type": "markdown",
      "metadata": {
        "id": "GmIaQcdCwObV"
      },
      "source": [
        "Feel free to use optimization tools or libraries (such as CVXOPT or scipy.optimize) to perform any calculations required for this mini project."
      ]
    },
    {
      "cell_type": "markdown",
      "metadata": {},
      "source": [
        "### Example Code\n",
        "\n",
        "You may find it helpful to refer to these GitHub repositories of Jupyter notebooks for example code.\n",
        "\n",
        "* https://github.com/bu-cds-omds/dx601-examples\n",
        "* https://github.com/bu-cds-omds/dx602-examples\n",
        "* https://github.com/bu-cds-omds/dx603-examples\n",
        "* https://github.com/bu-cds-omds/dx704-examples\n",
        "\n",
        "Any calculations demonstrated in code examples or videos may be found in these notebooks, and you are allowed to copy this example code in your homework answers."
      ]
    },
    {
      "cell_type": "markdown",
      "metadata": {
        "id": "pv3PslO0V5Lm"
      },
      "source": [
        "## Part 1: Collect Data\n",
        "\n",
        "Collect historical monthly price data for the last 24 months covering 6 different stocks.\n",
        "The data should cover 24 consecutive months including the last month that ended before this week's material was released on Blackboard.\n",
        "To be clear, if a month ends between the Blackboard release and submitting your project, you do not need to add that month.\n",
        "\n",
        "The six different stocks must include AAPL, SPY and TSLA.\n",
        "At least one of the remaining 3 tickers must start with the same letter as your last name (e.g. professor Considine could use COIN).\n",
        "This is to encourage diversity in what stocks you analyze; if you discuss this project with classmates, please make sure that you pick different tickers to differentiate your work.\n",
        "Do not pick stocks with fewer than 24 consecutive months of price data."
      ]
    },
    {
      "cell_type": "code",
      "execution_count": 73,
      "metadata": {
        "id": "6pL-ppubxfvC"
      },
      "outputs": [
        {
          "data": {
            "text/html": [
              "<div>\n",
              "<style scoped>\n",
              "    .dataframe tbody tr th:only-of-type {\n",
              "        vertical-align: middle;\n",
              "    }\n",
              "\n",
              "    .dataframe tbody tr th {\n",
              "        vertical-align: top;\n",
              "    }\n",
              "\n",
              "    .dataframe thead th {\n",
              "        text-align: right;\n",
              "    }\n",
              "</style>\n",
              "<table border=\"1\" class=\"dataframe\">\n",
              "  <thead>\n",
              "    <tr style=\"text-align: right;\">\n",
              "      <th></th>\n",
              "      <th>AAPL</th>\n",
              "      <th>AMZN</th>\n",
              "      <th>SPY</th>\n",
              "      <th>TSLA</th>\n",
              "      <th>IBM</th>\n",
              "      <th>JNJ</th>\n",
              "    </tr>\n",
              "    <tr>\n",
              "      <th>Date</th>\n",
              "      <th></th>\n",
              "      <th></th>\n",
              "      <th></th>\n",
              "      <th></th>\n",
              "      <th></th>\n",
              "      <th></th>\n",
              "    </tr>\n",
              "  </thead>\n",
              "  <tbody>\n",
              "    <tr>\n",
              "      <th>2023-09</th>\n",
              "      <td>169.549271</td>\n",
              "      <td>127.120003</td>\n",
              "      <td>417.865662</td>\n",
              "      <td>250.220001</td>\n",
              "      <td>131.234116</td>\n",
              "      <td>146.245300</td>\n",
              "    </tr>\n",
              "    <tr>\n",
              "      <th>2023-10</th>\n",
              "      <td>169.113556</td>\n",
              "      <td>133.089996</td>\n",
              "      <td>408.794342</td>\n",
              "      <td>200.839996</td>\n",
              "      <td>135.293686</td>\n",
              "      <td>139.287506</td>\n",
              "    </tr>\n",
              "    <tr>\n",
              "      <th>2023-11</th>\n",
              "      <td>188.355331</td>\n",
              "      <td>146.089996</td>\n",
              "      <td>446.135223</td>\n",
              "      <td>240.080002</td>\n",
              "      <td>149.996246</td>\n",
              "      <td>146.384766</td>\n",
              "    </tr>\n",
              "    <tr>\n",
              "      <th>2023-12</th>\n",
              "      <td>190.913651</td>\n",
              "      <td>151.940002</td>\n",
              "      <td>466.503662</td>\n",
              "      <td>248.479996</td>\n",
              "      <td>154.716751</td>\n",
              "      <td>148.353470</td>\n",
              "    </tr>\n",
              "    <tr>\n",
              "      <th>2024-01</th>\n",
              "      <td>182.851898</td>\n",
              "      <td>155.199997</td>\n",
              "      <td>473.933441</td>\n",
              "      <td>187.289993</td>\n",
              "      <td>173.740601</td>\n",
              "      <td>150.397873</td>\n",
              "    </tr>\n",
              "    <tr>\n",
              "      <th>2024-02</th>\n",
              "      <td>179.461258</td>\n",
              "      <td>176.759995</td>\n",
              "      <td>498.666504</td>\n",
              "      <td>201.880005</td>\n",
              "      <td>176.632401</td>\n",
              "      <td>153.904953</td>\n",
              "    </tr>\n",
              "    <tr>\n",
              "      <th>2024-03</th>\n",
              "      <td>170.257339</td>\n",
              "      <td>180.380005</td>\n",
              "      <td>514.973877</td>\n",
              "      <td>175.789993</td>\n",
              "      <td>182.293274</td>\n",
              "      <td>150.862717</td>\n",
              "    </tr>\n",
              "    <tr>\n",
              "      <th>2024-04</th>\n",
              "      <td>169.115570</td>\n",
              "      <td>175.000000</td>\n",
              "      <td>494.210327</td>\n",
              "      <td>183.279999</td>\n",
              "      <td>158.656982</td>\n",
              "      <td>137.892654</td>\n",
              "    </tr>\n",
              "    <tr>\n",
              "      <th>2024-05</th>\n",
              "      <td>191.138153</td>\n",
              "      <td>176.440002</td>\n",
              "      <td>519.207397</td>\n",
              "      <td>178.080002</td>\n",
              "      <td>160.858627</td>\n",
              "      <td>141.006973</td>\n",
              "    </tr>\n",
              "    <tr>\n",
              "      <th>2024-06</th>\n",
              "      <td>209.401932</td>\n",
              "      <td>193.250000</td>\n",
              "      <td>537.525024</td>\n",
              "      <td>197.880005</td>\n",
              "      <td>166.739594</td>\n",
              "      <td>140.516693</td>\n",
              "    </tr>\n",
              "    <tr>\n",
              "      <th>2024-07</th>\n",
              "      <td>220.795654</td>\n",
              "      <td>186.979996</td>\n",
              "      <td>544.033997</td>\n",
              "      <td>232.070007</td>\n",
              "      <td>185.240509</td>\n",
              "      <td>151.755341</td>\n",
              "    </tr>\n",
              "    <tr>\n",
              "      <th>2024-08</th>\n",
              "      <td>227.939178</td>\n",
              "      <td>178.500000</td>\n",
              "      <td>556.745667</td>\n",
              "      <td>214.110001</td>\n",
              "      <td>196.576172</td>\n",
              "      <td>160.666336</td>\n",
              "    </tr>\n",
              "    <tr>\n",
              "      <th>2024-09</th>\n",
              "      <td>231.920654</td>\n",
              "      <td>186.330002</td>\n",
              "      <td>568.439941</td>\n",
              "      <td>261.630005</td>\n",
              "      <td>215.005493</td>\n",
              "      <td>156.985321</td>\n",
              "    </tr>\n",
              "    <tr>\n",
              "      <th>2024-10</th>\n",
              "      <td>224.863480</td>\n",
              "      <td>186.399994</td>\n",
              "      <td>563.367371</td>\n",
              "      <td>249.850006</td>\n",
              "      <td>201.040054</td>\n",
              "      <td>154.854233</td>\n",
              "    </tr>\n",
              "    <tr>\n",
              "      <th>2024-11</th>\n",
              "      <td>236.490479</td>\n",
              "      <td>207.889999</td>\n",
              "      <td>596.962891</td>\n",
              "      <td>345.160004</td>\n",
              "      <td>222.904541</td>\n",
              "      <td>151.360916</td>\n",
              "    </tr>\n",
              "    <tr>\n",
              "      <th>2024-12</th>\n",
              "      <td>249.534180</td>\n",
              "      <td>219.389999</td>\n",
              "      <td>582.599915</td>\n",
              "      <td>403.839996</td>\n",
              "      <td>215.474716</td>\n",
              "      <td>141.215500</td>\n",
              "    </tr>\n",
              "    <tr>\n",
              "      <th>2025-01</th>\n",
              "      <td>235.165192</td>\n",
              "      <td>237.679993</td>\n",
              "      <td>598.246399</td>\n",
              "      <td>404.600006</td>\n",
              "      <td>250.634064</td>\n",
              "      <td>148.568237</td>\n",
              "    </tr>\n",
              "    <tr>\n",
              "      <th>2025-02</th>\n",
              "      <td>241.249481</td>\n",
              "      <td>212.279999</td>\n",
              "      <td>590.651794</td>\n",
              "      <td>292.980011</td>\n",
              "      <td>249.087143</td>\n",
              "      <td>162.425110</td>\n",
              "    </tr>\n",
              "    <tr>\n",
              "      <th>2025-03</th>\n",
              "      <td>221.587616</td>\n",
              "      <td>190.259995</td>\n",
              "      <td>557.741150</td>\n",
              "      <td>259.160004</td>\n",
              "      <td>245.357330</td>\n",
              "      <td>163.232224</td>\n",
              "    </tr>\n",
              "    <tr>\n",
              "      <th>2025-04</th>\n",
              "      <td>211.981125</td>\n",
              "      <td>184.419998</td>\n",
              "      <td>552.905457</td>\n",
              "      <td>282.160004</td>\n",
              "      <td>238.608200</td>\n",
              "      <td>153.852066</td>\n",
              "    </tr>\n",
              "    <tr>\n",
              "      <th>2025-05</th>\n",
              "      <td>200.622314</td>\n",
              "      <td>205.009995</td>\n",
              "      <td>587.652771</td>\n",
              "      <td>346.459991</td>\n",
              "      <td>257.320221</td>\n",
              "      <td>154.079056</td>\n",
              "    </tr>\n",
              "    <tr>\n",
              "      <th>2025-06</th>\n",
              "      <td>204.937408</td>\n",
              "      <td>219.389999</td>\n",
              "      <td>617.849976</td>\n",
              "      <td>317.660004</td>\n",
              "      <td>292.800354</td>\n",
              "      <td>151.636978</td>\n",
              "    </tr>\n",
              "    <tr>\n",
              "      <th>2025-07</th>\n",
              "      <td>207.334702</td>\n",
              "      <td>234.110001</td>\n",
              "      <td>632.080017</td>\n",
              "      <td>308.269989</td>\n",
              "      <td>251.449905</td>\n",
              "      <td>163.539612</td>\n",
              "    </tr>\n",
              "    <tr>\n",
              "      <th>2025-08</th>\n",
              "      <td>232.139999</td>\n",
              "      <td>229.000000</td>\n",
              "      <td>645.049988</td>\n",
              "      <td>333.869995</td>\n",
              "      <td>243.490005</td>\n",
              "      <td>177.169998</td>\n",
              "    </tr>\n",
              "    <tr>\n",
              "      <th>2025-09</th>\n",
              "      <td>240.029999</td>\n",
              "      <td>232.699997</td>\n",
              "      <td>646.799988</td>\n",
              "      <td>349.630005</td>\n",
              "      <td>248.315002</td>\n",
              "      <td>177.755005</td>\n",
              "    </tr>\n",
              "  </tbody>\n",
              "</table>\n",
              "</div>"
            ],
            "text/plain": [
              "               AAPL        AMZN         SPY        TSLA         IBM  \\\n",
              "Date                                                                  \n",
              "2023-09  169.549271  127.120003  417.865662  250.220001  131.234116   \n",
              "2023-10  169.113556  133.089996  408.794342  200.839996  135.293686   \n",
              "2023-11  188.355331  146.089996  446.135223  240.080002  149.996246   \n",
              "2023-12  190.913651  151.940002  466.503662  248.479996  154.716751   \n",
              "2024-01  182.851898  155.199997  473.933441  187.289993  173.740601   \n",
              "2024-02  179.461258  176.759995  498.666504  201.880005  176.632401   \n",
              "2024-03  170.257339  180.380005  514.973877  175.789993  182.293274   \n",
              "2024-04  169.115570  175.000000  494.210327  183.279999  158.656982   \n",
              "2024-05  191.138153  176.440002  519.207397  178.080002  160.858627   \n",
              "2024-06  209.401932  193.250000  537.525024  197.880005  166.739594   \n",
              "2024-07  220.795654  186.979996  544.033997  232.070007  185.240509   \n",
              "2024-08  227.939178  178.500000  556.745667  214.110001  196.576172   \n",
              "2024-09  231.920654  186.330002  568.439941  261.630005  215.005493   \n",
              "2024-10  224.863480  186.399994  563.367371  249.850006  201.040054   \n",
              "2024-11  236.490479  207.889999  596.962891  345.160004  222.904541   \n",
              "2024-12  249.534180  219.389999  582.599915  403.839996  215.474716   \n",
              "2025-01  235.165192  237.679993  598.246399  404.600006  250.634064   \n",
              "2025-02  241.249481  212.279999  590.651794  292.980011  249.087143   \n",
              "2025-03  221.587616  190.259995  557.741150  259.160004  245.357330   \n",
              "2025-04  211.981125  184.419998  552.905457  282.160004  238.608200   \n",
              "2025-05  200.622314  205.009995  587.652771  346.459991  257.320221   \n",
              "2025-06  204.937408  219.389999  617.849976  317.660004  292.800354   \n",
              "2025-07  207.334702  234.110001  632.080017  308.269989  251.449905   \n",
              "2025-08  232.139999  229.000000  645.049988  333.869995  243.490005   \n",
              "2025-09  240.029999  232.699997  646.799988  349.630005  248.315002   \n",
              "\n",
              "                JNJ  \n",
              "Date                 \n",
              "2023-09  146.245300  \n",
              "2023-10  139.287506  \n",
              "2023-11  146.384766  \n",
              "2023-12  148.353470  \n",
              "2024-01  150.397873  \n",
              "2024-02  153.904953  \n",
              "2024-03  150.862717  \n",
              "2024-04  137.892654  \n",
              "2024-05  141.006973  \n",
              "2024-06  140.516693  \n",
              "2024-07  151.755341  \n",
              "2024-08  160.666336  \n",
              "2024-09  156.985321  \n",
              "2024-10  154.854233  \n",
              "2024-11  151.360916  \n",
              "2024-12  141.215500  \n",
              "2025-01  148.568237  \n",
              "2025-02  162.425110  \n",
              "2025-03  163.232224  \n",
              "2025-04  153.852066  \n",
              "2025-05  154.079056  \n",
              "2025-06  151.636978  \n",
              "2025-07  163.539612  \n",
              "2025-08  177.169998  \n",
              "2025-09  177.755005  "
            ]
          },
          "execution_count": 73,
          "metadata": {},
          "output_type": "execute_result"
        }
      ],
      "source": [
        "# YOUR CHANGES HERE\n",
        "import cvxpy as cp\n",
        "import matplotlib.pyplot as plt \n",
        "import numpy as np \n",
        "import pandas as pd \n",
        "\n",
        "import yfinance as yf \n",
        "\n",
        "tickers = ['AAPL', 'AMZN', 'SPY', 'TSLA','IBM','JNJ']\n",
        "\n",
        "historical_prices = None\n",
        "\n",
        "for t in tickers:\n",
        "    ticker = yf.Ticker(t)\n",
        "    history = ticker.history(period='2y')\n",
        "\n",
        "    monthly_prices = history['Close'].resample('ME').last()\n",
        "\n",
        "    if historical_prices is None:\n",
        "        historical_prices = monthly_prices\n",
        "    else:\n",
        "        historical_prices = pd.concat([historical_prices, monthly_prices], axis = 1)\n",
        "...\n",
        "\n",
        "historical_prices.columns = tickers\n",
        "historical_prices.index = pd.to_datetime(historical_prices.index).strftime('%Y-%m')\n",
        "\n",
        "historical_prices"
      ]
    },
    {
      "cell_type": "markdown",
      "metadata": {
        "id": "1uH9oDQ1rEQT"
      },
      "source": [
        "Save the data as a TSV file named \"historical_prices.tsv\" and include a header row with the column names \"date\" and the 6 stock ticker symbols.\n",
        "The date should be the last trading day of the month, so it may not be the last day of the month.\n",
        "For example, the last trading day of November 2024 was 2024-11-29.\n",
        "The remaining columns should contain the adjusted closing prices of the corresponding stock tickers on that day.\n"
      ]
    },
    {
      "cell_type": "code",
      "execution_count": 74,
      "metadata": {
        "id": "mHbwKHOhtQ3E"
      },
      "outputs": [],
      "source": [
        "# YOUR CHANGES HERE\n",
        "historical_prices.index.names = ['date']\n",
        "historical_prices.to_csv('historical_prices.tsv', sep='\\t')\n"
      ]
    },
    {
      "cell_type": "markdown",
      "metadata": {
        "id": "2hp0yuXPtT9V"
      },
      "source": [
        "Submit \"historical_prices.tsv\" in Gradescope."
      ]
    },
    {
      "cell_type": "markdown",
      "metadata": {
        "id": "7XdNVWWirUd5"
      },
      "source": [
        "## Part 2: Calculate Historical Asset Returns\n",
        "\n",
        "Calculate the historical asset returns based on the price data that you previously collected."
      ]
    },
    {
      "cell_type": "code",
      "execution_count": 75,
      "metadata": {
        "id": "aL-kVua2xex-"
      },
      "outputs": [
        {
          "data": {
            "text/html": [
              "<div>\n",
              "<style scoped>\n",
              "    .dataframe tbody tr th:only-of-type {\n",
              "        vertical-align: middle;\n",
              "    }\n",
              "\n",
              "    .dataframe tbody tr th {\n",
              "        vertical-align: top;\n",
              "    }\n",
              "\n",
              "    .dataframe thead th {\n",
              "        text-align: right;\n",
              "    }\n",
              "</style>\n",
              "<table border=\"1\" class=\"dataframe\">\n",
              "  <thead>\n",
              "    <tr style=\"text-align: right;\">\n",
              "      <th></th>\n",
              "      <th>AAPL</th>\n",
              "      <th>AMZN</th>\n",
              "      <th>SPY</th>\n",
              "      <th>TSLA</th>\n",
              "      <th>IBM</th>\n",
              "      <th>JNJ</th>\n",
              "    </tr>\n",
              "    <tr>\n",
              "      <th>date</th>\n",
              "      <th></th>\n",
              "      <th></th>\n",
              "      <th></th>\n",
              "      <th></th>\n",
              "      <th></th>\n",
              "      <th></th>\n",
              "    </tr>\n",
              "  </thead>\n",
              "  <tbody>\n",
              "    <tr>\n",
              "      <th>2023-10</th>\n",
              "      <td>-0.002570</td>\n",
              "      <td>0.046963</td>\n",
              "      <td>-0.021709</td>\n",
              "      <td>-0.197346</td>\n",
              "      <td>0.030934</td>\n",
              "      <td>-0.047576</td>\n",
              "    </tr>\n",
              "    <tr>\n",
              "      <th>2023-11</th>\n",
              "      <td>0.113780</td>\n",
              "      <td>0.097678</td>\n",
              "      <td>0.091344</td>\n",
              "      <td>0.195379</td>\n",
              "      <td>0.108671</td>\n",
              "      <td>0.050954</td>\n",
              "    </tr>\n",
              "    <tr>\n",
              "      <th>2023-12</th>\n",
              "      <td>0.013582</td>\n",
              "      <td>0.040044</td>\n",
              "      <td>0.045655</td>\n",
              "      <td>0.034988</td>\n",
              "      <td>0.031471</td>\n",
              "      <td>0.013449</td>\n",
              "    </tr>\n",
              "    <tr>\n",
              "      <th>2024-01</th>\n",
              "      <td>-0.042227</td>\n",
              "      <td>0.021456</td>\n",
              "      <td>0.015927</td>\n",
              "      <td>-0.246257</td>\n",
              "      <td>0.122959</td>\n",
              "      <td>0.013781</td>\n",
              "    </tr>\n",
              "    <tr>\n",
              "      <th>2024-02</th>\n",
              "      <td>-0.018543</td>\n",
              "      <td>0.138918</td>\n",
              "      <td>0.052187</td>\n",
              "      <td>0.077901</td>\n",
              "      <td>0.016644</td>\n",
              "      <td>0.023319</td>\n",
              "    </tr>\n",
              "    <tr>\n",
              "      <th>2024-03</th>\n",
              "      <td>-0.051286</td>\n",
              "      <td>0.020480</td>\n",
              "      <td>0.032702</td>\n",
              "      <td>-0.129235</td>\n",
              "      <td>0.032049</td>\n",
              "      <td>-0.019767</td>\n",
              "    </tr>\n",
              "    <tr>\n",
              "      <th>2024-04</th>\n",
              "      <td>-0.006706</td>\n",
              "      <td>-0.029826</td>\n",
              "      <td>-0.040320</td>\n",
              "      <td>0.042608</td>\n",
              "      <td>-0.129661</td>\n",
              "      <td>-0.085973</td>\n",
              "    </tr>\n",
              "    <tr>\n",
              "      <th>2024-05</th>\n",
              "      <td>0.130222</td>\n",
              "      <td>0.008229</td>\n",
              "      <td>0.050580</td>\n",
              "      <td>-0.028372</td>\n",
              "      <td>0.013877</td>\n",
              "      <td>0.022585</td>\n",
              "    </tr>\n",
              "    <tr>\n",
              "      <th>2024-06</th>\n",
              "      <td>0.095553</td>\n",
              "      <td>0.095273</td>\n",
              "      <td>0.035280</td>\n",
              "      <td>0.111186</td>\n",
              "      <td>0.036560</td>\n",
              "      <td>-0.003477</td>\n",
              "    </tr>\n",
              "    <tr>\n",
              "      <th>2024-07</th>\n",
              "      <td>0.054411</td>\n",
              "      <td>-0.032445</td>\n",
              "      <td>0.012109</td>\n",
              "      <td>0.172781</td>\n",
              "      <td>0.110957</td>\n",
              "      <td>0.079981</td>\n",
              "    </tr>\n",
              "    <tr>\n",
              "      <th>2024-08</th>\n",
              "      <td>0.032354</td>\n",
              "      <td>-0.045352</td>\n",
              "      <td>0.023366</td>\n",
              "      <td>-0.077390</td>\n",
              "      <td>0.061194</td>\n",
              "      <td>0.058719</td>\n",
              "    </tr>\n",
              "    <tr>\n",
              "      <th>2024-09</th>\n",
              "      <td>0.017467</td>\n",
              "      <td>0.043866</td>\n",
              "      <td>0.021005</td>\n",
              "      <td>0.221942</td>\n",
              "      <td>0.093752</td>\n",
              "      <td>-0.022911</td>\n",
              "    </tr>\n",
              "    <tr>\n",
              "      <th>2024-10</th>\n",
              "      <td>-0.030429</td>\n",
              "      <td>0.000376</td>\n",
              "      <td>-0.008924</td>\n",
              "      <td>-0.045025</td>\n",
              "      <td>-0.064954</td>\n",
              "      <td>-0.013575</td>\n",
              "    </tr>\n",
              "    <tr>\n",
              "      <th>2024-11</th>\n",
              "      <td>0.051707</td>\n",
              "      <td>0.115290</td>\n",
              "      <td>0.059633</td>\n",
              "      <td>0.381469</td>\n",
              "      <td>0.108757</td>\n",
              "      <td>-0.022559</td>\n",
              "    </tr>\n",
              "    <tr>\n",
              "      <th>2024-12</th>\n",
              "      <td>0.055155</td>\n",
              "      <td>0.055318</td>\n",
              "      <td>-0.024060</td>\n",
              "      <td>0.170008</td>\n",
              "      <td>-0.033332</td>\n",
              "      <td>-0.067028</td>\n",
              "    </tr>\n",
              "    <tr>\n",
              "      <th>2025-01</th>\n",
              "      <td>-0.057583</td>\n",
              "      <td>0.083367</td>\n",
              "      <td>0.026856</td>\n",
              "      <td>0.001882</td>\n",
              "      <td>0.163172</td>\n",
              "      <td>0.052067</td>\n",
              "    </tr>\n",
              "    <tr>\n",
              "      <th>2025-02</th>\n",
              "      <td>0.025872</td>\n",
              "      <td>-0.106866</td>\n",
              "      <td>-0.012695</td>\n",
              "      <td>-0.275877</td>\n",
              "      <td>-0.006172</td>\n",
              "      <td>0.093269</td>\n",
              "    </tr>\n",
              "    <tr>\n",
              "      <th>2025-03</th>\n",
              "      <td>-0.081500</td>\n",
              "      <td>-0.103731</td>\n",
              "      <td>-0.055719</td>\n",
              "      <td>-0.115435</td>\n",
              "      <td>-0.014974</td>\n",
              "      <td>0.004969</td>\n",
              "    </tr>\n",
              "    <tr>\n",
              "      <th>2025-04</th>\n",
              "      <td>-0.043353</td>\n",
              "      <td>-0.030695</td>\n",
              "      <td>-0.008670</td>\n",
              "      <td>0.088748</td>\n",
              "      <td>-0.027507</td>\n",
              "      <td>-0.057465</td>\n",
              "    </tr>\n",
              "    <tr>\n",
              "      <th>2025-05</th>\n",
              "      <td>-0.053584</td>\n",
              "      <td>0.111647</td>\n",
              "      <td>0.062845</td>\n",
              "      <td>0.227885</td>\n",
              "      <td>0.078422</td>\n",
              "      <td>0.001475</td>\n",
              "    </tr>\n",
              "    <tr>\n",
              "      <th>2025-06</th>\n",
              "      <td>0.021509</td>\n",
              "      <td>0.070143</td>\n",
              "      <td>0.051386</td>\n",
              "      <td>-0.083126</td>\n",
              "      <td>0.137883</td>\n",
              "      <td>-0.015850</td>\n",
              "    </tr>\n",
              "    <tr>\n",
              "      <th>2025-07</th>\n",
              "      <td>0.011698</td>\n",
              "      <td>0.067095</td>\n",
              "      <td>0.023032</td>\n",
              "      <td>-0.029560</td>\n",
              "      <td>-0.141224</td>\n",
              "      <td>0.078494</td>\n",
              "    </tr>\n",
              "    <tr>\n",
              "      <th>2025-08</th>\n",
              "      <td>0.119639</td>\n",
              "      <td>-0.021827</td>\n",
              "      <td>0.020520</td>\n",
              "      <td>0.083044</td>\n",
              "      <td>-0.031656</td>\n",
              "      <td>0.083346</td>\n",
              "    </tr>\n",
              "    <tr>\n",
              "      <th>2025-09</th>\n",
              "      <td>0.033988</td>\n",
              "      <td>0.016157</td>\n",
              "      <td>0.002713</td>\n",
              "      <td>0.047204</td>\n",
              "      <td>0.019816</td>\n",
              "      <td>0.003302</td>\n",
              "    </tr>\n",
              "  </tbody>\n",
              "</table>\n",
              "</div>"
            ],
            "text/plain": [
              "             AAPL      AMZN       SPY      TSLA       IBM       JNJ\n",
              "date                                                               \n",
              "2023-10 -0.002570  0.046963 -0.021709 -0.197346  0.030934 -0.047576\n",
              "2023-11  0.113780  0.097678  0.091344  0.195379  0.108671  0.050954\n",
              "2023-12  0.013582  0.040044  0.045655  0.034988  0.031471  0.013449\n",
              "2024-01 -0.042227  0.021456  0.015927 -0.246257  0.122959  0.013781\n",
              "2024-02 -0.018543  0.138918  0.052187  0.077901  0.016644  0.023319\n",
              "2024-03 -0.051286  0.020480  0.032702 -0.129235  0.032049 -0.019767\n",
              "2024-04 -0.006706 -0.029826 -0.040320  0.042608 -0.129661 -0.085973\n",
              "2024-05  0.130222  0.008229  0.050580 -0.028372  0.013877  0.022585\n",
              "2024-06  0.095553  0.095273  0.035280  0.111186  0.036560 -0.003477\n",
              "2024-07  0.054411 -0.032445  0.012109  0.172781  0.110957  0.079981\n",
              "2024-08  0.032354 -0.045352  0.023366 -0.077390  0.061194  0.058719\n",
              "2024-09  0.017467  0.043866  0.021005  0.221942  0.093752 -0.022911\n",
              "2024-10 -0.030429  0.000376 -0.008924 -0.045025 -0.064954 -0.013575\n",
              "2024-11  0.051707  0.115290  0.059633  0.381469  0.108757 -0.022559\n",
              "2024-12  0.055155  0.055318 -0.024060  0.170008 -0.033332 -0.067028\n",
              "2025-01 -0.057583  0.083367  0.026856  0.001882  0.163172  0.052067\n",
              "2025-02  0.025872 -0.106866 -0.012695 -0.275877 -0.006172  0.093269\n",
              "2025-03 -0.081500 -0.103731 -0.055719 -0.115435 -0.014974  0.004969\n",
              "2025-04 -0.043353 -0.030695 -0.008670  0.088748 -0.027507 -0.057465\n",
              "2025-05 -0.053584  0.111647  0.062845  0.227885  0.078422  0.001475\n",
              "2025-06  0.021509  0.070143  0.051386 -0.083126  0.137883 -0.015850\n",
              "2025-07  0.011698  0.067095  0.023032 -0.029560 -0.141224  0.078494\n",
              "2025-08  0.119639 -0.021827  0.020520  0.083044 -0.031656  0.083346\n",
              "2025-09  0.033988  0.016157  0.002713  0.047204  0.019816  0.003302"
            ]
          },
          "execution_count": 75,
          "metadata": {},
          "output_type": "execute_result"
        }
      ],
      "source": [
        "# YOUR CHANGES HERE\n",
        "\n",
        "historical_returns = historical_prices.pct_change().dropna()\n",
        "historical_returns"
      ]
    },
    {
      "cell_type": "markdown",
      "metadata": {
        "id": "OjhEYCWOrIu3"
      },
      "source": [
        "Save the data as a TSV file named \"historical_returns.tsv\" and include a header row with the column names \"date\" and the 6 stock ticker symbols.\n",
        "Each row should have the date at the end of the month and the corresponding *relative* price changes.\n",
        "For example, if the previous price was \\$100 and the new price is \\$110, the return value should be 0.10.\n",
        "There should only be 23 rows of data in this file, since they are computed as the differences of 24 prices."
      ]
    },
    {
      "cell_type": "code",
      "execution_count": 76,
      "metadata": {
        "id": "cN-7q9QvvyKG"
      },
      "outputs": [],
      "source": [
        "# YOUR CHANGES HERE\n",
        "historical_returns.to_csv('historical_returns.tsv', sep='\\t')\n"
      ]
    },
    {
      "cell_type": "markdown",
      "metadata": {
        "id": "vyBtnCTUtfRq"
      },
      "source": [
        "Submit \"historical_returns.tsv\" in Gradescope."
      ]
    },
    {
      "cell_type": "markdown",
      "metadata": {
        "id": "MoCkf4ouV9IA"
      },
      "source": [
        "## Part 3: Estimate Returns\n",
        "\n",
        "Estimate the expected returns for each asset using the previously calculated return data.\n",
        "Just compute the average (mean) return for each asset over your data set; do not use other estimators that have been mentioned.\n",
        "This will serve as your estimate of expected return for each asset."
      ]
    },
    {
      "cell_type": "code",
      "execution_count": 77,
      "metadata": {
        "id": "N2iDEhSRxd2n"
      },
      "outputs": [
        {
          "data": {
            "text/html": [
              "<div>\n",
              "<style scoped>\n",
              "    .dataframe tbody tr th:only-of-type {\n",
              "        vertical-align: middle;\n",
              "    }\n",
              "\n",
              "    .dataframe tbody tr th {\n",
              "        vertical-align: top;\n",
              "    }\n",
              "\n",
              "    .dataframe thead th {\n",
              "        text-align: right;\n",
              "    }\n",
              "</style>\n",
              "<table border=\"1\" class=\"dataframe\">\n",
              "  <thead>\n",
              "    <tr style=\"text-align: right;\">\n",
              "      <th></th>\n",
              "      <th>estimated_return</th>\n",
              "    </tr>\n",
              "    <tr>\n",
              "      <th>asset</th>\n",
              "      <th></th>\n",
              "    </tr>\n",
              "  </thead>\n",
              "  <tbody>\n",
              "    <tr>\n",
              "      <th>AAPL</th>\n",
              "      <td>0.016215</td>\n",
              "    </tr>\n",
              "    <tr>\n",
              "      <th>AMZN</th>\n",
              "      <td>0.027565</td>\n",
              "    </tr>\n",
              "    <tr>\n",
              "      <th>SPY</th>\n",
              "      <td>0.018960</td>\n",
              "    </tr>\n",
              "    <tr>\n",
              "      <th>TSLA</th>\n",
              "      <td>0.026225</td>\n",
              "    </tr>\n",
              "    <tr>\n",
              "      <th>IBM</th>\n",
              "      <td>0.029902</td>\n",
              "    </tr>\n",
              "    <tr>\n",
              "      <th>JNJ</th>\n",
              "      <td>0.009314</td>\n",
              "    </tr>\n",
              "  </tbody>\n",
              "</table>\n",
              "</div>"
            ],
            "text/plain": [
              "       estimated_return\n",
              "asset                  \n",
              "AAPL           0.016215\n",
              "AMZN           0.027565\n",
              "SPY            0.018960\n",
              "TSLA           0.026225\n",
              "IBM            0.029902\n",
              "JNJ            0.009314"
            ]
          },
          "execution_count": 77,
          "metadata": {},
          "output_type": "execute_result"
        }
      ],
      "source": [
        "# YOUR CHANGES HERE\n",
        "\n",
        "estimated_returns = historical_returns.mean().to_frame('estimated_return')\n",
        "estimated_returns.index.name = 'asset'\n",
        "estimated_returns"
      ]
    },
    {
      "cell_type": "markdown",
      "metadata": {
        "id": "e5YTEwoarM2M"
      },
      "source": [
        "Save the estimated returns in a TSV file named \"estimated_returns.tsv\" and include a header row with the column names \"asset\" and \"estimated_return\"."
      ]
    },
    {
      "cell_type": "code",
      "execution_count": 78,
      "metadata": {
        "id": "At71YDpwvwUw"
      },
      "outputs": [],
      "source": [
        "# YOUR CHANGES HERE\n",
        "estimated_returns.to_csv('estimated_returns.tsv',sep='\\t')\n"
      ]
    },
    {
      "cell_type": "markdown",
      "metadata": {
        "id": "cjfnF-2Wtj6r"
      },
      "source": [
        "Submit \"estimated_returns.tsv\" in Gradescope."
      ]
    },
    {
      "cell_type": "markdown",
      "metadata": {
        "id": "VTuIqrkAWXVL"
      },
      "source": [
        "## Part 4: Estimate Risk\n",
        "\n",
        "Estimate the covariance matrix for the asset returns to understand how the assets move together."
      ]
    },
    {
      "cell_type": "code",
      "execution_count": 79,
      "metadata": {
        "id": "RFZfIkTMxcv7"
      },
      "outputs": [
        {
          "data": {
            "text/html": [
              "<div>\n",
              "<style scoped>\n",
              "    .dataframe tbody tr th:only-of-type {\n",
              "        vertical-align: middle;\n",
              "    }\n",
              "\n",
              "    .dataframe tbody tr th {\n",
              "        vertical-align: top;\n",
              "    }\n",
              "\n",
              "    .dataframe thead th {\n",
              "        text-align: right;\n",
              "    }\n",
              "</style>\n",
              "<table border=\"1\" class=\"dataframe\">\n",
              "  <thead>\n",
              "    <tr style=\"text-align: right;\">\n",
              "      <th></th>\n",
              "      <th>AAPL</th>\n",
              "      <th>AMZN</th>\n",
              "      <th>SPY</th>\n",
              "      <th>TSLA</th>\n",
              "      <th>IBM</th>\n",
              "      <th>JNJ</th>\n",
              "    </tr>\n",
              "  </thead>\n",
              "  <tbody>\n",
              "    <tr>\n",
              "      <th>AAPL</th>\n",
              "      <td>0.003483</td>\n",
              "      <td>0.000420</td>\n",
              "      <td>0.000783</td>\n",
              "      <td>0.003130</td>\n",
              "      <td>0.000103</td>\n",
              "      <td>0.000832</td>\n",
              "    </tr>\n",
              "    <tr>\n",
              "      <th>AMZN</th>\n",
              "      <td>0.000420</td>\n",
              "      <td>0.004322</td>\n",
              "      <td>0.001602</td>\n",
              "      <td>0.005318</td>\n",
              "      <td>0.001811</td>\n",
              "      <td>-0.000510</td>\n",
              "    </tr>\n",
              "    <tr>\n",
              "      <th>SPY</th>\n",
              "      <td>0.000783</td>\n",
              "      <td>0.001602</td>\n",
              "      <td>0.001248</td>\n",
              "      <td>0.002300</td>\n",
              "      <td>0.001499</td>\n",
              "      <td>0.000558</td>\n",
              "    </tr>\n",
              "    <tr>\n",
              "      <th>TSLA</th>\n",
              "      <td>0.003130</td>\n",
              "      <td>0.005318</td>\n",
              "      <td>0.002300</td>\n",
              "      <td>0.025562</td>\n",
              "      <td>0.002026</td>\n",
              "      <td>-0.001298</td>\n",
              "    </tr>\n",
              "    <tr>\n",
              "      <th>IBM</th>\n",
              "      <td>0.000103</td>\n",
              "      <td>0.001811</td>\n",
              "      <td>0.001499</td>\n",
              "      <td>0.002026</td>\n",
              "      <td>0.006227</td>\n",
              "      <td>0.000664</td>\n",
              "    </tr>\n",
              "    <tr>\n",
              "      <th>JNJ</th>\n",
              "      <td>0.000832</td>\n",
              "      <td>-0.000510</td>\n",
              "      <td>0.000558</td>\n",
              "      <td>-0.001298</td>\n",
              "      <td>0.000664</td>\n",
              "      <td>0.002420</td>\n",
              "    </tr>\n",
              "  </tbody>\n",
              "</table>\n",
              "</div>"
            ],
            "text/plain": [
              "          AAPL      AMZN       SPY      TSLA       IBM       JNJ\n",
              "AAPL  0.003483  0.000420  0.000783  0.003130  0.000103  0.000832\n",
              "AMZN  0.000420  0.004322  0.001602  0.005318  0.001811 -0.000510\n",
              "SPY   0.000783  0.001602  0.001248  0.002300  0.001499  0.000558\n",
              "TSLA  0.003130  0.005318  0.002300  0.025562  0.002026 -0.001298\n",
              "IBM   0.000103  0.001811  0.001499  0.002026  0.006227  0.000664\n",
              "JNJ   0.000832 -0.000510  0.000558 -0.001298  0.000664  0.002420"
            ]
          },
          "execution_count": 79,
          "metadata": {},
          "output_type": "execute_result"
        }
      ],
      "source": [
        "# YOUR CHANGES HERE\n",
        "estimated_covariance = historical_returns.cov()\n",
        "\n",
        "estimated_covariance.index.name = None\n",
        "estimated_covariance.columns.name = None\n",
        "estimated_covariance\n",
        "\n"
      ]
    },
    {
      "cell_type": "markdown",
      "metadata": {
        "id": "sOmn4s_yr5qn"
      },
      "source": [
        "Save the estimated covariances to a TSV file named \"estimated_covariance.tsv\".\n",
        "The header row should have a blank column name followed by the names of the assets.\n",
        "Each data row should start with the name of an asset for that row, and be followed by the individual covariances corresponding to that row and column's assets.\n",
        "(This is the format of pandas's `to_csv` method with `sep=\"\\t\"` when used on a covariance matrix as computed in the examples.)"
      ]
    },
    {
      "cell_type": "code",
      "execution_count": 80,
      "metadata": {
        "id": "Te-NPQxSvuXm"
      },
      "outputs": [],
      "source": [
        "# YOUR CHANGES HERE\n",
        "estimated_covariance.to_csv('estimated_covariance.tsv', sep='\\t')\n"
      ]
    },
    {
      "cell_type": "markdown",
      "metadata": {
        "id": "lS9vek0btoK6"
      },
      "source": [
        "Submit \"estimated_covariance.tsv\" in Gradescope."
      ]
    },
    {
      "cell_type": "markdown",
      "metadata": {
        "id": "C8rC5Eo3sEme"
      },
      "source": [
        "## Part 5: Construct the Maximum Return Portfolio\n",
        "\n",
        "Compute the maximum return portfolio based on your previously estimated risks and returns."
      ]
    },
    {
      "cell_type": "code",
      "execution_count": 81,
      "metadata": {
        "id": "8LW0KKm-xb2I"
      },
      "outputs": [
        {
          "data": {
            "text/html": [
              "<div>\n",
              "<style scoped>\n",
              "    .dataframe tbody tr th:only-of-type {\n",
              "        vertical-align: middle;\n",
              "    }\n",
              "\n",
              "    .dataframe tbody tr th {\n",
              "        vertical-align: top;\n",
              "    }\n",
              "\n",
              "    .dataframe thead th {\n",
              "        text-align: right;\n",
              "    }\n",
              "</style>\n",
              "<table border=\"1\" class=\"dataframe\">\n",
              "  <thead>\n",
              "    <tr style=\"text-align: right;\">\n",
              "      <th></th>\n",
              "      <th>allocation</th>\n",
              "    </tr>\n",
              "    <tr>\n",
              "      <th>asset</th>\n",
              "      <th></th>\n",
              "    </tr>\n",
              "  </thead>\n",
              "  <tbody>\n",
              "    <tr>\n",
              "      <th>AAPL</th>\n",
              "      <td>0.0</td>\n",
              "    </tr>\n",
              "    <tr>\n",
              "      <th>AMZN</th>\n",
              "      <td>0.0</td>\n",
              "    </tr>\n",
              "    <tr>\n",
              "      <th>SPY</th>\n",
              "      <td>0.0</td>\n",
              "    </tr>\n",
              "    <tr>\n",
              "      <th>TSLA</th>\n",
              "      <td>0.0</td>\n",
              "    </tr>\n",
              "    <tr>\n",
              "      <th>IBM</th>\n",
              "      <td>1.0</td>\n",
              "    </tr>\n",
              "    <tr>\n",
              "      <th>JNJ</th>\n",
              "      <td>0.0</td>\n",
              "    </tr>\n",
              "  </tbody>\n",
              "</table>\n",
              "</div>"
            ],
            "text/plain": [
              "       allocation\n",
              "asset            \n",
              "AAPL          0.0\n",
              "AMZN          0.0\n",
              "SPY           0.0\n",
              "TSLA          0.0\n",
              "IBM           1.0\n",
              "JNJ           0.0"
            ]
          },
          "execution_count": 81,
          "metadata": {},
          "output_type": "execute_result"
        }
      ],
      "source": [
        "# YOUR CHANGES HERE\n",
        "max_return_asset = estimated_returns['estimated_return'].idxmax()\n",
        "\n",
        "# Create allocation vector (all zeros)\n",
        "allocation = pd.Series(0.0, index=estimated_returns.index)\n",
        "# Put 100% in the max return asset\n",
        "allocation[max_return_asset] = 1.0\n",
        "\n",
        "# Convert to DataFrame with proper column names\n",
        "maximum_return_portfolio = allocation.to_frame('allocation')\n",
        "maximum_return_portfolio.index.name = 'asset'\n",
        "maximum_return_portfolio"
      ]
    },
    {
      "cell_type": "markdown",
      "metadata": {
        "id": "jjPOxui5sLTD"
      },
      "source": [
        "Save the maximum return portfolio in a TSV file named \"maximum_return.tsv\".\n",
        "The header row should have two columns, \"asset\" and \"allocation\".\n",
        "The allocation values should sum up to one.\n"
      ]
    },
    {
      "cell_type": "code",
      "execution_count": 82,
      "metadata": {
        "id": "xLl_j8z1vtiT"
      },
      "outputs": [],
      "source": [
        "# YOUR CHANGES HERE\n",
        "\n",
        "maximum_return_portfolio.to_csv('maximum_return.tsv', sep='\\t')"
      ]
    },
    {
      "cell_type": "markdown",
      "metadata": {
        "id": "4bm3xrxptqJ2"
      },
      "source": [
        "Submit \"maximum_return.tsv\" in Gradescope."
      ]
    },
    {
      "cell_type": "markdown",
      "metadata": {
        "id": "r_QxQ5NpsL-c"
      },
      "source": [
        "## Part 6: Construct the Minimum Risk Portfolio\n",
        "\n",
        "Compute the minimum return portfolio based on your previously estimated risks and returns."
      ]
    },
    {
      "cell_type": "code",
      "execution_count": 83,
      "metadata": {
        "id": "daHSqhv9xbIF"
      },
      "outputs": [
        {
          "data": {
            "text/plain": [
              "estimated_return    0.016478\n",
              "dtype: float64"
            ]
          },
          "execution_count": 83,
          "metadata": {},
          "output_type": "execute_result"
        }
      ],
      "source": [
        "# YOUR CHANGES HERE\n",
        "\n",
        "n = len(estimated_returns)\n",
        "\n",
        "x_minimum_risk = cp.Variable(n)\n",
        "\n",
        "objective_minimum_risk = cp.Minimize(x_minimum_risk.T @ estimated_covariance.to_numpy() @ x_minimum_risk)\n",
        "objective_minimum_risk\n",
        "\n",
        "prob_minimum_risk = cp.Problem(objective_minimum_risk,\n",
        "                               [0 <= x_minimum_risk,\n",
        "                                cp.sum(x_minimum_risk) == 1])\n",
        "\n",
        "covariance_minimum_risk = prob_minimum_risk.solve()\n",
        "covariance_minimum_risk\n",
        "\n",
        "estimated_return_minimum_risk = x_minimum_risk.value.T @ estimated_returns\n",
        "estimated_return_minimum_risk"
      ]
    },
    {
      "cell_type": "markdown",
      "metadata": {
        "id": "wzldkIPxsQor"
      },
      "source": [
        "Save the minimum risk portfolio in a TSV file named \"minimum_risk.tsv\".\n",
        "The header row should have two columns, \"asset\" and \"allocation\".\n",
        "The allocation values should sum up to one.\n"
      ]
    },
    {
      "cell_type": "code",
      "execution_count": 84,
      "metadata": {
        "id": "YRXccAflvrBZ"
      },
      "outputs": [],
      "source": [
        "# YOUR CHANGES HERE\n",
        "optimal_weights = x_minimum_risk.value\n",
        "\n",
        "# Create the DataFrame with the optimal weights\n",
        "minimum_risk_portfolio = pd.DataFrame({\n",
        "    'allocation': optimal_weights\n",
        "}, index=estimated_returns.index)\n",
        "\n",
        "# Set the index name to 'asset'\n",
        "minimum_risk_portfolio.index.name = 'asset'\n",
        "\n",
        "# Save to TSV file\n",
        "minimum_risk_portfolio.to_csv('minimum_risk.tsv', sep='\\t')\n"
      ]
    },
    {
      "cell_type": "markdown",
      "metadata": {
        "id": "P5gy_XETtsoi"
      },
      "source": [
        "Submit \"minimum_risk.tsv\" in Gradescope."
      ]
    },
    {
      "cell_type": "markdown",
      "metadata": {
        "id": "mzyJGWDvWhva"
      },
      "source": [
        "## Part 7: Build Efficient Frontier Portfolios\n",
        "\n",
        "Compute 101 portfolios along the mean-variance efficient frontier with evenly spaced estimated returns.\n",
        "The first portfolio should be the minimum risk portfolio from part 4, and the last portfolio should be the maximum return portfolio from part 3.\n",
        "The estimated return of each portfolio should be higher than the previous by one percent of the difference between the first and last portfolios.\n",
        "That is, the estimated return of the portfolios should be similar to `np.linspace(min_risk_return, max_return, 101)`.\n"
      ]
    },
    {
      "cell_type": "code",
      "execution_count": 85,
      "metadata": {
        "id": "XaR6mKwvxZ4W"
      },
      "outputs": [
        {
          "data": {
            "text/plain": [
              "array([[ 9.37067704e-02,  3.76490762e-02,  6.04392414e-01,\n",
              "        -7.69232502e-20, -1.44563132e-18,  2.64251739e-01],\n",
              "       [ 9.44327118e-02,  4.41612441e-02,  6.05467894e-01,\n",
              "        -7.72018414e-20, -1.44896818e-18,  2.55938150e-01],\n",
              "       [ 9.51586532e-02,  5.06734119e-02,  6.06543375e-01,\n",
              "        -7.74883377e-20, -1.45240149e-18,  2.47624560e-01],\n",
              "       [ 9.58845946e-02,  5.71855798e-02,  6.07618855e-01,\n",
              "        -7.77692967e-20, -1.45578889e-18,  2.39310970e-01],\n",
              "       [ 9.70086395e-02,  6.30974516e-02,  6.06238221e-01,\n",
              "        -5.77794905e-19,  1.54952069e-03,  2.32106167e-01],\n",
              "       [ 9.89903321e-02,  6.77160855e-02,  5.99566298e-01,\n",
              "        -5.69118578e-19,  6.43722517e-03,  2.27290059e-01],\n",
              "       [ 1.00972025e-01,  7.23347195e-02,  5.92894375e-01,\n",
              "        -5.60402766e-19,  1.13249297e-02,  2.22473951e-01],\n",
              "       [ 1.02953717e-01,  7.69533534e-02,  5.86222452e-01,\n",
              "        -5.51674895e-19,  1.62126341e-02,  2.17657843e-01],\n",
              "       [ 1.04935410e-01,  8.15719873e-02,  5.79550528e-01,\n",
              "        -5.43008880e-19,  2.11003386e-02,  2.12841736e-01],\n",
              "       [ 1.06917103e-01,  8.61906213e-02,  5.72878605e-01,\n",
              "        -5.34432720e-19,  2.59880431e-02,  2.08025628e-01],\n",
              "       [ 1.08898795e-01,  9.08092552e-02,  5.66206682e-01,\n",
              "        -5.25627627e-19,  3.08757476e-02,  2.03209520e-01],\n",
              "       [ 1.10880488e-01,  9.54278892e-02,  5.59534759e-01,\n",
              "        -5.16968159e-19,  3.57634521e-02,  1.98393412e-01],\n",
              "       [ 1.12862180e-01,  1.00046523e-01,  5.52862836e-01,\n",
              "        -5.08301247e-19,  4.06511566e-02,  1.93577304e-01],\n",
              "       [ 1.14843873e-01,  1.04665157e-01,  5.46190913e-01,\n",
              "        -4.99515137e-19,  4.55388611e-02,  1.88761196e-01],\n",
              "       [ 1.16825566e-01,  1.09283791e-01,  5.39518990e-01,\n",
              "        -4.90918644e-19,  5.04265656e-02,  1.83945088e-01],\n",
              "       [ 1.18807258e-01,  1.13902425e-01,  5.32847066e-01,\n",
              "        -4.82277520e-19,  5.53142700e-02,  1.79128981e-01],\n",
              "       [ 1.20788951e-01,  1.18521059e-01,  5.26175143e-01,\n",
              "        -4.73537866e-19,  6.02019745e-02,  1.74312873e-01],\n",
              "       [ 1.22770643e-01,  1.23139693e-01,  5.19503220e-01,\n",
              "        -4.64812287e-19,  6.50896790e-02,  1.69496765e-01],\n",
              "       [ 1.24752336e-01,  1.27758327e-01,  5.12831297e-01,\n",
              "        -4.56154629e-19,  6.99773835e-02,  1.64680657e-01],\n",
              "       [ 1.26734029e-01,  1.32376961e-01,  5.06159374e-01,\n",
              "        -4.47472612e-19,  7.48650880e-02,  1.59864549e-01],\n",
              "       [ 1.28715721e-01,  1.36995595e-01,  4.99487451e-01,\n",
              "        -4.38772439e-19,  7.97527925e-02,  1.55048441e-01],\n",
              "       [ 1.30697414e-01,  1.41614229e-01,  4.92815527e-01,\n",
              "        -4.30092582e-19,  8.46404970e-02,  1.50232333e-01],\n",
              "       [ 1.32679106e-01,  1.46232862e-01,  4.86143604e-01,\n",
              "        -4.21432988e-19,  8.95282014e-02,  1.45416225e-01],\n",
              "       [ 1.34660799e-01,  1.50851496e-01,  4.79471681e-01,\n",
              "        -4.12652155e-19,  9.44159059e-02,  1.40600118e-01],\n",
              "       [ 1.36642492e-01,  1.55470130e-01,  4.72799758e-01,\n",
              "        -4.04067875e-19,  9.93036104e-02,  1.35784010e-01],\n",
              "       [ 1.38624184e-01,  1.60088764e-01,  4.66127835e-01,\n",
              "        -3.95465269e-19,  1.04191315e-01,  1.30967902e-01],\n",
              "       [ 1.40605877e-01,  1.64707398e-01,  4.59455912e-01,\n",
              "        -3.86670030e-19,  1.09079019e-01,  1.26151794e-01],\n",
              "       [ 1.42587569e-01,  1.69326032e-01,  4.52783988e-01,\n",
              "        -3.78001477e-19,  1.13966724e-01,  1.21335686e-01],\n",
              "       [ 1.44569262e-01,  1.73944666e-01,  4.46112065e-01,\n",
              "        -3.69345259e-19,  1.18854428e-01,  1.16519578e-01],\n",
              "       [ 1.46550955e-01,  1.78563300e-01,  4.39440142e-01,\n",
              "        -3.60674328e-19,  1.23742133e-01,  1.11703470e-01],\n",
              "       [ 1.48532647e-01,  1.83181934e-01,  4.32768219e-01,\n",
              "        -3.51952831e-19,  1.28629837e-01,  1.06887363e-01],\n",
              "       [ 1.50514340e-01,  1.87800568e-01,  4.26096296e-01,\n",
              "        -3.43308610e-19,  1.33517542e-01,  1.02071255e-01],\n",
              "       [ 1.52496032e-01,  1.92419202e-01,  4.19424373e-01,\n",
              "        -3.34565079e-19,  1.38405246e-01,  9.72551468e-02],\n",
              "       [ 1.54477725e-01,  1.97037836e-01,  4.12752449e-01,\n",
              "        -3.25843947e-19,  1.43292951e-01,  9.24390390e-02],\n",
              "       [ 1.56459418e-01,  2.01656470e-01,  4.06080526e-01,\n",
              "        -3.17187901e-19,  1.48180655e-01,  8.76229311e-02],\n",
              "       [ 1.58441110e-01,  2.06275104e-01,  3.99408603e-01,\n",
              "        -3.08586784e-19,  1.53068360e-01,  8.28068232e-02],\n",
              "       [ 1.60422803e-01,  2.10893738e-01,  3.92736680e-01,\n",
              "        -2.99805627e-19,  1.57956064e-01,  7.79907154e-02],\n",
              "       [ 1.62404495e-01,  2.15512372e-01,  3.86064757e-01,\n",
              "        -2.91146582e-19,  1.62843769e-01,  7.31746075e-02],\n",
              "       [ 1.64386188e-01,  2.20131006e-01,  3.79392834e-01,\n",
              "        -2.82465856e-19,  1.67731473e-01,  6.83584996e-02],\n",
              "       [ 1.66367881e-01,  2.24749639e-01,  3.72720910e-01,\n",
              "        -2.73753372e-19,  1.72619178e-01,  6.35423918e-02],\n",
              "       [ 1.68349573e-01,  2.29368273e-01,  3.66048987e-01,\n",
              "        -2.65098925e-19,  1.77506882e-01,  5.87262839e-02],\n",
              "       [ 1.70331266e-01,  2.33986907e-01,  3.59377064e-01,\n",
              "        -2.56442822e-19,  1.82394587e-01,  5.39101761e-02],\n",
              "       [ 1.72312958e-01,  2.38605541e-01,  3.52705141e-01,\n",
              "        -2.47773028e-19,  1.87282291e-01,  4.90940682e-02],\n",
              "       [ 1.74294651e-01,  2.43224175e-01,  3.46033218e-01,\n",
              "        -2.38989511e-19,  1.92169996e-01,  4.42779603e-02],\n",
              "       [ 1.76276344e-01,  2.47842809e-01,  3.39361295e-01,\n",
              "        -2.30394059e-19,  1.97057700e-01,  3.94618525e-02],\n",
              "       [ 1.78258036e-01,  2.52461443e-01,  3.32689371e-01,\n",
              "        -2.21722557e-19,  2.01945405e-01,  3.46457446e-02],\n",
              "       [ 1.80239729e-01,  2.57080077e-01,  3.26017448e-01,\n",
              "        -2.12995794e-19,  2.06833109e-01,  2.98296367e-02],\n",
              "       [ 1.82221421e-01,  2.61698711e-01,  3.19345525e-01,\n",
              "        -2.04284662e-19,  2.11720814e-01,  2.50135289e-02],\n",
              "       [ 1.84203114e-01,  2.66317345e-01,  3.12673602e-01,\n",
              "        -1.95626159e-19,  2.16608518e-01,  2.01974210e-02],\n",
              "       [ 1.86184807e-01,  2.70935979e-01,  3.06001679e-01,\n",
              "        -1.86944467e-19,  2.21496223e-01,  1.53813131e-02],\n",
              "       [ 1.88166499e-01,  2.75554613e-01,  2.99329756e-01,\n",
              "        -1.78234765e-19,  2.26383927e-01,  1.05652053e-02],\n",
              "       [ 1.90148192e-01,  2.80173247e-01,  2.92657832e-01,\n",
              "        -1.69563474e-19,  2.31271632e-01,  5.74909740e-03],\n",
              "       [ 1.92129884e-01,  2.84791881e-01,  2.85985909e-01,\n",
              "        -1.60837518e-19,  2.36159336e-01,  9.32989535e-04],\n",
              "       [ 1.93944985e-01,  2.92702961e-01,  2.71512642e-01,\n",
              "         1.13691027e-20,  2.41839413e-01, -1.66204861e-20],\n",
              "       [ 1.95720058e-01,  3.01405110e-01,  2.55164959e-01,\n",
              "         6.98257908e-21,  2.47709872e-01, -1.05200625e-20],\n",
              "       [ 1.97495131e-01,  3.10107260e-01,  2.38817277e-01,\n",
              "         2.59704048e-21,  2.53580332e-01, -4.42001812e-21],\n",
              "       [ 1.99270204e-01,  3.18809410e-01,  2.22469595e-01,\n",
              "        -1.79630574e-21,  2.59450791e-01,  1.68239950e-21],\n",
              "       [ 2.01045278e-01,  3.27511560e-01,  2.06121913e-01,\n",
              "        -6.18221820e-21,  2.65321250e-01,  7.78424488e-21],\n",
              "       [ 2.02820351e-01,  3.36213709e-01,  1.89774231e-01,\n",
              "        -1.05610224e-20,  2.71191709e-01,  1.38742971e-20],\n",
              "       [ 2.04595424e-01,  3.44915859e-01,  1.73426548e-01,\n",
              "        -1.49745376e-20,  2.77062168e-01,  2.00064356e-20],\n",
              "       [ 2.06370498e-01,  3.53618009e-01,  1.57078866e-01,\n",
              "        -1.93382458e-20,  2.82932627e-01,  2.60779250e-20],\n",
              "       [ 2.08145571e-01,  3.62320158e-01,  1.40731184e-01,\n",
              "        -2.37243201e-20,  2.88803087e-01,  3.21790554e-20],\n",
              "       [ 2.09920644e-01,  3.71022308e-01,  1.24383502e-01,\n",
              "        -2.81221038e-20,  2.94673546e-01,  3.82894599e-20],\n",
              "       [ 2.11695717e-01,  3.79724458e-01,  1.08035820e-01,\n",
              "        -3.25060405e-20,  3.00544005e-01,  4.43788170e-20],\n",
              "       [ 2.13470791e-01,  3.88426608e-01,  9.16881375e-02,\n",
              "        -3.68898495e-20,  3.06414464e-01,  5.04854442e-20],\n",
              "       [ 2.15245864e-01,  3.97128757e-01,  7.53404553e-02,\n",
              "        -4.12858405e-20,  3.12284923e-01,  5.65921565e-20],\n",
              "       [ 2.17020937e-01,  4.05830907e-01,  5.89927731e-02,\n",
              "        -4.56754047e-20,  3.18155382e-01,  6.27024863e-20],\n",
              "       [ 2.18796011e-01,  4.14533057e-01,  4.26450910e-02,\n",
              "        -5.00758942e-20,  3.24025842e-01,  6.88138113e-20],\n",
              "       [ 2.20571084e-01,  4.23235207e-01,  2.62974088e-02,\n",
              "        -5.44296929e-20,  3.29896301e-01,  7.48773536e-20],\n",
              "       [ 2.22346157e-01,  4.31937356e-01,  9.94972658e-03,\n",
              "        -5.88362899e-20,  3.35766760e-01,  8.09967077e-20],\n",
              "       [ 2.19223349e-01,  4.39369895e-01, -6.09886817e-23,\n",
              "        -1.76141346e-21,  3.41406756e-01,  9.93138944e-22],\n",
              "       [ 2.08483643e-01,  4.44828009e-01, -6.21801274e-23,\n",
              "        -1.80598746e-21,  3.46688349e-01,  1.02030576e-21],\n",
              "       [ 1.97743936e-01,  4.50286123e-01, -6.60745342e-23,\n",
              "        -1.84590128e-21,  3.51969941e-01,  1.04127912e-21],\n",
              "       [ 1.87004229e-01,  4.55744236e-01, -6.75623374e-23,\n",
              "        -1.89495432e-21,  3.57251534e-01,  1.06804470e-21],\n",
              "       [ 1.76264523e-01,  4.61202350e-01, -6.87839732e-23,\n",
              "        -1.93379121e-21,  3.62533127e-01,  1.09222037e-21],\n",
              "       [ 1.65524816e-01,  4.66660464e-01, -6.80651110e-23,\n",
              "        -1.98066770e-21,  3.67814720e-01,  1.11899244e-21],\n",
              "       [ 1.54785109e-01,  4.72118578e-01, -7.18429367e-23,\n",
              "        -2.02406686e-21,  3.73096313e-01,  1.14193769e-21],\n",
              "       [ 1.44045403e-01,  4.77576692e-01, -7.28319116e-23,\n",
              "        -2.06631648e-21,  3.78377906e-01,  1.16505287e-21],\n",
              "       [ 1.33305696e-01,  4.83034805e-01, -7.32065127e-23,\n",
              "        -2.10509909e-21,  3.83659499e-01,  1.18791163e-21],\n",
              "       [ 1.22565989e-01,  4.88492919e-01, -7.67836144e-23,\n",
              "        -2.14990702e-21,  3.88941091e-01,  1.21254685e-21],\n",
              "       [ 1.11826283e-01,  4.93951033e-01, -7.72386050e-23,\n",
              "        -2.19435819e-21,  3.94222684e-01,  1.23637725e-21],\n",
              "       [ 1.01086576e-01,  4.99409147e-01, -8.09659461e-23,\n",
              "        -2.23809400e-21,  3.99504277e-01,  1.25727279e-21],\n",
              "       [ 9.03468694e-02,  5.04867261e-01, -8.34596184e-23,\n",
              "        -2.28270152e-21,  4.04785870e-01,  1.28378473e-21],\n",
              "       [ 7.96071627e-02,  5.10325374e-01, -8.39194495e-23,\n",
              "        -2.32071504e-21,  4.10067463e-01,  1.30618428e-21],\n",
              "       [ 6.88674561e-02,  5.15783488e-01, -8.52082044e-23,\n",
              "        -2.36836483e-21,  4.15349056e-01,  1.33054028e-21],\n",
              "       [ 5.81277494e-02,  5.21241602e-01, -8.63092834e-23,\n",
              "        -2.41018112e-21,  4.20630649e-01,  1.35741347e-21],\n",
              "       [ 4.73880428e-02,  5.26699716e-01, -8.94280050e-23,\n",
              "        -2.45748984e-21,  4.25912241e-01,  1.38065966e-21],\n",
              "       [ 3.66483361e-02,  5.32157830e-01, -9.00025087e-23,\n",
              "        -2.49557198e-21,  4.31193834e-01,  1.40301348e-21],\n",
              "       [ 2.59086295e-02,  5.37615943e-01, -8.86931465e-23,\n",
              "        -2.53860480e-21,  4.36475427e-01,  1.43002050e-21],\n",
              "       [ 1.51689228e-02,  5.43074057e-01, -9.37132175e-23,\n",
              "        -2.58461522e-21,  4.41757020e-01,  1.45388296e-21],\n",
              "       [ 4.42921618e-03,  5.48532171e-01, -9.48402095e-23,\n",
              "        -2.62800037e-21,  4.47038613e-01,  1.47347103e-21],\n",
              "       [ 3.48038031e-22,  5.17027866e-01,  2.74522864e-22,\n",
              "         7.81010217e-23,  4.82972134e-01,  5.33046606e-22],\n",
              "       [-4.02369237e-23,  4.59580325e-01, -3.34437203e-23,\n",
              "        -2.06636857e-23,  5.40419675e-01, -6.15246612e-23],\n",
              "       [-5.23290274e-22,  4.02132785e-01, -4.12433501e-22,\n",
              "        -1.23982076e-22,  5.97867215e-01, -8.12629303e-22],\n",
              "       [-9.35243448e-22,  3.44685244e-01, -7.26960184e-22,\n",
              "        -2.12636776e-22,  6.55314756e-01, -1.43753130e-21],\n",
              "       [-1.59572056e-21,  2.87237703e-01, -1.24360460e-21,\n",
              "        -3.34749012e-22,  7.12762297e-01, -2.47050075e-21],\n",
              "       [-1.76324349e-21,  2.29790163e-01, -1.38880353e-21,\n",
              "        -3.98161793e-22,  7.70209837e-01, -2.73220283e-21],\n",
              "       [-2.52656484e-21,  1.72342622e-01, -1.96995824e-21,\n",
              "        -5.30474782e-22,  8.27657378e-01, -3.92775757e-21],\n",
              "       [-2.78925372e-21,  1.14895081e-01, -2.18707920e-21,\n",
              "        -6.05314372e-22,  8.85104919e-01, -4.29785625e-21],\n",
              "       [-3.26340829e-21,  5.74475407e-02, -2.55444225e-21,\n",
              "        -7.03660707e-22,  9.42552459e-01, -5.03461665e-21],\n",
              "       [ 4.71777720e-08,  6.58204080e-07,  1.90218244e-07,\n",
              "         4.68895489e-07,  9.99998926e-01, -2.87510325e-07]])"
            ]
          },
          "execution_count": 85,
          "metadata": {},
          "output_type": "execute_result"
        }
      ],
      "source": [
        "# YOUR CHANGES HERE\n",
        "ef_variances = []\n",
        "ef_returns = []\n",
        "ef_portfolios = []\n",
        "\n",
        "min_risk_return = minimum_risk_portfolio.T @ estimated_returns['estimated_return'] \n",
        "max_return_return = maximum_return_portfolio.T @ estimated_returns['estimated_return']\n",
        "\n",
        "for r in np.linspace(min_risk_return, max_return_return, 101):\n",
        "    x_r = cp.Variable(n)\n",
        "    \n",
        "    prob_r = cp.Problem(cp.Minimize(x_r.T @ estimated_covariance.to_numpy() @ x_r),\n",
        "                       [x_r >= 0,\n",
        "                        cp.sum(x_r) == 1,\n",
        "                        x_r.T @ estimated_returns['estimated_return'].values == r])\n",
        "    \n",
        "    prob_r.solve()\n",
        "    \n",
        "    if x_r.value is not None: \n",
        "        ef_variances.append(prob_r.value)\n",
        "        ef_returns.append(r)\n",
        "        ef_portfolios.append(x_r.value)\n",
        "\n",
        "\n",
        "# Convert to numpy array\n",
        "ef_portfolios = np.asarray(ef_portfolios)\n",
        "ef_portfolios"
      ]
    },
    {
      "cell_type": "markdown",
      "metadata": {
        "id": "8e3WwTJvsDzh"
      },
      "source": [
        "Save the portfolios in a TSV file named \"efficient_frontier.tsv\".\n",
        "The header row should have columns \"index\", \"return\", \"risk\", and all the asset tickers.\n",
        "Each data row should have the portfolio index (0-100), the estimated return of the portfolio, the estimated standard deviation (not variance) of the portfolio, and all the asset allocations (which should sum to one)."
      ]
    },
    {
      "cell_type": "code",
      "execution_count": 86,
      "metadata": {
        "id": "e9DKadyNvniT"
      },
      "outputs": [],
      "source": [
        "# YOUR CHANGES HERE\n",
        "ef_std_devs = [np.sqrt(var) for var in ef_variances]\n",
        "\n",
        "# Create the DataFrame\n",
        "efficient_frontier_df = pd.DataFrame({\n",
        "    'index': range(len(ef_returns)),\n",
        "    'return': ef_returns,\n",
        "    'risk': ef_std_devs\n",
        "})\n",
        "\n",
        "# Add asset allocation columns using your existing ef_portfolios\n",
        "asset_names = estimated_returns.index.tolist()\n",
        "for i, asset in enumerate(asset_names):\n",
        "    efficient_frontier_df[asset] = ef_portfolios[:, i]\n",
        "\n",
        "# Save to TSV file\n",
        "efficient_frontier_df.to_csv('efficient_frontier.tsv', sep='\\t', index=False)\n",
        "\n"
      ]
    },
    {
      "cell_type": "code",
      "execution_count": 87,
      "metadata": {},
      "outputs": [
        {
          "name": "stdout",
          "output_type": "stream",
          "text": [
            "   index                  return      risk      AAPL      AMZN       SPY  \\\n",
            "0      0   [0.01647775313158121]  0.032178  0.093707  0.037649  0.604392   \n",
            "1      1   [0.01661199109620335]  0.032184  0.094433  0.044161  0.605468   \n",
            "2      2  [0.016746229060825492]  0.032204  0.095159  0.050673  0.606543   \n",
            "3      3  [0.016880467025447633]  0.032236  0.095885  0.057186  0.607619   \n",
            "4      4  [0.017014704990069775]  0.032281  0.097009  0.063097  0.606238   \n",
            "\n",
            "           TSLA           IBM       JNJ  \n",
            "0 -7.692325e-20 -1.445631e-18  0.264252  \n",
            "1 -7.720184e-20 -1.448968e-18  0.255938  \n",
            "2 -7.748834e-20 -1.452401e-18  0.247625  \n",
            "3 -7.776930e-20 -1.455789e-18  0.239311  \n",
            "4 -5.777949e-19  1.549521e-03  0.232106  \n"
          ]
        }
      ],
      "source": [
        "print(efficient_frontier_df.head())\n"
      ]
    },
    {
      "cell_type": "markdown",
      "metadata": {
        "id": "jiOa06rItvbs"
      },
      "source": [
        "Submit \"efficient_frontier.tsv\" in Gradescope."
      ]
    },
    {
      "cell_type": "markdown",
      "metadata": {
        "id": "LoW0XBXAzzR6"
      },
      "source": [
        "## Part 8: Check Maximum Return Portfolio Stability\n",
        "\n",
        "Check the stability of the maximum return portfolio by resampling the estimated risk/return model.\n",
        "\n",
        "Repeat 1000 times -\n",
        "1. Use `np.random.multivariate_normal` to generate 23 return samples using your previously estimated risks and returns.\n",
        "2. Estimate the return of each asset using that resampled return history.\n",
        "3. Check which asset had the highest return in those resampled estimates.\n",
        "\n",
        "This procedure is a reduced and simplified version of the Michaud resampled efficient frontier procedure that takes uncertainty in the risk model into account."
      ]
    },
    {
      "cell_type": "code",
      "execution_count": 89,
      "metadata": {
        "id": "Xfke5V57xYvT"
      },
      "outputs": [],
      "source": [
        "# YOUR CHANGES HERE\n",
        "\n",
        "n_simulations = 1000\n",
        "n_samples = 23\n",
        "max_return_assets = []\n",
        "\n",
        "mean_returns = estimated_returns['estimated_return'].values\n",
        "asset_names = estimated_returns.index.tolist()\n",
        "\n",
        "for i in range(n_simulations):\n",
        "    random_returns = np.random.multivariate_normal(mean_returns, estimated_covariance, n_samples)\n",
        "\n",
        "    resampled_mean_returns = np.mean(random_returns, axis=0)\n",
        "\n",
        "    best_asset_index = np.argmax(resampled_mean_returns)\n",
        "    best_asset_name = asset_names[best_asset_index]\n",
        "    max_return_assets.append(best_asset_name)\n",
        "\n",
        "asset_probabilities = {}\n",
        "for asset in asset_names:\n",
        "    count = max_return_assets.count(asset)  \n",
        "    probability = count / n_simulations\n",
        "    asset_probabilities[asset] = probability\n",
        "\n",
        "max_return_prob_df = pd.DataFrame({\n",
        "    'asset': list(asset_probabilities.keys()),\n",
        "    'probability': list(asset_probabilities.values())\n",
        "})\n",
        "\n",
        "\n"
      ]
    },
    {
      "cell_type": "markdown",
      "metadata": {
        "id": "fes_ScDyz0jp"
      },
      "source": [
        "Save a file \"max_return_probabilities.tsv\" with the distribution of highest return assets.\n",
        "The header row should have columns \"asset\" and \"probability\".\n",
        "There should be a data row for each asset and its sample probability of having the highest return based on those 1000 resampled estimates.\n"
      ]
    },
    {
      "cell_type": "code",
      "execution_count": 90,
      "metadata": {
        "id": "ZAjr15ASvj1S"
      },
      "outputs": [
        {
          "data": {
            "text/html": [
              "<div>\n",
              "<style scoped>\n",
              "    .dataframe tbody tr th:only-of-type {\n",
              "        vertical-align: middle;\n",
              "    }\n",
              "\n",
              "    .dataframe tbody tr th {\n",
              "        vertical-align: top;\n",
              "    }\n",
              "\n",
              "    .dataframe thead th {\n",
              "        text-align: right;\n",
              "    }\n",
              "</style>\n",
              "<table border=\"1\" class=\"dataframe\">\n",
              "  <thead>\n",
              "    <tr style=\"text-align: right;\">\n",
              "      <th></th>\n",
              "      <th>asset</th>\n",
              "      <th>probability</th>\n",
              "    </tr>\n",
              "  </thead>\n",
              "  <tbody>\n",
              "    <tr>\n",
              "      <th>0</th>\n",
              "      <td>AAPL</td>\n",
              "      <td>0.062</td>\n",
              "    </tr>\n",
              "    <tr>\n",
              "      <th>1</th>\n",
              "      <td>AMZN</td>\n",
              "      <td>0.190</td>\n",
              "    </tr>\n",
              "    <tr>\n",
              "      <th>2</th>\n",
              "      <td>SPY</td>\n",
              "      <td>0.005</td>\n",
              "    </tr>\n",
              "    <tr>\n",
              "      <th>3</th>\n",
              "      <td>TSLA</td>\n",
              "      <td>0.368</td>\n",
              "    </tr>\n",
              "    <tr>\n",
              "      <th>4</th>\n",
              "      <td>IBM</td>\n",
              "      <td>0.341</td>\n",
              "    </tr>\n",
              "    <tr>\n",
              "      <th>5</th>\n",
              "      <td>JNJ</td>\n",
              "      <td>0.034</td>\n",
              "    </tr>\n",
              "  </tbody>\n",
              "</table>\n",
              "</div>"
            ],
            "text/plain": [
              "  asset  probability\n",
              "0  AAPL        0.062\n",
              "1  AMZN        0.190\n",
              "2   SPY        0.005\n",
              "3  TSLA        0.368\n",
              "4   IBM        0.341\n",
              "5   JNJ        0.034"
            ]
          },
          "execution_count": 90,
          "metadata": {},
          "output_type": "execute_result"
        }
      ],
      "source": [
        "# YOUR CHANGES HERE\n",
        "\n",
        "max_return_prob_df.to_csv('max_return_probabilities.tsv', sep='\\t', index=False)\n",
        "max_return_prob_df"
      ]
    },
    {
      "cell_type": "markdown",
      "metadata": {
        "id": "2Xd34FQ6txoj"
      },
      "source": [
        "Submit \"max_return_probabilities.tsv\" in Gradescope."
      ]
    },
    {
      "cell_type": "markdown",
      "metadata": {
        "id": "SYbJ21qUYvL_"
      },
      "source": [
        "## Part 9: Acknowledgments\n",
        "\n",
        "Make a file \"acknowledgments.txt\" documenting any outside sources or help on this project.\n",
        "If you discussed this assignment with anyone, please acknowledge them here.\n",
        "If you used any libraries not mentioned in this module's content, please list them with a brief explanation what you used them for.\n",
        "If you used any generative AI tools, please add links to your transcripts below, and any other information that you feel is necessary to comply with the generative AI policy.\n",
        "If no acknowledgements are appropriate, just write none in the file.\n"
      ]
    },
    {
      "cell_type": "markdown",
      "metadata": {
        "id": "H3oWYYHlt42V"
      },
      "source": [
        "Submit \"acknowledgements.txt\" in Gradescope."
      ]
    },
    {
      "cell_type": "markdown",
      "metadata": {
        "id": "b8FWiTjvwscA"
      },
      "source": [
        "## Part 10: Code\n",
        "\n",
        "Please submit a Jupyter notebook that can reproduce all your calculations and recreate the previously submitted files.\n",
        "You do not need to provide code for data collection if you did that by manually."
      ]
    },
    {
      "cell_type": "markdown",
      "metadata": {
        "id": "HDEYI-K8vcUW"
      },
      "source": [
        "Submit \"project.ipynb\" in Gradescope."
      ]
    }
  ],
  "metadata": {
    "colab": {
      "toc_visible": false
    },
    "kernelspec": {
      "display_name": "Python 3",
      "name": "python3"
    },
    "language_info": {
      "codemirror_mode": {
        "name": "ipython",
        "version": 3
      },
      "file_extension": ".py",
      "mimetype": "text/x-python",
      "name": "python",
      "nbconvert_exporter": "python",
      "pygments_lexer": "ipython3",
      "version": "3.12.1"
    }
  },
  "nbformat": 4,
  "nbformat_minor": 0
}
