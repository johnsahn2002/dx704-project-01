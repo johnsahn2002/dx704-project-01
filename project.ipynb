{
  "cells": [
    {
      "cell_type": "markdown",
      "metadata": {
        "id": "DDELa7o5UXrY"
      },
      "source": [
        "# DX 704 Week 1 Project\n",
        "\n",
        "This week's project will build a portfolio risk and return model, and make investing recommendations for hypothetical clients.\n",
        "You will collect historical data, estimate returns and risks, construct efficient frontier portfolios, and sanity check the certainty of the maximum return portfolio."
      ]
    },
    {
      "cell_type": "markdown",
      "metadata": {
        "id": "P6SxppNu8p8k"
      },
      "source": [
        "The full project description and a template notebook are available on GitHub at the following link.\n",
        "\n",
        "https://github.com/bu-cds-dx704/dx704-project-01\n"
      ]
    },
    {
      "cell_type": "markdown",
      "metadata": {
        "id": "GmIaQcdCwObV"
      },
      "source": [
        "Feel free to use optimization tools or libraries (such as CVXOPT or scipy.optimize) to perform any calculations required for this mini project."
      ]
    },
    {
      "cell_type": "markdown",
      "metadata": {},
      "source": [
        "### Example Code\n",
        "\n",
        "You may find it helpful to refer to these GitHub repositories of Jupyter notebooks for example code.\n",
        "\n",
        "* https://github.com/bu-cds-omds/dx601-examples\n",
        "* https://github.com/bu-cds-omds/dx602-examples\n",
        "* https://github.com/bu-cds-omds/dx603-examples\n",
        "* https://github.com/bu-cds-omds/dx704-examples\n",
        "\n",
        "Any calculations demonstrated in code examples or videos may be found in these notebooks, and you are allowed to copy this example code in your homework answers."
      ]
    },
    {
      "cell_type": "markdown",
      "metadata": {
        "id": "pv3PslO0V5Lm"
      },
      "source": [
        "## Part 1: Collect Data\n",
        "\n",
        "Collect historical monthly price data for the last 24 months covering 6 different stocks.\n",
        "The data should cover 24 consecutive months including the last month that ended before this week's material was released on Blackboard.\n",
        "To be clear, if a month ends between the Blackboard release and submitting your project, you do not need to add that month.\n",
        "\n",
        "The six different stocks must include AAPL, SPY and TSLA.\n",
        "At least one of the remaining 3 tickers must start with the same letter as your last name (e.g. professor Considine could use COIN).\n",
        "This is to encourage diversity in what stocks you analyze; if you discuss this project with classmates, please make sure that you pick different tickers to differentiate your work.\n",
        "Do not pick stocks with fewer than 24 consecutive months of price data."
      ]
    },
    {
      "cell_type": "code",
      "execution_count": 98,
      "metadata": {
        "id": "6pL-ppubxfvC"
      },
      "outputs": [
        {
          "data": {
            "text/html": [
              "<div>\n",
              "<style scoped>\n",
              "    .dataframe tbody tr th:only-of-type {\n",
              "        vertical-align: middle;\n",
              "    }\n",
              "\n",
              "    .dataframe tbody tr th {\n",
              "        vertical-align: top;\n",
              "    }\n",
              "\n",
              "    .dataframe thead th {\n",
              "        text-align: right;\n",
              "    }\n",
              "</style>\n",
              "<table border=\"1\" class=\"dataframe\">\n",
              "  <thead>\n",
              "    <tr style=\"text-align: right;\">\n",
              "      <th></th>\n",
              "      <th>AAPL</th>\n",
              "      <th>AMZN</th>\n",
              "      <th>SPY</th>\n",
              "      <th>TSLA</th>\n",
              "      <th>IBM</th>\n",
              "      <th>JNJ</th>\n",
              "    </tr>\n",
              "    <tr>\n",
              "      <th>Date</th>\n",
              "      <th></th>\n",
              "      <th></th>\n",
              "      <th></th>\n",
              "      <th></th>\n",
              "      <th></th>\n",
              "      <th></th>\n",
              "    </tr>\n",
              "  </thead>\n",
              "  <tbody>\n",
              "    <tr>\n",
              "      <th>2023-09</th>\n",
              "      <td>169.549286</td>\n",
              "      <td>127.120003</td>\n",
              "      <td>417.865631</td>\n",
              "      <td>250.220001</td>\n",
              "      <td>131.234131</td>\n",
              "      <td>146.245300</td>\n",
              "    </tr>\n",
              "    <tr>\n",
              "      <th>2023-10</th>\n",
              "      <td>169.113541</td>\n",
              "      <td>133.089996</td>\n",
              "      <td>408.794403</td>\n",
              "      <td>200.839996</td>\n",
              "      <td>135.293671</td>\n",
              "      <td>139.287491</td>\n",
              "    </tr>\n",
              "    <tr>\n",
              "      <th>2023-11</th>\n",
              "      <td>188.355331</td>\n",
              "      <td>146.089996</td>\n",
              "      <td>446.135223</td>\n",
              "      <td>240.080002</td>\n",
              "      <td>149.996262</td>\n",
              "      <td>146.384750</td>\n",
              "    </tr>\n",
              "    <tr>\n",
              "      <th>2023-12</th>\n",
              "      <td>190.913666</td>\n",
              "      <td>151.940002</td>\n",
              "      <td>466.503662</td>\n",
              "      <td>248.479996</td>\n",
              "      <td>154.716751</td>\n",
              "      <td>148.353470</td>\n",
              "    </tr>\n",
              "    <tr>\n",
              "      <th>2024-01</th>\n",
              "      <td>182.851898</td>\n",
              "      <td>155.199997</td>\n",
              "      <td>473.933411</td>\n",
              "      <td>187.289993</td>\n",
              "      <td>173.740601</td>\n",
              "      <td>150.397873</td>\n",
              "    </tr>\n",
              "    <tr>\n",
              "      <th>2024-02</th>\n",
              "      <td>179.461288</td>\n",
              "      <td>176.759995</td>\n",
              "      <td>498.666534</td>\n",
              "      <td>201.880005</td>\n",
              "      <td>176.632416</td>\n",
              "      <td>153.904953</td>\n",
              "    </tr>\n",
              "    <tr>\n",
              "      <th>2024-03</th>\n",
              "      <td>170.257370</td>\n",
              "      <td>180.380005</td>\n",
              "      <td>514.973938</td>\n",
              "      <td>175.789993</td>\n",
              "      <td>182.293304</td>\n",
              "      <td>150.862717</td>\n",
              "    </tr>\n",
              "    <tr>\n",
              "      <th>2024-04</th>\n",
              "      <td>169.115555</td>\n",
              "      <td>175.000000</td>\n",
              "      <td>494.210327</td>\n",
              "      <td>183.279999</td>\n",
              "      <td>158.656982</td>\n",
              "      <td>137.892670</td>\n",
              "    </tr>\n",
              "    <tr>\n",
              "      <th>2024-05</th>\n",
              "      <td>191.138184</td>\n",
              "      <td>176.440002</td>\n",
              "      <td>519.207275</td>\n",
              "      <td>178.080002</td>\n",
              "      <td>160.858643</td>\n",
              "      <td>141.006989</td>\n",
              "    </tr>\n",
              "    <tr>\n",
              "      <th>2024-06</th>\n",
              "      <td>209.401917</td>\n",
              "      <td>193.250000</td>\n",
              "      <td>537.525024</td>\n",
              "      <td>197.880005</td>\n",
              "      <td>166.739578</td>\n",
              "      <td>140.516678</td>\n",
              "    </tr>\n",
              "    <tr>\n",
              "      <th>2024-07</th>\n",
              "      <td>220.795654</td>\n",
              "      <td>186.979996</td>\n",
              "      <td>544.033997</td>\n",
              "      <td>232.070007</td>\n",
              "      <td>185.240509</td>\n",
              "      <td>151.755325</td>\n",
              "    </tr>\n",
              "    <tr>\n",
              "      <th>2024-08</th>\n",
              "      <td>227.939163</td>\n",
              "      <td>178.500000</td>\n",
              "      <td>556.745667</td>\n",
              "      <td>214.110001</td>\n",
              "      <td>196.576157</td>\n",
              "      <td>160.666336</td>\n",
              "    </tr>\n",
              "    <tr>\n",
              "      <th>2024-09</th>\n",
              "      <td>231.920639</td>\n",
              "      <td>186.330002</td>\n",
              "      <td>568.439941</td>\n",
              "      <td>261.630005</td>\n",
              "      <td>215.005478</td>\n",
              "      <td>156.985336</td>\n",
              "    </tr>\n",
              "    <tr>\n",
              "      <th>2024-10</th>\n",
              "      <td>224.863480</td>\n",
              "      <td>186.399994</td>\n",
              "      <td>563.367371</td>\n",
              "      <td>249.850006</td>\n",
              "      <td>201.040039</td>\n",
              "      <td>154.854233</td>\n",
              "    </tr>\n",
              "    <tr>\n",
              "      <th>2024-11</th>\n",
              "      <td>236.490463</td>\n",
              "      <td>207.889999</td>\n",
              "      <td>596.962891</td>\n",
              "      <td>345.160004</td>\n",
              "      <td>222.904556</td>\n",
              "      <td>151.360901</td>\n",
              "    </tr>\n",
              "    <tr>\n",
              "      <th>2024-12</th>\n",
              "      <td>249.534164</td>\n",
              "      <td>219.389999</td>\n",
              "      <td>582.599915</td>\n",
              "      <td>403.839996</td>\n",
              "      <td>215.474716</td>\n",
              "      <td>141.215515</td>\n",
              "    </tr>\n",
              "    <tr>\n",
              "      <th>2025-01</th>\n",
              "      <td>235.165192</td>\n",
              "      <td>237.679993</td>\n",
              "      <td>598.246399</td>\n",
              "      <td>404.600006</td>\n",
              "      <td>250.634064</td>\n",
              "      <td>148.568253</td>\n",
              "    </tr>\n",
              "    <tr>\n",
              "      <th>2025-02</th>\n",
              "      <td>241.249481</td>\n",
              "      <td>212.279999</td>\n",
              "      <td>590.651794</td>\n",
              "      <td>292.980011</td>\n",
              "      <td>249.087143</td>\n",
              "      <td>162.425110</td>\n",
              "    </tr>\n",
              "    <tr>\n",
              "      <th>2025-03</th>\n",
              "      <td>221.587616</td>\n",
              "      <td>190.259995</td>\n",
              "      <td>557.741150</td>\n",
              "      <td>259.160004</td>\n",
              "      <td>245.357330</td>\n",
              "      <td>163.232208</td>\n",
              "    </tr>\n",
              "    <tr>\n",
              "      <th>2025-04</th>\n",
              "      <td>211.981125</td>\n",
              "      <td>184.419998</td>\n",
              "      <td>552.905457</td>\n",
              "      <td>282.160004</td>\n",
              "      <td>238.608200</td>\n",
              "      <td>153.852066</td>\n",
              "    </tr>\n",
              "    <tr>\n",
              "      <th>2025-05</th>\n",
              "      <td>200.622314</td>\n",
              "      <td>205.009995</td>\n",
              "      <td>587.652771</td>\n",
              "      <td>346.459991</td>\n",
              "      <td>257.320221</td>\n",
              "      <td>154.079056</td>\n",
              "    </tr>\n",
              "    <tr>\n",
              "      <th>2025-06</th>\n",
              "      <td>204.937408</td>\n",
              "      <td>219.389999</td>\n",
              "      <td>617.849976</td>\n",
              "      <td>317.660004</td>\n",
              "      <td>292.800354</td>\n",
              "      <td>151.636978</td>\n",
              "    </tr>\n",
              "    <tr>\n",
              "      <th>2025-07</th>\n",
              "      <td>207.334702</td>\n",
              "      <td>234.110001</td>\n",
              "      <td>632.080017</td>\n",
              "      <td>308.269989</td>\n",
              "      <td>251.449905</td>\n",
              "      <td>163.539612</td>\n",
              "    </tr>\n",
              "    <tr>\n",
              "      <th>2025-08</th>\n",
              "      <td>232.139999</td>\n",
              "      <td>229.000000</td>\n",
              "      <td>645.049988</td>\n",
              "      <td>333.869995</td>\n",
              "      <td>243.490005</td>\n",
              "      <td>177.169998</td>\n",
              "    </tr>\n",
              "  </tbody>\n",
              "</table>\n",
              "</div>"
            ],
            "text/plain": [
              "               AAPL        AMZN         SPY        TSLA         IBM  \\\n",
              "Date                                                                  \n",
              "2023-09  169.549286  127.120003  417.865631  250.220001  131.234131   \n",
              "2023-10  169.113541  133.089996  408.794403  200.839996  135.293671   \n",
              "2023-11  188.355331  146.089996  446.135223  240.080002  149.996262   \n",
              "2023-12  190.913666  151.940002  466.503662  248.479996  154.716751   \n",
              "2024-01  182.851898  155.199997  473.933411  187.289993  173.740601   \n",
              "2024-02  179.461288  176.759995  498.666534  201.880005  176.632416   \n",
              "2024-03  170.257370  180.380005  514.973938  175.789993  182.293304   \n",
              "2024-04  169.115555  175.000000  494.210327  183.279999  158.656982   \n",
              "2024-05  191.138184  176.440002  519.207275  178.080002  160.858643   \n",
              "2024-06  209.401917  193.250000  537.525024  197.880005  166.739578   \n",
              "2024-07  220.795654  186.979996  544.033997  232.070007  185.240509   \n",
              "2024-08  227.939163  178.500000  556.745667  214.110001  196.576157   \n",
              "2024-09  231.920639  186.330002  568.439941  261.630005  215.005478   \n",
              "2024-10  224.863480  186.399994  563.367371  249.850006  201.040039   \n",
              "2024-11  236.490463  207.889999  596.962891  345.160004  222.904556   \n",
              "2024-12  249.534164  219.389999  582.599915  403.839996  215.474716   \n",
              "2025-01  235.165192  237.679993  598.246399  404.600006  250.634064   \n",
              "2025-02  241.249481  212.279999  590.651794  292.980011  249.087143   \n",
              "2025-03  221.587616  190.259995  557.741150  259.160004  245.357330   \n",
              "2025-04  211.981125  184.419998  552.905457  282.160004  238.608200   \n",
              "2025-05  200.622314  205.009995  587.652771  346.459991  257.320221   \n",
              "2025-06  204.937408  219.389999  617.849976  317.660004  292.800354   \n",
              "2025-07  207.334702  234.110001  632.080017  308.269989  251.449905   \n",
              "2025-08  232.139999  229.000000  645.049988  333.869995  243.490005   \n",
              "\n",
              "                JNJ  \n",
              "Date                 \n",
              "2023-09  146.245300  \n",
              "2023-10  139.287491  \n",
              "2023-11  146.384750  \n",
              "2023-12  148.353470  \n",
              "2024-01  150.397873  \n",
              "2024-02  153.904953  \n",
              "2024-03  150.862717  \n",
              "2024-04  137.892670  \n",
              "2024-05  141.006989  \n",
              "2024-06  140.516678  \n",
              "2024-07  151.755325  \n",
              "2024-08  160.666336  \n",
              "2024-09  156.985336  \n",
              "2024-10  154.854233  \n",
              "2024-11  151.360901  \n",
              "2024-12  141.215515  \n",
              "2025-01  148.568253  \n",
              "2025-02  162.425110  \n",
              "2025-03  163.232208  \n",
              "2025-04  153.852066  \n",
              "2025-05  154.079056  \n",
              "2025-06  151.636978  \n",
              "2025-07  163.539612  \n",
              "2025-08  177.169998  "
            ]
          },
          "execution_count": 98,
          "metadata": {},
          "output_type": "execute_result"
        }
      ],
      "source": [
        "# YOUR CHANGES HERE\n",
        "import cvxpy as cp\n",
        "import matplotlib.pyplot as plt \n",
        "import numpy as np \n",
        "import pandas as pd \n",
        "\n",
        "import yfinance as yf \n",
        "\n",
        "tickers = ['AAPL', 'AMZN', 'SPY', 'TSLA','IBM','JNJ']\n",
        "\n",
        "historical_prices = None\n",
        "\n",
        "for t in tickers:\n",
        "    ticker = yf.Ticker(t)\n",
        "    history = ticker.history(period='2y')\n",
        "\n",
        "    monthly_prices = history['Close'].resample('ME').last()\n",
        "\n",
        "    if historical_prices is None:\n",
        "        historical_prices = monthly_prices\n",
        "    else:\n",
        "        historical_prices = pd.concat([historical_prices, monthly_prices], axis = 1)\n",
        "...\n",
        "\n",
        "historical_prices.columns = tickers\n",
        "historical_prices.index = pd.to_datetime(historical_prices.index).strftime('%Y-%m')\n",
        "historical_prices = historical_prices.drop(historical_prices.index[24])\n",
        "\n",
        "historical_prices"
      ]
    },
    {
      "cell_type": "markdown",
      "metadata": {
        "id": "1uH9oDQ1rEQT"
      },
      "source": [
        "Save the data as a TSV file named \"historical_prices.tsv\" and include a header row with the column names \"date\" and the 6 stock ticker symbols.\n",
        "The date should be the last trading day of the month, so it may not be the last day of the month.\n",
        "For example, the last trading day of November 2024 was 2024-11-29.\n",
        "The remaining columns should contain the adjusted closing prices of the corresponding stock tickers on that day.\n"
      ]
    },
    {
      "cell_type": "code",
      "execution_count": 99,
      "metadata": {
        "id": "mHbwKHOhtQ3E"
      },
      "outputs": [],
      "source": [
        "# YOUR CHANGES HERE\n",
        "historical_prices.index.names = ['date']\n",
        "historical_prices.to_csv('historical_prices.tsv', sep='\\t')\n"
      ]
    },
    {
      "cell_type": "markdown",
      "metadata": {
        "id": "2hp0yuXPtT9V"
      },
      "source": [
        "Submit \"historical_prices.tsv\" in Gradescope."
      ]
    },
    {
      "cell_type": "markdown",
      "metadata": {
        "id": "7XdNVWWirUd5"
      },
      "source": [
        "## Part 2: Calculate Historical Asset Returns\n",
        "\n",
        "Calculate the historical asset returns based on the price data that you previously collected."
      ]
    },
    {
      "cell_type": "code",
      "execution_count": 100,
      "metadata": {
        "id": "aL-kVua2xex-"
      },
      "outputs": [
        {
          "data": {
            "text/html": [
              "<div>\n",
              "<style scoped>\n",
              "    .dataframe tbody tr th:only-of-type {\n",
              "        vertical-align: middle;\n",
              "    }\n",
              "\n",
              "    .dataframe tbody tr th {\n",
              "        vertical-align: top;\n",
              "    }\n",
              "\n",
              "    .dataframe thead th {\n",
              "        text-align: right;\n",
              "    }\n",
              "</style>\n",
              "<table border=\"1\" class=\"dataframe\">\n",
              "  <thead>\n",
              "    <tr style=\"text-align: right;\">\n",
              "      <th></th>\n",
              "      <th>AAPL</th>\n",
              "      <th>AMZN</th>\n",
              "      <th>SPY</th>\n",
              "      <th>TSLA</th>\n",
              "      <th>IBM</th>\n",
              "      <th>JNJ</th>\n",
              "    </tr>\n",
              "    <tr>\n",
              "      <th>date</th>\n",
              "      <th></th>\n",
              "      <th></th>\n",
              "      <th></th>\n",
              "      <th></th>\n",
              "      <th></th>\n",
              "      <th></th>\n",
              "    </tr>\n",
              "  </thead>\n",
              "  <tbody>\n",
              "    <tr>\n",
              "      <th>2023-10</th>\n",
              "      <td>-0.002570</td>\n",
              "      <td>0.046963</td>\n",
              "      <td>-0.021708</td>\n",
              "      <td>-0.197346</td>\n",
              "      <td>0.030934</td>\n",
              "      <td>-0.047576</td>\n",
              "    </tr>\n",
              "    <tr>\n",
              "      <th>2023-11</th>\n",
              "      <td>0.113780</td>\n",
              "      <td>0.097678</td>\n",
              "      <td>0.091344</td>\n",
              "      <td>0.195379</td>\n",
              "      <td>0.108672</td>\n",
              "      <td>0.050954</td>\n",
              "    </tr>\n",
              "    <tr>\n",
              "      <th>2023-12</th>\n",
              "      <td>0.013582</td>\n",
              "      <td>0.040044</td>\n",
              "      <td>0.045655</td>\n",
              "      <td>0.034988</td>\n",
              "      <td>0.031471</td>\n",
              "      <td>0.013449</td>\n",
              "    </tr>\n",
              "    <tr>\n",
              "      <th>2024-01</th>\n",
              "      <td>-0.042227</td>\n",
              "      <td>0.021456</td>\n",
              "      <td>0.015926</td>\n",
              "      <td>-0.246257</td>\n",
              "      <td>0.122959</td>\n",
              "      <td>0.013781</td>\n",
              "    </tr>\n",
              "    <tr>\n",
              "      <th>2024-02</th>\n",
              "      <td>-0.018543</td>\n",
              "      <td>0.138918</td>\n",
              "      <td>0.052187</td>\n",
              "      <td>0.077901</td>\n",
              "      <td>0.016644</td>\n",
              "      <td>0.023319</td>\n",
              "    </tr>\n",
              "    <tr>\n",
              "      <th>2024-03</th>\n",
              "      <td>-0.051286</td>\n",
              "      <td>0.020480</td>\n",
              "      <td>0.032702</td>\n",
              "      <td>-0.129235</td>\n",
              "      <td>0.032049</td>\n",
              "      <td>-0.019767</td>\n",
              "    </tr>\n",
              "    <tr>\n",
              "      <th>2024-04</th>\n",
              "      <td>-0.006706</td>\n",
              "      <td>-0.029826</td>\n",
              "      <td>-0.040320</td>\n",
              "      <td>0.042608</td>\n",
              "      <td>-0.129661</td>\n",
              "      <td>-0.085973</td>\n",
              "    </tr>\n",
              "    <tr>\n",
              "      <th>2024-05</th>\n",
              "      <td>0.130222</td>\n",
              "      <td>0.008229</td>\n",
              "      <td>0.050580</td>\n",
              "      <td>-0.028372</td>\n",
              "      <td>0.013877</td>\n",
              "      <td>0.022585</td>\n",
              "    </tr>\n",
              "    <tr>\n",
              "      <th>2024-06</th>\n",
              "      <td>0.095553</td>\n",
              "      <td>0.095273</td>\n",
              "      <td>0.035280</td>\n",
              "      <td>0.111186</td>\n",
              "      <td>0.036560</td>\n",
              "      <td>-0.003477</td>\n",
              "    </tr>\n",
              "    <tr>\n",
              "      <th>2024-07</th>\n",
              "      <td>0.054411</td>\n",
              "      <td>-0.032445</td>\n",
              "      <td>0.012109</td>\n",
              "      <td>0.172781</td>\n",
              "      <td>0.110957</td>\n",
              "      <td>0.079981</td>\n",
              "    </tr>\n",
              "    <tr>\n",
              "      <th>2024-08</th>\n",
              "      <td>0.032353</td>\n",
              "      <td>-0.045352</td>\n",
              "      <td>0.023366</td>\n",
              "      <td>-0.077390</td>\n",
              "      <td>0.061194</td>\n",
              "      <td>0.058720</td>\n",
              "    </tr>\n",
              "    <tr>\n",
              "      <th>2024-09</th>\n",
              "      <td>0.017467</td>\n",
              "      <td>0.043866</td>\n",
              "      <td>0.021005</td>\n",
              "      <td>0.221942</td>\n",
              "      <td>0.093752</td>\n",
              "      <td>-0.022911</td>\n",
              "    </tr>\n",
              "    <tr>\n",
              "      <th>2024-10</th>\n",
              "      <td>-0.030429</td>\n",
              "      <td>0.000376</td>\n",
              "      <td>-0.008924</td>\n",
              "      <td>-0.045025</td>\n",
              "      <td>-0.064954</td>\n",
              "      <td>-0.013575</td>\n",
              "    </tr>\n",
              "    <tr>\n",
              "      <th>2024-11</th>\n",
              "      <td>0.051707</td>\n",
              "      <td>0.115290</td>\n",
              "      <td>0.059633</td>\n",
              "      <td>0.381469</td>\n",
              "      <td>0.108757</td>\n",
              "      <td>-0.022559</td>\n",
              "    </tr>\n",
              "    <tr>\n",
              "      <th>2024-12</th>\n",
              "      <td>0.055155</td>\n",
              "      <td>0.055318</td>\n",
              "      <td>-0.024060</td>\n",
              "      <td>0.170008</td>\n",
              "      <td>-0.033332</td>\n",
              "      <td>-0.067028</td>\n",
              "    </tr>\n",
              "    <tr>\n",
              "      <th>2025-01</th>\n",
              "      <td>-0.057583</td>\n",
              "      <td>0.083367</td>\n",
              "      <td>0.026856</td>\n",
              "      <td>0.001882</td>\n",
              "      <td>0.163172</td>\n",
              "      <td>0.052067</td>\n",
              "    </tr>\n",
              "    <tr>\n",
              "      <th>2025-02</th>\n",
              "      <td>0.025872</td>\n",
              "      <td>-0.106866</td>\n",
              "      <td>-0.012695</td>\n",
              "      <td>-0.275877</td>\n",
              "      <td>-0.006172</td>\n",
              "      <td>0.093269</td>\n",
              "    </tr>\n",
              "    <tr>\n",
              "      <th>2025-03</th>\n",
              "      <td>-0.081500</td>\n",
              "      <td>-0.103731</td>\n",
              "      <td>-0.055719</td>\n",
              "      <td>-0.115435</td>\n",
              "      <td>-0.014974</td>\n",
              "      <td>0.004969</td>\n",
              "    </tr>\n",
              "    <tr>\n",
              "      <th>2025-04</th>\n",
              "      <td>-0.043353</td>\n",
              "      <td>-0.030695</td>\n",
              "      <td>-0.008670</td>\n",
              "      <td>0.088748</td>\n",
              "      <td>-0.027507</td>\n",
              "      <td>-0.057465</td>\n",
              "    </tr>\n",
              "    <tr>\n",
              "      <th>2025-05</th>\n",
              "      <td>-0.053584</td>\n",
              "      <td>0.111647</td>\n",
              "      <td>0.062845</td>\n",
              "      <td>0.227885</td>\n",
              "      <td>0.078422</td>\n",
              "      <td>0.001475</td>\n",
              "    </tr>\n",
              "    <tr>\n",
              "      <th>2025-06</th>\n",
              "      <td>0.021509</td>\n",
              "      <td>0.070143</td>\n",
              "      <td>0.051386</td>\n",
              "      <td>-0.083126</td>\n",
              "      <td>0.137883</td>\n",
              "      <td>-0.015850</td>\n",
              "    </tr>\n",
              "    <tr>\n",
              "      <th>2025-07</th>\n",
              "      <td>0.011698</td>\n",
              "      <td>0.067095</td>\n",
              "      <td>0.023032</td>\n",
              "      <td>-0.029560</td>\n",
              "      <td>-0.141224</td>\n",
              "      <td>0.078494</td>\n",
              "    </tr>\n",
              "    <tr>\n",
              "      <th>2025-08</th>\n",
              "      <td>0.119639</td>\n",
              "      <td>-0.021827</td>\n",
              "      <td>0.020520</td>\n",
              "      <td>0.083044</td>\n",
              "      <td>-0.031656</td>\n",
              "      <td>0.083346</td>\n",
              "    </tr>\n",
              "  </tbody>\n",
              "</table>\n",
              "</div>"
            ],
            "text/plain": [
              "             AAPL      AMZN       SPY      TSLA       IBM       JNJ\n",
              "date                                                               \n",
              "2023-10 -0.002570  0.046963 -0.021708 -0.197346  0.030934 -0.047576\n",
              "2023-11  0.113780  0.097678  0.091344  0.195379  0.108672  0.050954\n",
              "2023-12  0.013582  0.040044  0.045655  0.034988  0.031471  0.013449\n",
              "2024-01 -0.042227  0.021456  0.015926 -0.246257  0.122959  0.013781\n",
              "2024-02 -0.018543  0.138918  0.052187  0.077901  0.016644  0.023319\n",
              "2024-03 -0.051286  0.020480  0.032702 -0.129235  0.032049 -0.019767\n",
              "2024-04 -0.006706 -0.029826 -0.040320  0.042608 -0.129661 -0.085973\n",
              "2024-05  0.130222  0.008229  0.050580 -0.028372  0.013877  0.022585\n",
              "2024-06  0.095553  0.095273  0.035280  0.111186  0.036560 -0.003477\n",
              "2024-07  0.054411 -0.032445  0.012109  0.172781  0.110957  0.079981\n",
              "2024-08  0.032353 -0.045352  0.023366 -0.077390  0.061194  0.058720\n",
              "2024-09  0.017467  0.043866  0.021005  0.221942  0.093752 -0.022911\n",
              "2024-10 -0.030429  0.000376 -0.008924 -0.045025 -0.064954 -0.013575\n",
              "2024-11  0.051707  0.115290  0.059633  0.381469  0.108757 -0.022559\n",
              "2024-12  0.055155  0.055318 -0.024060  0.170008 -0.033332 -0.067028\n",
              "2025-01 -0.057583  0.083367  0.026856  0.001882  0.163172  0.052067\n",
              "2025-02  0.025872 -0.106866 -0.012695 -0.275877 -0.006172  0.093269\n",
              "2025-03 -0.081500 -0.103731 -0.055719 -0.115435 -0.014974  0.004969\n",
              "2025-04 -0.043353 -0.030695 -0.008670  0.088748 -0.027507 -0.057465\n",
              "2025-05 -0.053584  0.111647  0.062845  0.227885  0.078422  0.001475\n",
              "2025-06  0.021509  0.070143  0.051386 -0.083126  0.137883 -0.015850\n",
              "2025-07  0.011698  0.067095  0.023032 -0.029560 -0.141224  0.078494\n",
              "2025-08  0.119639 -0.021827  0.020520  0.083044 -0.031656  0.083346"
            ]
          },
          "execution_count": 100,
          "metadata": {},
          "output_type": "execute_result"
        }
      ],
      "source": [
        "# YOUR CHANGES HERE\n",
        "\n",
        "historical_returns = historical_prices.pct_change().dropna()\n",
        "historical_returns"
      ]
    },
    {
      "cell_type": "markdown",
      "metadata": {
        "id": "OjhEYCWOrIu3"
      },
      "source": [
        "Save the data as a TSV file named \"historical_returns.tsv\" and include a header row with the column names \"date\" and the 6 stock ticker symbols.\n",
        "Each row should have the date at the end of the month and the corresponding *relative* price changes.\n",
        "For example, if the previous price was \\$100 and the new price is \\$110, the return value should be 0.10.\n",
        "There should only be 23 rows of data in this file, since they are computed as the differences of 24 prices."
      ]
    },
    {
      "cell_type": "code",
      "execution_count": 101,
      "metadata": {
        "id": "cN-7q9QvvyKG"
      },
      "outputs": [],
      "source": [
        "# YOUR CHANGES HERE\n",
        "historical_returns.to_csv('historical_returns.tsv', sep='\\t')\n"
      ]
    },
    {
      "cell_type": "markdown",
      "metadata": {
        "id": "vyBtnCTUtfRq"
      },
      "source": [
        "Submit \"historical_returns.tsv\" in Gradescope."
      ]
    },
    {
      "cell_type": "markdown",
      "metadata": {
        "id": "MoCkf4ouV9IA"
      },
      "source": [
        "## Part 3: Estimate Returns\n",
        "\n",
        "Estimate the expected returns for each asset using the previously calculated return data.\n",
        "Just compute the average (mean) return for each asset over your data set; do not use other estimators that have been mentioned.\n",
        "This will serve as your estimate of expected return for each asset."
      ]
    },
    {
      "cell_type": "code",
      "execution_count": 102,
      "metadata": {
        "id": "N2iDEhSRxd2n"
      },
      "outputs": [
        {
          "data": {
            "text/html": [
              "<div>\n",
              "<style scoped>\n",
              "    .dataframe tbody tr th:only-of-type {\n",
              "        vertical-align: middle;\n",
              "    }\n",
              "\n",
              "    .dataframe tbody tr th {\n",
              "        vertical-align: top;\n",
              "    }\n",
              "\n",
              "    .dataframe thead th {\n",
              "        text-align: right;\n",
              "    }\n",
              "</style>\n",
              "<table border=\"1\" class=\"dataframe\">\n",
              "  <thead>\n",
              "    <tr style=\"text-align: right;\">\n",
              "      <th></th>\n",
              "      <th>estimated_return</th>\n",
              "    </tr>\n",
              "    <tr>\n",
              "      <th>asset</th>\n",
              "      <th></th>\n",
              "    </tr>\n",
              "  </thead>\n",
              "  <tbody>\n",
              "    <tr>\n",
              "      <th>AAPL</th>\n",
              "      <td>0.015442</td>\n",
              "    </tr>\n",
              "    <tr>\n",
              "      <th>AMZN</th>\n",
              "      <td>0.028061</td>\n",
              "    </tr>\n",
              "    <tr>\n",
              "      <th>SPY</th>\n",
              "      <td>0.019666</td>\n",
              "    </tr>\n",
              "    <tr>\n",
              "      <th>TSLA</th>\n",
              "      <td>0.025313</td>\n",
              "    </tr>\n",
              "    <tr>\n",
              "      <th>IBM</th>\n",
              "      <td>0.030340</td>\n",
              "    </tr>\n",
              "    <tr>\n",
              "      <th>JNJ</th>\n",
              "      <td>0.009575</td>\n",
              "    </tr>\n",
              "  </tbody>\n",
              "</table>\n",
              "</div>"
            ],
            "text/plain": [
              "       estimated_return\n",
              "asset                  \n",
              "AAPL           0.015442\n",
              "AMZN           0.028061\n",
              "SPY            0.019666\n",
              "TSLA           0.025313\n",
              "IBM            0.030340\n",
              "JNJ            0.009575"
            ]
          },
          "execution_count": 102,
          "metadata": {},
          "output_type": "execute_result"
        }
      ],
      "source": [
        "# YOUR CHANGES HERE\n",
        "\n",
        "estimated_returns = historical_returns.mean().to_frame('estimated_return')\n",
        "estimated_returns.index.name = 'asset'\n",
        "estimated_returns"
      ]
    },
    {
      "cell_type": "markdown",
      "metadata": {
        "id": "e5YTEwoarM2M"
      },
      "source": [
        "Save the estimated returns in a TSV file named \"estimated_returns.tsv\" and include a header row with the column names \"asset\" and \"estimated_return\"."
      ]
    },
    {
      "cell_type": "code",
      "execution_count": 103,
      "metadata": {
        "id": "At71YDpwvwUw"
      },
      "outputs": [],
      "source": [
        "# YOUR CHANGES HERE\n",
        "estimated_returns.to_csv('estimated_returns.tsv',sep='\\t')\n"
      ]
    },
    {
      "cell_type": "markdown",
      "metadata": {
        "id": "cjfnF-2Wtj6r"
      },
      "source": [
        "Submit \"estimated_returns.tsv\" in Gradescope."
      ]
    },
    {
      "cell_type": "markdown",
      "metadata": {
        "id": "VTuIqrkAWXVL"
      },
      "source": [
        "## Part 4: Estimate Risk\n",
        "\n",
        "Estimate the covariance matrix for the asset returns to understand how the assets move together."
      ]
    },
    {
      "cell_type": "code",
      "execution_count": 104,
      "metadata": {
        "id": "RFZfIkTMxcv7"
      },
      "outputs": [
        {
          "data": {
            "text/html": [
              "<div>\n",
              "<style scoped>\n",
              "    .dataframe tbody tr th:only-of-type {\n",
              "        vertical-align: middle;\n",
              "    }\n",
              "\n",
              "    .dataframe tbody tr th {\n",
              "        vertical-align: top;\n",
              "    }\n",
              "\n",
              "    .dataframe thead th {\n",
              "        text-align: right;\n",
              "    }\n",
              "</style>\n",
              "<table border=\"1\" class=\"dataframe\">\n",
              "  <thead>\n",
              "    <tr style=\"text-align: right;\">\n",
              "      <th></th>\n",
              "      <th>AAPL</th>\n",
              "      <th>AMZN</th>\n",
              "      <th>SPY</th>\n",
              "      <th>TSLA</th>\n",
              "      <th>IBM</th>\n",
              "      <th>JNJ</th>\n",
              "    </tr>\n",
              "  </thead>\n",
              "  <tbody>\n",
              "    <tr>\n",
              "      <th>AAPL</th>\n",
              "      <td>0.003627</td>\n",
              "      <td>0.000449</td>\n",
              "      <td>0.000832</td>\n",
              "      <td>0.003255</td>\n",
              "      <td>0.000116</td>\n",
              "      <td>0.000875</td>\n",
              "    </tr>\n",
              "    <tr>\n",
              "      <th>AMZN</th>\n",
              "      <td>0.000449</td>\n",
              "      <td>0.004512</td>\n",
              "      <td>0.001666</td>\n",
              "      <td>0.005571</td>\n",
              "      <td>0.001888</td>\n",
              "      <td>-0.000537</td>\n",
              "    </tr>\n",
              "    <tr>\n",
              "      <th>SPY</th>\n",
              "      <td>0.000832</td>\n",
              "      <td>0.001666</td>\n",
              "      <td>0.001292</td>\n",
              "      <td>0.002421</td>\n",
              "      <td>0.001560</td>\n",
              "      <td>0.000578</td>\n",
              "    </tr>\n",
              "    <tr>\n",
              "      <th>TSLA</th>\n",
              "      <td>0.003255</td>\n",
              "      <td>0.005571</td>\n",
              "      <td>0.002421</td>\n",
              "      <td>0.026703</td>\n",
              "      <td>0.002128</td>\n",
              "      <td>-0.001351</td>\n",
              "    </tr>\n",
              "    <tr>\n",
              "      <th>IBM</th>\n",
              "      <td>0.000116</td>\n",
              "      <td>0.001888</td>\n",
              "      <td>0.001560</td>\n",
              "      <td>0.002128</td>\n",
              "      <td>0.006505</td>\n",
              "      <td>0.000691</td>\n",
              "    </tr>\n",
              "    <tr>\n",
              "      <th>JNJ</th>\n",
              "      <td>0.000875</td>\n",
              "      <td>-0.000537</td>\n",
              "      <td>0.000578</td>\n",
              "      <td>-0.001351</td>\n",
              "      <td>0.000691</td>\n",
              "      <td>0.002528</td>\n",
              "    </tr>\n",
              "  </tbody>\n",
              "</table>\n",
              "</div>"
            ],
            "text/plain": [
              "          AAPL      AMZN       SPY      TSLA       IBM       JNJ\n",
              "AAPL  0.003627  0.000449  0.000832  0.003255  0.000116  0.000875\n",
              "AMZN  0.000449  0.004512  0.001666  0.005571  0.001888 -0.000537\n",
              "SPY   0.000832  0.001666  0.001292  0.002421  0.001560  0.000578\n",
              "TSLA  0.003255  0.005571  0.002421  0.026703  0.002128 -0.001351\n",
              "IBM   0.000116  0.001888  0.001560  0.002128  0.006505  0.000691\n",
              "JNJ   0.000875 -0.000537  0.000578 -0.001351  0.000691  0.002528"
            ]
          },
          "execution_count": 104,
          "metadata": {},
          "output_type": "execute_result"
        }
      ],
      "source": [
        "# YOUR CHANGES HERE\n",
        "estimated_covariance = historical_returns.cov()\n",
        "\n",
        "estimated_covariance.index.name = None\n",
        "estimated_covariance.columns.name = None\n",
        "estimated_covariance\n",
        "\n"
      ]
    },
    {
      "cell_type": "markdown",
      "metadata": {
        "id": "sOmn4s_yr5qn"
      },
      "source": [
        "Save the estimated covariances to a TSV file named \"estimated_covariance.tsv\".\n",
        "The header row should have a blank column name followed by the names of the assets.\n",
        "Each data row should start with the name of an asset for that row, and be followed by the individual covariances corresponding to that row and column's assets.\n",
        "(This is the format of pandas's `to_csv` method with `sep=\"\\t\"` when used on a covariance matrix as computed in the examples.)"
      ]
    },
    {
      "cell_type": "code",
      "execution_count": 105,
      "metadata": {
        "id": "Te-NPQxSvuXm"
      },
      "outputs": [],
      "source": [
        "# YOUR CHANGES HERE\n",
        "estimated_covariance.to_csv('estimated_covariance.tsv', sep='\\t')\n"
      ]
    },
    {
      "cell_type": "markdown",
      "metadata": {
        "id": "lS9vek0btoK6"
      },
      "source": [
        "Submit \"estimated_covariance.tsv\" in Gradescope."
      ]
    },
    {
      "cell_type": "markdown",
      "metadata": {
        "id": "C8rC5Eo3sEme"
      },
      "source": [
        "## Part 5: Construct the Maximum Return Portfolio\n",
        "\n",
        "Compute the maximum return portfolio based on your previously estimated risks and returns."
      ]
    },
    {
      "cell_type": "code",
      "execution_count": 106,
      "metadata": {
        "id": "8LW0KKm-xb2I"
      },
      "outputs": [
        {
          "data": {
            "text/html": [
              "<div>\n",
              "<style scoped>\n",
              "    .dataframe tbody tr th:only-of-type {\n",
              "        vertical-align: middle;\n",
              "    }\n",
              "\n",
              "    .dataframe tbody tr th {\n",
              "        vertical-align: top;\n",
              "    }\n",
              "\n",
              "    .dataframe thead th {\n",
              "        text-align: right;\n",
              "    }\n",
              "</style>\n",
              "<table border=\"1\" class=\"dataframe\">\n",
              "  <thead>\n",
              "    <tr style=\"text-align: right;\">\n",
              "      <th></th>\n",
              "      <th>allocation</th>\n",
              "    </tr>\n",
              "    <tr>\n",
              "      <th>asset</th>\n",
              "      <th></th>\n",
              "    </tr>\n",
              "  </thead>\n",
              "  <tbody>\n",
              "    <tr>\n",
              "      <th>AAPL</th>\n",
              "      <td>0.0</td>\n",
              "    </tr>\n",
              "    <tr>\n",
              "      <th>AMZN</th>\n",
              "      <td>0.0</td>\n",
              "    </tr>\n",
              "    <tr>\n",
              "      <th>SPY</th>\n",
              "      <td>0.0</td>\n",
              "    </tr>\n",
              "    <tr>\n",
              "      <th>TSLA</th>\n",
              "      <td>0.0</td>\n",
              "    </tr>\n",
              "    <tr>\n",
              "      <th>IBM</th>\n",
              "      <td>1.0</td>\n",
              "    </tr>\n",
              "    <tr>\n",
              "      <th>JNJ</th>\n",
              "      <td>0.0</td>\n",
              "    </tr>\n",
              "  </tbody>\n",
              "</table>\n",
              "</div>"
            ],
            "text/plain": [
              "       allocation\n",
              "asset            \n",
              "AAPL          0.0\n",
              "AMZN          0.0\n",
              "SPY           0.0\n",
              "TSLA          0.0\n",
              "IBM           1.0\n",
              "JNJ           0.0"
            ]
          },
          "execution_count": 106,
          "metadata": {},
          "output_type": "execute_result"
        }
      ],
      "source": [
        "# YOUR CHANGES HERE\n",
        "max_return_asset = estimated_returns['estimated_return'].idxmax()\n",
        "\n",
        "allocation = pd.Series(0.0, index=estimated_returns.index)\n",
        "allocation[max_return_asset] = 1.0\n",
        "\n",
        "maximum_return_portfolio = allocation.to_frame('allocation')\n",
        "maximum_return_portfolio.index.name = 'asset'\n",
        "maximum_return_portfolio"
      ]
    },
    {
      "cell_type": "markdown",
      "metadata": {
        "id": "jjPOxui5sLTD"
      },
      "source": [
        "Save the maximum return portfolio in a TSV file named \"maximum_return.tsv\".\n",
        "The header row should have two columns, \"asset\" and \"allocation\".\n",
        "The allocation values should sum up to one.\n"
      ]
    },
    {
      "cell_type": "code",
      "execution_count": 107,
      "metadata": {
        "id": "xLl_j8z1vtiT"
      },
      "outputs": [],
      "source": [
        "# YOUR CHANGES HERE\n",
        "\n",
        "maximum_return_portfolio.to_csv('maximum_return.tsv', sep='\\t')"
      ]
    },
    {
      "cell_type": "markdown",
      "metadata": {
        "id": "4bm3xrxptqJ2"
      },
      "source": [
        "Submit \"maximum_return.tsv\" in Gradescope."
      ]
    },
    {
      "cell_type": "markdown",
      "metadata": {
        "id": "r_QxQ5NpsL-c"
      },
      "source": [
        "## Part 6: Construct the Minimum Risk Portfolio\n",
        "\n",
        "Compute the minimum return portfolio based on your previously estimated risks and returns."
      ]
    },
    {
      "cell_type": "code",
      "execution_count": 108,
      "metadata": {
        "id": "daHSqhv9xbIF"
      },
      "outputs": [
        {
          "data": {
            "text/plain": [
              "estimated_return    0.016934\n",
              "dtype: float64"
            ]
          },
          "execution_count": 108,
          "metadata": {},
          "output_type": "execute_result"
        }
      ],
      "source": [
        "# YOUR CHANGES HERE\n",
        "\n",
        "n = len(estimated_returns)\n",
        "\n",
        "x_minimum_risk = cp.Variable(n)\n",
        "\n",
        "objective_minimum_risk = cp.Minimize(x_minimum_risk.T @ estimated_covariance.to_numpy() @ x_minimum_risk)\n",
        "objective_minimum_risk\n",
        "\n",
        "prob_minimum_risk = cp.Problem(objective_minimum_risk,\n",
        "                               [0 <= x_minimum_risk,\n",
        "                                cp.sum(x_minimum_risk) == 1])\n",
        "\n",
        "covariance_minimum_risk = prob_minimum_risk.solve()\n",
        "covariance_minimum_risk\n",
        "\n",
        "estimated_return_minimum_risk = x_minimum_risk.value.T @ estimated_returns\n",
        "estimated_return_minimum_risk"
      ]
    },
    {
      "cell_type": "markdown",
      "metadata": {
        "id": "wzldkIPxsQor"
      },
      "source": [
        "Save the minimum risk portfolio in a TSV file named \"minimum_risk.tsv\".\n",
        "The header row should have two columns, \"asset\" and \"allocation\".\n",
        "The allocation values should sum up to one.\n"
      ]
    },
    {
      "cell_type": "code",
      "execution_count": 109,
      "metadata": {
        "id": "YRXccAflvrBZ"
      },
      "outputs": [],
      "source": [
        "# YOUR CHANGES HERE\n",
        "optimal_weights = x_minimum_risk.value\n",
        "\n",
        "# Create the DataFrame with the optimal weights\n",
        "minimum_risk_portfolio = pd.DataFrame({\n",
        "    'allocation': optimal_weights\n",
        "}, index=estimated_returns.index)\n",
        "\n",
        "# Set the index name to 'asset'\n",
        "minimum_risk_portfolio.index.name = 'asset'\n",
        "\n",
        "# Save to TSV file\n",
        "minimum_risk_portfolio.to_csv('minimum_risk.tsv', sep='\\t')\n"
      ]
    },
    {
      "cell_type": "markdown",
      "metadata": {
        "id": "P5gy_XETtsoi"
      },
      "source": [
        "Submit \"minimum_risk.tsv\" in Gradescope."
      ]
    },
    {
      "cell_type": "markdown",
      "metadata": {
        "id": "mzyJGWDvWhva"
      },
      "source": [
        "## Part 7: Build Efficient Frontier Portfolios\n",
        "\n",
        "Compute 101 portfolios along the mean-variance efficient frontier with evenly spaced estimated returns.\n",
        "The first portfolio should be the minimum risk portfolio from part 4, and the last portfolio should be the maximum return portfolio from part 3.\n",
        "The estimated return of each portfolio should be higher than the previous by one percent of the difference between the first and last portfolios.\n",
        "That is, the estimated return of the portfolios should be similar to `np.linspace(min_risk_return, max_return, 101)`.\n"
      ]
    },
    {
      "cell_type": "code",
      "execution_count": 126,
      "metadata": {
        "id": "XaR6mKwvxZ4W"
      },
      "outputs": [
        {
          "name": "stderr",
          "output_type": "stream",
          "text": [
            "/tmp/ipykernel_2023/3008710168.py:20: DeprecationWarning: Conversion of an array with ndim > 0 to a scalar is deprecated, and will error in future. Ensure you extract a single element from your array before performing this operation. (Deprecated NumPy 1.25.)\n",
            "  ef_returns.append(float(r))\n"
          ]
        }
      ],
      "source": [
        "ef_variances = []\n",
        "ef_returns = []\n",
        "ef_portfolios = []\n",
        "\n",
        "min_risk_return = minimum_risk_portfolio.T @ estimated_returns['estimated_return'] \n",
        "max_return_return = maximum_return_portfolio.T @ estimated_returns['estimated_return']\n",
        "\n",
        "for r in np.linspace(min_risk_return, max_return_return, 101):\n",
        "    x_r = cp.Variable(n)\n",
        "    \n",
        "    prob_r = cp.Problem(cp.Minimize(x_r.T @ estimated_covariance.to_numpy() @ x_r),\n",
        "                       [x_r >= 0,\n",
        "                        cp.sum(x_r) == 1,\n",
        "                        x_r.T @ estimated_returns['estimated_return'].values == r])\n",
        "    \n",
        "    prob_r.solve()\n",
        "    \n",
        "    if x_r.value is not None: \n",
        "        ef_variances.append(float(prob_r.value))\n",
        "        ef_returns.append(float(r))\n",
        "        ef_portfolios.append(x_r.value)\n",
        "\n",
        "# Convert to numpy array with explicit dtype\n",
        "ef_portfolios = np.asarray(ef_portfolios, dtype=np.float64)\n",
        "\n",
        "# YOUR CHANGES HERE\n",
        "# Ensure variances are numeric and calculate std devs\n",
        "ef_variances = np.asarray(ef_variances, dtype=np.float64)\n",
        "ef_returns = np.asarray(ef_returns, dtype=np.float64)\n",
        "ef_std_devs = np.sqrt(ef_variances)\n"
      ]
    },
    {
      "cell_type": "markdown",
      "metadata": {
        "id": "8e3WwTJvsDzh"
      },
      "source": [
        "Save the portfolios in a TSV file named \"efficient_frontier.tsv\".\n",
        "The header row should have columns \"index\", \"return\", \"risk\", and all the asset tickers.\n",
        "Each data row should have the portfolio index (0-100), the estimated return of the portfolio, the estimated standard deviation (not variance) of the portfolio, and all the asset allocations (which should sum to one)."
      ]
    },
    {
      "cell_type": "code",
      "execution_count": 127,
      "metadata": {
        "id": "e9DKadyNvniT"
      },
      "outputs": [],
      "source": [
        "# YOUR CHANGES HERE\n",
        "ef_std_devs = [np.sqrt(var) for var in ef_variances]\n",
        "\n",
        "# Create the DataFrame\n",
        "efficient_frontier_df = pd.DataFrame({\n",
        "    'index': range(len(ef_returns)),\n",
        "    'return': ef_returns,\n",
        "    'risk': ef_std_devs\n",
        "})\n",
        "\n",
        "# Add asset allocation columns using your existing ef_portfolios\n",
        "asset_names = estimated_returns.index.tolist()\n",
        "for i, asset in enumerate(asset_names):\n",
        "    efficient_frontier_df[asset] = ef_portfolios[:, i]\n",
        "\n",
        "# Save to TSV file\n",
        "efficient_frontier_df.to_csv('efficient_frontier.tsv', sep='\\t', index=False)\n",
        "\n"
      ]
    },
    {
      "cell_type": "code",
      "execution_count": 124,
      "metadata": {},
      "outputs": [
        {
          "data": {
            "text/plain": [
              "dtype('O')"
            ]
          },
          "execution_count": 124,
          "metadata": {},
          "output_type": "execute_result"
        }
      ],
      "source": [
        "efficient_frontier_df\n",
        "efficient_frontier_df['return'].dtypes"
      ]
    },
    {
      "cell_type": "markdown",
      "metadata": {
        "id": "jiOa06rItvbs"
      },
      "source": [
        "Submit \"efficient_frontier.tsv\" in Gradescope."
      ]
    },
    {
      "cell_type": "markdown",
      "metadata": {
        "id": "LoW0XBXAzzR6"
      },
      "source": [
        "## Part 8: Check Maximum Return Portfolio Stability\n",
        "\n",
        "Check the stability of the maximum return portfolio by resampling the estimated risk/return model.\n",
        "\n",
        "Repeat 1000 times -\n",
        "1. Use `np.random.multivariate_normal` to generate 23 return samples using your previously estimated risks and returns.\n",
        "2. Estimate the return of each asset using that resampled return history.\n",
        "3. Check which asset had the highest return in those resampled estimates.\n",
        "\n",
        "This procedure is a reduced and simplified version of the Michaud resampled efficient frontier procedure that takes uncertainty in the risk model into account."
      ]
    },
    {
      "cell_type": "code",
      "execution_count": 113,
      "metadata": {
        "id": "Xfke5V57xYvT"
      },
      "outputs": [],
      "source": [
        "# YOUR CHANGES HERE\n",
        "\n",
        "n_simulations = 1000\n",
        "n_samples = 23\n",
        "max_return_assets = []\n",
        "\n",
        "mean_returns = estimated_returns['estimated_return'].values\n",
        "asset_names = estimated_returns.index.tolist()\n",
        "\n",
        "for i in range(n_simulations):\n",
        "    random_returns = np.random.multivariate_normal(mean_returns, estimated_covariance, n_samples)\n",
        "\n",
        "    resampled_mean_returns = np.mean(random_returns, axis=0)\n",
        "\n",
        "    best_asset_index = np.argmax(resampled_mean_returns)\n",
        "    best_asset_name = asset_names[best_asset_index]\n",
        "    max_return_assets.append(best_asset_name)\n",
        "\n",
        "asset_probabilities = {}\n",
        "for asset in asset_names:\n",
        "    count = max_return_assets.count(asset)  \n",
        "    probability = count / n_simulations\n",
        "    asset_probabilities[asset] = probability\n",
        "\n",
        "max_return_prob_df = pd.DataFrame({\n",
        "    'asset': list(asset_probabilities.keys()),\n",
        "    'probability': list(asset_probabilities.values())\n",
        "})\n",
        "\n",
        "\n"
      ]
    },
    {
      "cell_type": "markdown",
      "metadata": {
        "id": "fes_ScDyz0jp"
      },
      "source": [
        "Save a file \"max_return_probabilities.tsv\" with the distribution of highest return assets.\n",
        "The header row should have columns \"asset\" and \"probability\".\n",
        "There should be a data row for each asset and its sample probability of having the highest return based on those 1000 resampled estimates.\n"
      ]
    },
    {
      "cell_type": "code",
      "execution_count": 114,
      "metadata": {
        "id": "ZAjr15ASvj1S"
      },
      "outputs": [
        {
          "data": {
            "text/html": [
              "<div>\n",
              "<style scoped>\n",
              "    .dataframe tbody tr th:only-of-type {\n",
              "        vertical-align: middle;\n",
              "    }\n",
              "\n",
              "    .dataframe tbody tr th {\n",
              "        vertical-align: top;\n",
              "    }\n",
              "\n",
              "    .dataframe thead th {\n",
              "        text-align: right;\n",
              "    }\n",
              "</style>\n",
              "<table border=\"1\" class=\"dataframe\">\n",
              "  <thead>\n",
              "    <tr style=\"text-align: right;\">\n",
              "      <th></th>\n",
              "      <th>asset</th>\n",
              "      <th>probability</th>\n",
              "    </tr>\n",
              "  </thead>\n",
              "  <tbody>\n",
              "    <tr>\n",
              "      <th>0</th>\n",
              "      <td>AAPL</td>\n",
              "      <td>0.053</td>\n",
              "    </tr>\n",
              "    <tr>\n",
              "      <th>1</th>\n",
              "      <td>AMZN</td>\n",
              "      <td>0.215</td>\n",
              "    </tr>\n",
              "    <tr>\n",
              "      <th>2</th>\n",
              "      <td>SPY</td>\n",
              "      <td>0.004</td>\n",
              "    </tr>\n",
              "    <tr>\n",
              "      <th>3</th>\n",
              "      <td>TSLA</td>\n",
              "      <td>0.339</td>\n",
              "    </tr>\n",
              "    <tr>\n",
              "      <th>4</th>\n",
              "      <td>IBM</td>\n",
              "      <td>0.362</td>\n",
              "    </tr>\n",
              "    <tr>\n",
              "      <th>5</th>\n",
              "      <td>JNJ</td>\n",
              "      <td>0.027</td>\n",
              "    </tr>\n",
              "  </tbody>\n",
              "</table>\n",
              "</div>"
            ],
            "text/plain": [
              "  asset  probability\n",
              "0  AAPL        0.053\n",
              "1  AMZN        0.215\n",
              "2   SPY        0.004\n",
              "3  TSLA        0.339\n",
              "4   IBM        0.362\n",
              "5   JNJ        0.027"
            ]
          },
          "execution_count": 114,
          "metadata": {},
          "output_type": "execute_result"
        }
      ],
      "source": [
        "# YOUR CHANGES HERE\n",
        "\n",
        "max_return_prob_df.to_csv('max_return_probabilities.tsv', sep='\\t', index=False)\n",
        "max_return_prob_df"
      ]
    },
    {
      "cell_type": "markdown",
      "metadata": {
        "id": "2Xd34FQ6txoj"
      },
      "source": [
        "Submit \"max_return_probabilities.tsv\" in Gradescope."
      ]
    },
    {
      "cell_type": "markdown",
      "metadata": {
        "id": "SYbJ21qUYvL_"
      },
      "source": [
        "## Part 9: Acknowledgments\n",
        "\n",
        "Make a file \"acknowledgments.txt\" documenting any outside sources or help on this project.\n",
        "If you discussed this assignment with anyone, please acknowledge them here.\n",
        "If you used any libraries not mentioned in this module's content, please list them with a brief explanation what you used them for.\n",
        "If you used any generative AI tools, please add links to your transcripts below, and any other information that you feel is necessary to comply with the generative AI policy.\n",
        "If no acknowledgements are appropriate, just write none in the file.\n"
      ]
    },
    {
      "cell_type": "markdown",
      "metadata": {
        "id": "H3oWYYHlt42V"
      },
      "source": [
        "Submit \"acknowledgements.txt\" in Gradescope."
      ]
    },
    {
      "cell_type": "markdown",
      "metadata": {
        "id": "b8FWiTjvwscA"
      },
      "source": [
        "## Part 10: Code\n",
        "\n",
        "Please submit a Jupyter notebook that can reproduce all your calculations and recreate the previously submitted files.\n",
        "You do not need to provide code for data collection if you did that by manually."
      ]
    },
    {
      "cell_type": "markdown",
      "metadata": {
        "id": "HDEYI-K8vcUW"
      },
      "source": [
        "Submit \"project.ipynb\" in Gradescope."
      ]
    }
  ],
  "metadata": {
    "colab": {
      "toc_visible": false
    },
    "kernelspec": {
      "display_name": "Python 3",
      "name": "python3"
    },
    "language_info": {
      "codemirror_mode": {
        "name": "ipython",
        "version": 3
      },
      "file_extension": ".py",
      "mimetype": "text/x-python",
      "name": "python",
      "nbconvert_exporter": "python",
      "pygments_lexer": "ipython3",
      "version": "3.12.1"
    }
  },
  "nbformat": 4,
  "nbformat_minor": 0
}
